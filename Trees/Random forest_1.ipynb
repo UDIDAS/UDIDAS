{
 "cells": [
  {
   "cell_type": "code",
   "execution_count": 1,
   "metadata": {},
   "outputs": [],
   "source": [
    "import pandas as pd"
   ]
  },
  {
   "cell_type": "code",
   "execution_count": 2,
   "metadata": {},
   "outputs": [],
   "source": [
    "df=pd.read_csv('C:/Users/udipt/Desktop/Websoft/Assignment/DataScienceCaseStudy/dataSample.csv')"
   ]
  },
  {
   "cell_type": "code",
   "execution_count": 3,
   "metadata": {
    "collapsed": true
   },
   "outputs": [
    {
     "name": "stdout",
     "output_type": "stream",
     "text": [
      "<class 'pandas.core.frame.DataFrame'>\n",
      "RangeIndex: 16162 entries, 0 to 16161\n",
      "Data columns (total 11 columns):\n",
      "Unnamed: 0               16162 non-null int64\n",
      "ID                       16162 non-null int64\n",
      "Type                     16162 non-null object\n",
      "event_timestamp          16162 non-null int64\n",
      "event_label              16162 non-null object\n",
      "log_timestamp            16162 non-null int64\n",
      "log_reading_1            15848 non-null float64\n",
      "log_reading_2            15883 non-null object\n",
      "log_reading_3            15843 non-null float64\n",
      "log_reading_4            16162 non-null int64\n",
      "warranty_service_flag    1389 non-null object\n",
      "dtypes: float64(2), int64(5), object(4)\n",
      "memory usage: 1.4+ MB\n"
     ]
    }
   ],
   "source": [
    "df.info()"
   ]
  },
  {
   "cell_type": "markdown",
   "metadata": {},
   "source": [
    "# Non-numerical values"
   ]
  },
  {
   "cell_type": "code",
   "execution_count": 6,
   "metadata": {
    "collapsed": true
   },
   "outputs": [
    {
     "data": {
      "text/html": [
       "<div>\n",
       "<style scoped>\n",
       "    .dataframe tbody tr th:only-of-type {\n",
       "        vertical-align: middle;\n",
       "    }\n",
       "\n",
       "    .dataframe tbody tr th {\n",
       "        vertical-align: top;\n",
       "    }\n",
       "\n",
       "    .dataframe thead th {\n",
       "        text-align: right;\n",
       "    }\n",
       "</style>\n",
       "<table border=\"1\" class=\"dataframe\">\n",
       "  <thead>\n",
       "    <tr style=\"text-align: right;\">\n",
       "      <th></th>\n",
       "      <th>Unnamed: 0</th>\n",
       "      <th>ID</th>\n",
       "      <th>event_timestamp</th>\n",
       "      <th>log_timestamp</th>\n",
       "      <th>log_reading_1</th>\n",
       "      <th>log_reading_3</th>\n",
       "      <th>log_reading_4</th>\n",
       "      <th>Type_TypeA</th>\n",
       "      <th>Type_TypeB</th>\n",
       "      <th>event_label_activate</th>\n",
       "      <th>event_label_break</th>\n",
       "      <th>log_reading_2_a</th>\n",
       "      <th>log_reading_2_b</th>\n",
       "      <th>log_reading_2_c</th>\n",
       "      <th>warranty_service_flag_n</th>\n",
       "      <th>warranty_service_flag_y</th>\n",
       "    </tr>\n",
       "  </thead>\n",
       "  <tbody>\n",
       "    <tr>\n",
       "      <td>0</td>\n",
       "      <td>0</td>\n",
       "      <td>716013</td>\n",
       "      <td>1432329808</td>\n",
       "      <td>1432084088</td>\n",
       "      <td>10.0</td>\n",
       "      <td>10.0</td>\n",
       "      <td>7</td>\n",
       "      <td>1</td>\n",
       "      <td>0</td>\n",
       "      <td>1</td>\n",
       "      <td>0</td>\n",
       "      <td>0</td>\n",
       "      <td>1</td>\n",
       "      <td>0</td>\n",
       "      <td>0</td>\n",
       "      <td>0</td>\n",
       "    </tr>\n",
       "    <tr>\n",
       "      <td>1</td>\n",
       "      <td>1</td>\n",
       "      <td>716013</td>\n",
       "      <td>1539877380</td>\n",
       "      <td>1432084088</td>\n",
       "      <td>10.0</td>\n",
       "      <td>10.0</td>\n",
       "      <td>7</td>\n",
       "      <td>1</td>\n",
       "      <td>0</td>\n",
       "      <td>0</td>\n",
       "      <td>1</td>\n",
       "      <td>0</td>\n",
       "      <td>1</td>\n",
       "      <td>0</td>\n",
       "      <td>0</td>\n",
       "      <td>0</td>\n",
       "    </tr>\n",
       "    <tr>\n",
       "      <td>2</td>\n",
       "      <td>2</td>\n",
       "      <td>716013</td>\n",
       "      <td>1539879425</td>\n",
       "      <td>1432084088</td>\n",
       "      <td>10.0</td>\n",
       "      <td>10.0</td>\n",
       "      <td>7</td>\n",
       "      <td>1</td>\n",
       "      <td>0</td>\n",
       "      <td>1</td>\n",
       "      <td>0</td>\n",
       "      <td>0</td>\n",
       "      <td>1</td>\n",
       "      <td>0</td>\n",
       "      <td>0</td>\n",
       "      <td>0</td>\n",
       "    </tr>\n",
       "    <tr>\n",
       "      <td>3</td>\n",
       "      <td>3</td>\n",
       "      <td>716013</td>\n",
       "      <td>1539956727</td>\n",
       "      <td>1432084088</td>\n",
       "      <td>10.0</td>\n",
       "      <td>10.0</td>\n",
       "      <td>7</td>\n",
       "      <td>1</td>\n",
       "      <td>0</td>\n",
       "      <td>0</td>\n",
       "      <td>1</td>\n",
       "      <td>0</td>\n",
       "      <td>1</td>\n",
       "      <td>0</td>\n",
       "      <td>0</td>\n",
       "      <td>0</td>\n",
       "    </tr>\n",
       "    <tr>\n",
       "      <td>4</td>\n",
       "      <td>4</td>\n",
       "      <td>716013</td>\n",
       "      <td>1551462952</td>\n",
       "      <td>1432084088</td>\n",
       "      <td>10.0</td>\n",
       "      <td>10.0</td>\n",
       "      <td>7</td>\n",
       "      <td>1</td>\n",
       "      <td>0</td>\n",
       "      <td>1</td>\n",
       "      <td>0</td>\n",
       "      <td>0</td>\n",
       "      <td>1</td>\n",
       "      <td>0</td>\n",
       "      <td>0</td>\n",
       "      <td>0</td>\n",
       "    </tr>\n",
       "  </tbody>\n",
       "</table>\n",
       "</div>"
      ],
      "text/plain": [
       "   Unnamed: 0      ID  event_timestamp  log_timestamp  log_reading_1  \\\n",
       "0           0  716013       1432329808     1432084088           10.0   \n",
       "1           1  716013       1539877380     1432084088           10.0   \n",
       "2           2  716013       1539879425     1432084088           10.0   \n",
       "3           3  716013       1539956727     1432084088           10.0   \n",
       "4           4  716013       1551462952     1432084088           10.0   \n",
       "\n",
       "   log_reading_3  log_reading_4  Type_TypeA  Type_TypeB  event_label_activate  \\\n",
       "0           10.0              7           1           0                     1   \n",
       "1           10.0              7           1           0                     0   \n",
       "2           10.0              7           1           0                     1   \n",
       "3           10.0              7           1           0                     0   \n",
       "4           10.0              7           1           0                     1   \n",
       "\n",
       "   event_label_break  log_reading_2_a  log_reading_2_b  log_reading_2_c  \\\n",
       "0                  0                0                1                0   \n",
       "1                  1                0                1                0   \n",
       "2                  0                0                1                0   \n",
       "3                  1                0                1                0   \n",
       "4                  0                0                1                0   \n",
       "\n",
       "   warranty_service_flag_n  warranty_service_flag_y  \n",
       "0                        0                        0  \n",
       "1                        0                        0  \n",
       "2                        0                        0  \n",
       "3                        0                        0  \n",
       "4                        0                        0  "
      ]
     },
     "execution_count": 6,
     "metadata": {},
     "output_type": "execute_result"
    }
   ],
   "source": [
    "df=pd.get_dummies(df)\n",
    "df.head()"
   ]
  },
  {
   "cell_type": "code",
   "execution_count": 9,
   "metadata": {},
   "outputs": [
    {
     "name": "stdout",
     "output_type": "stream",
     "text": [
      "<class 'pandas.core.frame.DataFrame'>\n",
      "RangeIndex: 16162 entries, 0 to 16161\n",
      "Data columns (total 14 columns):\n",
      "Unnamed: 0                 16162 non-null int64\n",
      "ID                         16162 non-null int64\n",
      "event_timestamp            16162 non-null int64\n",
      "log_timestamp              16162 non-null int64\n",
      "log_reading_1              15848 non-null float64\n",
      "log_reading_3              15843 non-null float64\n",
      "log_reading_4              16162 non-null int64\n",
      "Type_TypeA                 16162 non-null uint8\n",
      "Type_TypeB                 16162 non-null uint8\n",
      "event_label_activate       16162 non-null uint8\n",
      "log_reading_2_a            16162 non-null uint8\n",
      "log_reading_2_b            16162 non-null uint8\n",
      "log_reading_2_c            16162 non-null uint8\n",
      "warranty_service_flag_y    16162 non-null uint8\n",
      "dtypes: float64(2), int64(5), uint8(7)\n",
      "memory usage: 994.5 KB\n"
     ]
    }
   ],
   "source": [
    "df=df.drop(['event_label_break','warranty_service_flag_n'],axis=1)\n",
    "df.info()"
   ]
  },
  {
   "cell_type": "markdown",
   "metadata": {},
   "source": [
    "# Missing values"
   ]
  },
  {
   "cell_type": "code",
   "execution_count": 10,
   "metadata": {},
   "outputs": [
    {
     "name": "stdout",
     "output_type": "stream",
     "text": [
      "<class 'pandas.core.frame.DataFrame'>\n",
      "RangeIndex: 16162 entries, 0 to 16161\n",
      "Data columns (total 14 columns):\n",
      "Unnamed: 0                 16162 non-null int64\n",
      "ID                         16162 non-null int64\n",
      "event_timestamp            16162 non-null int64\n",
      "log_timestamp              16162 non-null int64\n",
      "log_reading_1              16162 non-null float64\n",
      "log_reading_3              16162 non-null float64\n",
      "log_reading_4              16162 non-null int64\n",
      "Type_TypeA                 16162 non-null uint8\n",
      "Type_TypeB                 16162 non-null uint8\n",
      "event_label_activate       16162 non-null uint8\n",
      "log_reading_2_a            16162 non-null uint8\n",
      "log_reading_2_b            16162 non-null uint8\n",
      "log_reading_2_c            16162 non-null uint8\n",
      "warranty_service_flag_y    16162 non-null uint8\n",
      "dtypes: float64(2), int64(5), uint8(7)\n",
      "memory usage: 994.5 KB\n"
     ]
    }
   ],
   "source": [
    "df['log_reading_1'].fillna(df['log_reading_1'].median(),inplace=True)\n",
    "df['log_reading_3'].fillna(df['log_reading_3'].median(),inplace=True)\n",
    "df.info()"
   ]
  },
  {
   "cell_type": "markdown",
   "metadata": {},
   "source": [
    "# Target variable and dependent variables"
   ]
  },
  {
   "cell_type": "code",
   "execution_count": 12,
   "metadata": {},
   "outputs": [],
   "source": [
    "x=df.drop('event_label_activate',axis=1)\n",
    "y=df['event_label_activate']"
   ]
  },
  {
   "cell_type": "markdown",
   "metadata": {},
   "source": [
    "# Train test split"
   ]
  },
  {
   "cell_type": "code",
   "execution_count": 13,
   "metadata": {},
   "outputs": [],
   "source": [
    "from sklearn.model_selection import train_test_split"
   ]
  },
  {
   "cell_type": "code",
   "execution_count": 21,
   "metadata": {},
   "outputs": [
    {
     "name": "stdout",
     "output_type": "stream",
     "text": [
      "(10828, 13) (5334, 13) (10828,) (5334,)\n"
     ]
    }
   ],
   "source": [
    "x_tr,x_te,y_tr,y_te=train_test_split(x,y,stratify=y,test_size=.33)\n",
    "print(x_tr.shape,x_te.shape,y_tr.shape,y_te.shape)"
   ]
  },
  {
   "cell_type": "markdown",
   "metadata": {},
   "source": [
    "# RF model"
   ]
  },
  {
   "cell_type": "code",
   "execution_count": 19,
   "metadata": {},
   "outputs": [],
   "source": [
    "from sklearn.model_selection import GridSearchCV"
   ]
  },
  {
   "cell_type": "code",
   "execution_count": 17,
   "metadata": {},
   "outputs": [],
   "source": [
    "from sklearn.ensemble import RandomForestClassifier "
   ]
  },
  {
   "cell_type": "markdown",
   "metadata": {},
   "source": [
    "### RF_1"
   ]
  },
  {
   "cell_type": "code",
   "execution_count": 94,
   "metadata": {},
   "outputs": [],
   "source": [
    "rf1=RandomForestClassifier(n_jobs=-1,random_state=10)\n",
    "pg1={'n_estimators':[150,200,250], 'max_features':[2,3,4], 'min_samples_split':[3,4,5,6]}"
   ]
  },
  {
   "cell_type": "code",
   "execution_count": 95,
   "metadata": {},
   "outputs": [],
   "source": [
    "rf1=GridSearchCV(rf1,pg1,cv=5,n_jobs=-1,scoring='roc_auc')"
   ]
  },
  {
   "cell_type": "code",
   "execution_count": 96,
   "metadata": {},
   "outputs": [
    {
     "data": {
      "text/plain": [
       "GridSearchCV(cv=5, error_score='raise-deprecating',\n",
       "             estimator=RandomForestClassifier(bootstrap=True, class_weight=None,\n",
       "                                              criterion='gini', max_depth=None,\n",
       "                                              max_features='auto',\n",
       "                                              max_leaf_nodes=None,\n",
       "                                              min_impurity_decrease=0.0,\n",
       "                                              min_impurity_split=None,\n",
       "                                              min_samples_leaf=1,\n",
       "                                              min_samples_split=2,\n",
       "                                              min_weight_fraction_leaf=0.0,\n",
       "                                              n_estimators='warn', n_jobs=-1,\n",
       "                                              oob_score=False, random_state=10,\n",
       "                                              verbose=0, warm_start=False),\n",
       "             iid='warn', n_jobs=-1,\n",
       "             param_grid={'max_features': [2, 3, 4],\n",
       "                         'min_samples_split': [3, 4, 5, 6],\n",
       "                         'n_estimators': [150, 200, 250]},\n",
       "             pre_dispatch='2*n_jobs', refit=True, return_train_score=False,\n",
       "             scoring='roc_auc', verbose=0)"
      ]
     },
     "execution_count": 96,
     "metadata": {},
     "output_type": "execute_result"
    }
   ],
   "source": [
    "rf1.fit(x_tr,y_tr)"
   ]
  },
  {
   "cell_type": "code",
   "execution_count": 97,
   "metadata": {},
   "outputs": [
    {
     "data": {
      "text/plain": [
       "{'max_features': 4, 'min_samples_split': 6, 'n_estimators': 150}"
      ]
     },
     "execution_count": 97,
     "metadata": {},
     "output_type": "execute_result"
    }
   ],
   "source": [
    "rf1.best_params_"
   ]
  },
  {
   "cell_type": "code",
   "execution_count": 98,
   "metadata": {},
   "outputs": [],
   "source": [
    "rf1=rf1.best_estimator_"
   ]
  },
  {
   "cell_type": "markdown",
   "metadata": {},
   "source": [
    "### RF_2"
   ]
  },
  {
   "cell_type": "code",
   "execution_count": 128,
   "metadata": {},
   "outputs": [],
   "source": [
    "rf2=RandomForestClassifier(n_jobs=-1,random_state=10)\n",
    "pg2={'n_estimators':[50,150,200],'max_features':[3,4,5], 'min_samples_split':[3,4,5,6]}"
   ]
  },
  {
   "cell_type": "code",
   "execution_count": 129,
   "metadata": {},
   "outputs": [],
   "source": [
    "rf2=GridSearchCV(rf2,pg2,cv=5,n_jobs=-1,scoring='roc_auc')"
   ]
  },
  {
   "cell_type": "code",
   "execution_count": 130,
   "metadata": {},
   "outputs": [
    {
     "data": {
      "text/plain": [
       "GridSearchCV(cv=5, error_score='raise-deprecating',\n",
       "             estimator=RandomForestClassifier(bootstrap=True, class_weight=None,\n",
       "                                              criterion='gini', max_depth=None,\n",
       "                                              max_features='auto',\n",
       "                                              max_leaf_nodes=None,\n",
       "                                              min_impurity_decrease=0.0,\n",
       "                                              min_impurity_split=None,\n",
       "                                              min_samples_leaf=1,\n",
       "                                              min_samples_split=2,\n",
       "                                              min_weight_fraction_leaf=0.0,\n",
       "                                              n_estimators='warn', n_jobs=-1,\n",
       "                                              oob_score=False, random_state=10,\n",
       "                                              verbose=0, warm_start=False),\n",
       "             iid='warn', n_jobs=-1,\n",
       "             param_grid={'max_features': [3, 4, 5],\n",
       "                         'min_samples_split': [3, 4, 5, 6],\n",
       "                         'n_estimators': [50, 150, 200]},\n",
       "             pre_dispatch='2*n_jobs', refit=True, return_train_score=False,\n",
       "             scoring='roc_auc', verbose=0)"
      ]
     },
     "execution_count": 130,
     "metadata": {},
     "output_type": "execute_result"
    }
   ],
   "source": [
    "rf2.fit(x_tr,y_tr)"
   ]
  },
  {
   "cell_type": "code",
   "execution_count": 131,
   "metadata": {},
   "outputs": [
    {
     "data": {
      "text/plain": [
       "{'max_features': 5, 'min_samples_split': 6, 'n_estimators': 150}"
      ]
     },
     "execution_count": 131,
     "metadata": {},
     "output_type": "execute_result"
    }
   ],
   "source": [
    "rf2.best_params_"
   ]
  },
  {
   "cell_type": "code",
   "execution_count": 132,
   "metadata": {},
   "outputs": [],
   "source": [
    "rf2=rf2.best_estimator_"
   ]
  },
  {
   "cell_type": "markdown",
   "metadata": {},
   "source": [
    "### RF_3"
   ]
  },
  {
   "cell_type": "code",
   "execution_count": 133,
   "metadata": {},
   "outputs": [],
   "source": [
    "rf3=RandomForestClassifier(n_jobs=-1,random_state=10)\n",
    "pg3={'n_estimators':[50,125,150,250], 'max_features':[2,4,5], 'min_samples_split':[2,4,6]}"
   ]
  },
  {
   "cell_type": "code",
   "execution_count": 134,
   "metadata": {},
   "outputs": [],
   "source": [
    "rf3=GridSearchCV(rf3,pg3,cv=5,n_jobs=-1,scoring='roc_auc')"
   ]
  },
  {
   "cell_type": "code",
   "execution_count": 135,
   "metadata": {},
   "outputs": [
    {
     "data": {
      "text/plain": [
       "GridSearchCV(cv=5, error_score='raise-deprecating',\n",
       "             estimator=RandomForestClassifier(bootstrap=True, class_weight=None,\n",
       "                                              criterion='gini', max_depth=None,\n",
       "                                              max_features='auto',\n",
       "                                              max_leaf_nodes=None,\n",
       "                                              min_impurity_decrease=0.0,\n",
       "                                              min_impurity_split=None,\n",
       "                                              min_samples_leaf=1,\n",
       "                                              min_samples_split=2,\n",
       "                                              min_weight_fraction_leaf=0.0,\n",
       "                                              n_estimators='warn', n_jobs=-1,\n",
       "                                              oob_score=False, random_state=10,\n",
       "                                              verbose=0, warm_start=False),\n",
       "             iid='warn', n_jobs=-1,\n",
       "             param_grid={'max_features': [2, 4, 5],\n",
       "                         'min_samples_split': [2, 4, 6],\n",
       "                         'n_estimators': [50, 125, 150, 250]},\n",
       "             pre_dispatch='2*n_jobs', refit=True, return_train_score=False,\n",
       "             scoring='roc_auc', verbose=0)"
      ]
     },
     "execution_count": 135,
     "metadata": {},
     "output_type": "execute_result"
    }
   ],
   "source": [
    "rf3.fit(x_tr,y_tr)"
   ]
  },
  {
   "cell_type": "code",
   "execution_count": 136,
   "metadata": {},
   "outputs": [
    {
     "data": {
      "text/plain": [
       "{'max_features': 5, 'min_samples_split': 6, 'n_estimators': 125}"
      ]
     },
     "execution_count": 136,
     "metadata": {},
     "output_type": "execute_result"
    }
   ],
   "source": [
    "rf3.best_params_"
   ]
  },
  {
   "cell_type": "code",
   "execution_count": 137,
   "metadata": {},
   "outputs": [],
   "source": [
    "rf3=rf3.best_estimator_"
   ]
  },
  {
   "cell_type": "markdown",
   "metadata": {},
   "source": [
    "# Performance"
   ]
  },
  {
   "cell_type": "code",
   "execution_count": 49,
   "metadata": {},
   "outputs": [],
   "source": [
    "from sklearn.metrics import accuracy_score,roc_auc_score,f1_score,precision_score,recall_score"
   ]
  },
  {
   "cell_type": "markdown",
   "metadata": {},
   "source": [
    "## On training data"
   ]
  },
  {
   "cell_type": "code",
   "execution_count": 99,
   "metadata": {},
   "outputs": [
    {
     "name": "stdout",
     "output_type": "stream",
     "text": [
      "Accuracy score = 0.9474510528260066, roc_auc score = 0.9413545626042507, f1 score= 0.9601177542580781, precision = 0.9596469104665826, recall = 0.9605890603085554\n"
     ]
    }
   ],
   "source": [
    "print(f'Accuracy score = {accuracy_score(y_tr,rf1.predict(x_tr))}, roc_auc score = {roc_auc_score(y_tr,rf1.predict(x_tr))}, f1 score= {f1_score(y_tr,rf1.predict(x_tr))}, precision = {precision_score(y_tr,rf1.predict(x_tr))}, recall = {recall_score(y_tr,rf1.predict(x_tr))}')"
   ]
  },
  {
   "cell_type": "code",
   "execution_count": 106,
   "metadata": {},
   "outputs": [
    {
     "name": "stdout",
     "output_type": "stream",
     "text": [
      "Accuracy score = 0.9560398965644625, roc_auc score = 0.9505446634661698, f1 score= 0.9666619974786385, precision = 0.9654448796866256, recall = 0.967882187938289\n"
     ]
    }
   ],
   "source": [
    "print(f'Accuracy score = {accuracy_score(y_tr,rf2.predict(x_tr))}, roc_auc score = {roc_auc_score(y_tr,rf2.predict(x_tr))}, f1 score= {f1_score(y_tr,rf2.predict(x_tr))}, precision = {precision_score(y_tr,rf2.predict(x_tr))}, recall = {recall_score(y_tr,rf2.predict(x_tr))}')"
   ]
  },
  {
   "cell_type": "code",
   "execution_count": 138,
   "metadata": {},
   "outputs": [
    {
     "name": "stdout",
     "output_type": "stream",
     "text": [
      "Accuracy score = 0.9548393055042482, roc_auc score = 0.9492425305517482, f1 score= 0.9657491069552427, precision = 0.9646005316916189, recall = 0.9669004207573633\n"
     ]
    }
   ],
   "source": [
    "print(f'Accuracy score = {accuracy_score(y_tr,rf3.predict(x_tr))}, roc_auc score = {roc_auc_score(y_tr,rf3.predict(x_tr))}, f1 score= {f1_score(y_tr,rf3.predict(x_tr))}, precision = {precision_score(y_tr,rf3.predict(x_tr))}, recall = {recall_score(y_tr,rf3.predict(x_tr))}')"
   ]
  },
  {
   "cell_type": "markdown",
   "metadata": {},
   "source": [
    "## On test data"
   ]
  },
  {
   "cell_type": "code",
   "execution_count": 100,
   "metadata": {},
   "outputs": [
    {
     "name": "stdout",
     "output_type": "stream",
     "text": [
      "Accuracy score = 0.6509186351706037, roc_auc score = 0.6135825934361944, f1 score= 0.734, precision = 0.7367364496702036, recall = 0.7312838030173641\n"
     ]
    }
   ],
   "source": [
    "print(f'Accuracy score = {accuracy_score(y_te,rf1.predict(x_te))}, roc_auc score = {roc_auc_score(y_te,rf1.predict(x_te))}, f1 score= {f1_score(y_te,rf1.predict(x_te))}, precision = {precision_score(y_te,rf1.predict(x_te))}, recall = {recall_score(y_te,rf1.predict(x_te))}')"
   ]
  },
  {
   "cell_type": "code",
   "execution_count": 107,
   "metadata": {},
   "outputs": [
    {
     "name": "stdout",
     "output_type": "stream",
     "text": [
      "Accuracy score = 0.6526059242594676, roc_auc score = 0.6153925335456771, f1 score= 0.7353235252106842, precision = 0.7379587155963303, recall = 0.7327070879590094\n"
     ]
    }
   ],
   "source": [
    "print(f'Accuracy score = {accuracy_score(y_te,rf2.predict(x_te))}, roc_auc score = {roc_auc_score(y_te,rf2.predict(x_te))}, f1 score= {f1_score(y_te,rf2.predict(x_te))}, precision = {precision_score(y_te,rf2.predict(x_te))}, recall = {recall_score(y_te,rf2.predict(x_te))}')"
   ]
  },
  {
   "cell_type": "code",
   "execution_count": 139,
   "metadata": {},
   "outputs": [
    {
     "name": "stdout",
     "output_type": "stream",
     "text": [
      "Accuracy score = 0.652230971128609, roc_auc score = 0.61563686021935, f1 score= 0.7346588470891146, precision = 0.738355376653249, recall = 0.730999146029035\n"
     ]
    }
   ],
   "source": [
    "print(f'Accuracy score = {accuracy_score(y_te,rf3.predict(x_te))}, roc_auc score = {roc_auc_score(y_te,rf3.predict(x_te))}, f1 score= {f1_score(y_te,rf3.predict(x_te))}, precision = {precision_score(y_te,rf3.predict(x_te))}, recall = {recall_score(y_te,rf3.predict(x_te))}')"
   ]
  },
  {
   "cell_type": "code",
   "execution_count": null,
   "metadata": {},
   "outputs": [],
   "source": []
  }
 ],
 "metadata": {
  "kernelspec": {
   "display_name": "Python 3",
   "language": "python",
   "name": "python3"
  },
  "language_info": {
   "codemirror_mode": {
    "name": "ipython",
    "version": 3
   },
   "file_extension": ".py",
   "mimetype": "text/x-python",
   "name": "python",
   "nbconvert_exporter": "python",
   "pygments_lexer": "ipython3",
   "version": "3.7.4"
  }
 },
 "nbformat": 4,
 "nbformat_minor": 2
}
