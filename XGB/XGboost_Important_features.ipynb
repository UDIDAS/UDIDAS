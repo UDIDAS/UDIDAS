{
 "cells": [
  {
   "cell_type": "code",
   "execution_count": 1,
   "metadata": {},
   "outputs": [],
   "source": [
    "import pandas as pd"
   ]
  },
  {
   "cell_type": "code",
   "execution_count": 2,
   "metadata": {},
   "outputs": [],
   "source": [
    "df=pd.read_csv('C:/Users/udipt/Desktop/Websoft/Assignment/DataScienceCaseStudy/dataSample.csv')"
   ]
  },
  {
   "cell_type": "markdown",
   "metadata": {},
   "source": [
    "# Preprocessing"
   ]
  },
  {
   "cell_type": "code",
   "execution_count": 3,
   "metadata": {},
   "outputs": [],
   "source": [
    "df=pd.get_dummies(df)\n",
    "df=df.rename(columns={'Unnamed: 0':'sl_number'})"
   ]
  },
  {
   "cell_type": "code",
   "execution_count": 4,
   "metadata": {},
   "outputs": [],
   "source": [
    "df=df.drop(columns=['event_label_activate','warranty_service_flag_n'],axis=1)"
   ]
  },
  {
   "cell_type": "code",
   "execution_count": 5,
   "metadata": {},
   "outputs": [],
   "source": [
    "df['log_reading_1'].fillna(df['log_reading_1'].median(),inplace=True)\n",
    "df['log_reading_3'].fillna(df['log_reading_3'].median(),inplace=True)"
   ]
  },
  {
   "cell_type": "markdown",
   "metadata": {},
   "source": [
    "# Train_test"
   ]
  },
  {
   "cell_type": "code",
   "execution_count": 6,
   "metadata": {},
   "outputs": [],
   "source": [
    "x=df.drop(columns='event_label_break',axis=1)\n",
    "y=df['event_label_break']"
   ]
  },
  {
   "cell_type": "code",
   "execution_count": 7,
   "metadata": {},
   "outputs": [
    {
     "name": "stdout",
     "output_type": "stream",
     "text": [
      "(11798, 13) (4364, 13) (11798,) (4364,)\n",
      "Training set has 34.15% positive points and test sets 34.14% of positive points\n"
     ]
    }
   ],
   "source": [
    "from sklearn.model_selection import train_test_split\n",
    "x_tr,x_te,y_tr,y_te=train_test_split(x,y,stratify=y,test_size=.27,random_state=10)\n",
    "print(x_tr.shape,x_te.shape,y_tr.shape,y_te.shape)\n",
    "print(f'Training set has {y_tr.mean()*100:.2f}% positive points and test sets {y_te.mean()*100:.2f}% of positive points')"
   ]
  },
  {
   "cell_type": "markdown",
   "metadata": {},
   "source": [
    "# important features"
   ]
  },
  {
   "cell_type": "code",
   "execution_count": 1,
   "metadata": {},
   "outputs": [],
   "source": [
    "from sklearn.ensemble import RandomForestClassifier"
   ]
  },
  {
   "cell_type": "code",
   "execution_count": 9,
   "metadata": {},
   "outputs": [
    {
     "name": "stderr",
     "output_type": "stream",
     "text": [
      "C:\\Users\\udipt\\Anaconda3\\lib\\site-packages\\sklearn\\ensemble\\forest.py:245: FutureWarning: The default value of n_estimators will change from 10 in version 0.20 to 100 in 0.22.\n",
      "  \"10 in version 0.20 to 100 in 0.22.\", FutureWarning)\n"
     ]
    },
    {
     "data": {
      "text/plain": [
       "RandomForestClassifier(bootstrap=True, class_weight=None, criterion='gini',\n",
       "                       max_depth=None, max_features='auto', max_leaf_nodes=None,\n",
       "                       min_impurity_decrease=0.0, min_impurity_split=None,\n",
       "                       min_samples_leaf=1, min_samples_split=2,\n",
       "                       min_weight_fraction_leaf=0.0, n_estimators=10, n_jobs=-1,\n",
       "                       oob_score=False, random_state=10, verbose=0,\n",
       "                       warm_start=False)"
      ]
     },
     "execution_count": 9,
     "metadata": {},
     "output_type": "execute_result"
    }
   ],
   "source": [
    "rf=RandomForestClassifier(n_jobs=-1,random_state=10)\n",
    "rf.fit(x_tr,y_tr)"
   ]
  },
  {
   "cell_type": "code",
   "execution_count": 10,
   "metadata": {},
   "outputs": [
    {
     "data": {
      "text/plain": [
       "array([0.2191413 , 0.10362834, 0.49376112, 0.08141107, 0.01848537,\n",
       "       0.01782606, 0.03974661, 0.00563289, 0.00572136, 0.00524521,\n",
       "       0.00488334, 0.00236348, 0.00215384])"
      ]
     },
     "execution_count": 10,
     "metadata": {},
     "output_type": "execute_result"
    }
   ],
   "source": [
    "rf.feature_importances_"
   ]
  },
  {
   "cell_type": "code",
   "execution_count": 11,
   "metadata": {},
   "outputs": [
    {
     "name": "stdout",
     "output_type": "stream",
     "text": [
      "Random forest predicts 29.79% points as positive\n"
     ]
    }
   ],
   "source": [
    "print(f'Random forest predicts {rf.predict(x_te).mean()*100:.2f}% points as positive')"
   ]
  },
  {
   "cell_type": "code",
   "execution_count": 12,
   "metadata": {},
   "outputs": [
    {
     "data": {
      "text/plain": [
       "Index(['sl_number', 'ID', 'event_timestamp', 'log_timestamp', 'log_reading_1',\n",
       "       'log_reading_3', 'log_reading_4', 'Type_TypeA', 'Type_TypeB',\n",
       "       'log_reading_2_a', 'log_reading_2_b', 'log_reading_2_c',\n",
       "       'warranty_service_flag_y'],\n",
       "      dtype='object')"
      ]
     },
     "execution_count": 12,
     "metadata": {},
     "output_type": "execute_result"
    }
   ],
   "source": [
    "x_te.columns"
   ]
  },
  {
   "cell_type": "code",
   "execution_count": 13,
   "metadata": {},
   "outputs": [
    {
     "data": {
      "text/html": [
       "<div>\n",
       "<style scoped>\n",
       "    .dataframe tbody tr th:only-of-type {\n",
       "        vertical-align: middle;\n",
       "    }\n",
       "\n",
       "    .dataframe tbody tr th {\n",
       "        vertical-align: top;\n",
       "    }\n",
       "\n",
       "    .dataframe thead th {\n",
       "        text-align: right;\n",
       "    }\n",
       "</style>\n",
       "<table border=\"1\" class=\"dataframe\">\n",
       "  <thead>\n",
       "    <tr style=\"text-align: right;\">\n",
       "      <th></th>\n",
       "      <th>sl_number</th>\n",
       "      <th>ID</th>\n",
       "      <th>event_timestamp</th>\n",
       "      <th>log_timestamp</th>\n",
       "      <th>log_reading_4</th>\n",
       "    </tr>\n",
       "  </thead>\n",
       "  <tbody>\n",
       "    <tr>\n",
       "      <td>0</td>\n",
       "      <td>0</td>\n",
       "      <td>716013</td>\n",
       "      <td>1432329808</td>\n",
       "      <td>1432084088</td>\n",
       "      <td>7</td>\n",
       "    </tr>\n",
       "    <tr>\n",
       "      <td>1</td>\n",
       "      <td>1</td>\n",
       "      <td>716013</td>\n",
       "      <td>1539877380</td>\n",
       "      <td>1432084088</td>\n",
       "      <td>7</td>\n",
       "    </tr>\n",
       "    <tr>\n",
       "      <td>2</td>\n",
       "      <td>2</td>\n",
       "      <td>716013</td>\n",
       "      <td>1539879425</td>\n",
       "      <td>1432084088</td>\n",
       "      <td>7</td>\n",
       "    </tr>\n",
       "    <tr>\n",
       "      <td>3</td>\n",
       "      <td>3</td>\n",
       "      <td>716013</td>\n",
       "      <td>1539956727</td>\n",
       "      <td>1432084088</td>\n",
       "      <td>7</td>\n",
       "    </tr>\n",
       "    <tr>\n",
       "      <td>4</td>\n",
       "      <td>4</td>\n",
       "      <td>716013</td>\n",
       "      <td>1551462952</td>\n",
       "      <td>1432084088</td>\n",
       "      <td>7</td>\n",
       "    </tr>\n",
       "  </tbody>\n",
       "</table>\n",
       "</div>"
      ],
      "text/plain": [
       "   sl_number      ID  event_timestamp  log_timestamp  log_reading_4\n",
       "0          0  716013       1432329808     1432084088              7\n",
       "1          1  716013       1539877380     1432084088              7\n",
       "2          2  716013       1539879425     1432084088              7\n",
       "3          3  716013       1539956727     1432084088              7\n",
       "4          4  716013       1551462952     1432084088              7"
      ]
     },
     "execution_count": 13,
     "metadata": {},
     "output_type": "execute_result"
    }
   ],
   "source": [
    "xi=x.drop(columns=['log_reading_1','log_reading_3','Type_TypeA', 'Type_TypeB',\n",
    "       'log_reading_2_a', 'log_reading_2_b', 'log_reading_2_c',\n",
    "       'warranty_service_flag_y'])\n",
    "xi.head()"
   ]
  },
  {
   "cell_type": "markdown",
   "metadata": {},
   "source": [
    "# Train_test"
   ]
  },
  {
   "cell_type": "code",
   "execution_count": 14,
   "metadata": {},
   "outputs": [
    {
     "name": "stdout",
     "output_type": "stream",
     "text": [
      "(11798, 5) (4364, 5) (11798,) (4364,)\n",
      "Training set has 34.15% positive points and test sets 34.14% of positive points\n"
     ]
    }
   ],
   "source": [
    "xi_tr,xi_te,yi_tr,yi_te=train_test_split(xi,y,test_size=.27,stratify=y,random_state=10)\n",
    "print(xi_tr.shape,xi_te.shape,yi_tr.shape,yi_te.shape)\n",
    "print(f'Training set has {yi_tr.mean()*100:.2f}% positive points and test sets {yi_te.mean()*100:.2f}% of positive points')"
   ]
  },
  {
   "cell_type": "markdown",
   "metadata": {},
   "source": [
    "# XGboost"
   ]
  },
  {
   "cell_type": "code",
   "execution_count": 15,
   "metadata": {},
   "outputs": [
    {
     "name": "stderr",
     "output_type": "stream",
     "text": [
      "C:\\Users\\udipt\\Anaconda3\\lib\\site-packages\\distributed\\utils.py:133: RuntimeWarning: Couldn't detect a suitable IP address for reaching '8.8.8.8', defaulting to '127.0.0.1': [WinError 10065] A socket operation was attempted to an unreachable host\n",
      "  RuntimeWarning,\n"
     ]
    }
   ],
   "source": [
    "from xgboost import XGBClassifier"
   ]
  },
  {
   "cell_type": "code",
   "execution_count": 16,
   "metadata": {},
   "outputs": [
    {
     "data": {
      "text/plain": [
       "XGBClassifier(base_score=0.34, booster='gbtree', colsample_bylevel=1,\n",
       "              colsample_bynode=1, colsample_bytree=1, gamma=0, gpu_id=-1,\n",
       "              importance_type='gain', interaction_constraints='',\n",
       "              learning_rate=0.300000012, max_delta_step=0, max_depth=6,\n",
       "              min_child_weight=1, missing=nan, monotone_constraints='()',\n",
       "              n_estimators=100, n_jobs=1, num_parallel_tree=1,\n",
       "              objective='binary:logistic', random_state=10, reg_alpha=0,\n",
       "              reg_lambda=1, scale_pos_weight=1, subsample=1,\n",
       "              tree_method='exact', validate_parameters=1, verbosity=None)"
      ]
     },
     "execution_count": 16,
     "metadata": {},
     "output_type": "execute_result"
    }
   ],
   "source": [
    "xg=XGBClassifier(base_score=.34,n_jobs=1,random_state=10)\n",
    "xg.fit(xi_tr,yi_tr)"
   ]
  },
  {
   "cell_type": "code",
   "execution_count": 17,
   "metadata": {},
   "outputs": [
    {
     "name": "stdout",
     "output_type": "stream",
     "text": [
      "xgboost predicts 37.88% points as positive\n"
     ]
    }
   ],
   "source": [
    "print(f'xgboost predicts {xg.predict(xi_te).mean()*100:.2f}% points as positive')"
   ]
  },
  {
   "cell_type": "code",
   "execution_count": 18,
   "metadata": {},
   "outputs": [],
   "source": [
    "from sklearn.model_selection import GridSearchCV"
   ]
  },
  {
   "cell_type": "code",
   "execution_count": 19,
   "metadata": {},
   "outputs": [
    {
     "data": {
      "text/plain": [
       "GridSearchCV(cv=5, error_score='raise-deprecating',\n",
       "             estimator=XGBClassifier(base_score=0.34, booster='gbtree',\n",
       "                                     colsample_bylevel=1, colsample_bynode=1,\n",
       "                                     colsample_bytree=1, gamma=0, gpu_id=-1,\n",
       "                                     importance_type='gain',\n",
       "                                     interaction_constraints='',\n",
       "                                     learning_rate=0.300000012,\n",
       "                                     max_delta_step=0, max_depth=6,\n",
       "                                     min_child_weight=1, missing=nan,\n",
       "                                     monotone_constraints='()',\n",
       "                                     n_estimators=100, n_jobs=1,\n",
       "                                     num_parallel_tree=1,\n",
       "                                     objective='binary:logistic',\n",
       "                                     random_state=10, reg_alpha=0, reg_lambda=1,\n",
       "                                     scale_pos_weight=1, subsample=1,\n",
       "                                     tree_method='exact', validate_parameters=1,\n",
       "                                     verbosity=None),\n",
       "             iid='warn', n_jobs=-1,\n",
       "             param_grid={'n_estimators': range(470, 500, 10)},\n",
       "             pre_dispatch='2*n_jobs', refit=True, return_train_score=False,\n",
       "             scoring=None, verbose=0)"
      ]
     },
     "execution_count": 19,
     "metadata": {},
     "output_type": "execute_result"
    }
   ],
   "source": [
    "pg={'n_estimators':range(470,500,10)}\n",
    "xg_cv=GridSearchCV(xg,pg,cv=5,n_jobs=-1)\n",
    "xg_cv.fit(xi_tr,yi_tr)"
   ]
  },
  {
   "cell_type": "code",
   "execution_count": 20,
   "metadata": {},
   "outputs": [
    {
     "data": {
      "text/plain": [
       "{'n_estimators': 480}"
      ]
     },
     "execution_count": 20,
     "metadata": {},
     "output_type": "execute_result"
    }
   ],
   "source": [
    "xg_cv.best_params_"
   ]
  },
  {
   "cell_type": "code",
   "execution_count": 21,
   "metadata": {},
   "outputs": [],
   "source": [
    "xg_b=xg_cv.best_estimator_"
   ]
  },
  {
   "cell_type": "code",
   "execution_count": 22,
   "metadata": {},
   "outputs": [
    {
     "name": "stdout",
     "output_type": "stream",
     "text": [
      "xgboost predicts 35.24% points as positive\n"
     ]
    }
   ],
   "source": [
    "print(f'xgboost predicts {xg_b.predict(xi_te).mean()*100:.2f}% points as positive')"
   ]
  },
  {
   "cell_type": "markdown",
   "metadata": {},
   "source": [
    "# Lift"
   ]
  },
  {
   "cell_type": "code",
   "execution_count": 23,
   "metadata": {},
   "outputs": [
    {
     "data": {
      "text/plain": [
       "array([[7.1011758e-01, 2.8988242e-01],\n",
       "       [9.9951696e-01, 4.8303505e-04],\n",
       "       [1.9523227e-01, 8.0476773e-01],\n",
       "       ...,\n",
       "       [3.3781618e-01, 6.6218382e-01],\n",
       "       [7.3783684e-01, 2.6216316e-01],\n",
       "       [9.9818045e-01, 1.8195388e-03]], dtype=float32)"
      ]
     },
     "execution_count": 23,
     "metadata": {},
     "output_type": "execute_result"
    }
   ],
   "source": [
    "xg_b.predict_proba(xi_te)"
   ]
  },
  {
   "cell_type": "code",
   "execution_count": 24,
   "metadata": {},
   "outputs": [],
   "source": [
    "predicted_prob=[]\n",
    "for i in xg_b.predict_proba(xi_te):\n",
    "    predicted_prob.append(i[1])"
   ]
  },
  {
   "cell_type": "code",
   "execution_count": 25,
   "metadata": {},
   "outputs": [
    {
     "data": {
      "text/html": [
       "<div>\n",
       "<style scoped>\n",
       "    .dataframe tbody tr th:only-of-type {\n",
       "        vertical-align: middle;\n",
       "    }\n",
       "\n",
       "    .dataframe tbody tr th {\n",
       "        vertical-align: top;\n",
       "    }\n",
       "\n",
       "    .dataframe thead th {\n",
       "        text-align: right;\n",
       "    }\n",
       "</style>\n",
       "<table border=\"1\" class=\"dataframe\">\n",
       "  <thead>\n",
       "    <tr style=\"text-align: right;\">\n",
       "      <th></th>\n",
       "      <th>0</th>\n",
       "    </tr>\n",
       "  </thead>\n",
       "  <tbody>\n",
       "    <tr>\n",
       "      <td>0</td>\n",
       "      <td>0.289882</td>\n",
       "    </tr>\n",
       "    <tr>\n",
       "      <td>1</td>\n",
       "      <td>0.000483</td>\n",
       "    </tr>\n",
       "    <tr>\n",
       "      <td>2</td>\n",
       "      <td>0.804768</td>\n",
       "    </tr>\n",
       "    <tr>\n",
       "      <td>3</td>\n",
       "      <td>0.118720</td>\n",
       "    </tr>\n",
       "    <tr>\n",
       "      <td>4</td>\n",
       "      <td>0.015068</td>\n",
       "    </tr>\n",
       "  </tbody>\n",
       "</table>\n",
       "</div>"
      ],
      "text/plain": [
       "          0\n",
       "0  0.289882\n",
       "1  0.000483\n",
       "2  0.804768\n",
       "3  0.118720\n",
       "4  0.015068"
      ]
     },
     "execution_count": 25,
     "metadata": {},
     "output_type": "execute_result"
    }
   ],
   "source": [
    "df_y=pd.DataFrame(predicted_prob)\n",
    "df_y.head()"
   ]
  },
  {
   "cell_type": "code",
   "execution_count": 26,
   "metadata": {},
   "outputs": [
    {
     "data": {
      "text/html": [
       "<div>\n",
       "<style scoped>\n",
       "    .dataframe tbody tr th:only-of-type {\n",
       "        vertical-align: middle;\n",
       "    }\n",
       "\n",
       "    .dataframe tbody tr th {\n",
       "        vertical-align: top;\n",
       "    }\n",
       "\n",
       "    .dataframe thead th {\n",
       "        text-align: right;\n",
       "    }\n",
       "</style>\n",
       "<table border=\"1\" class=\"dataframe\">\n",
       "  <thead>\n",
       "    <tr style=\"text-align: right;\">\n",
       "      <th></th>\n",
       "      <th>index</th>\n",
       "      <th>event_label_break</th>\n",
       "    </tr>\n",
       "  </thead>\n",
       "  <tbody>\n",
       "    <tr>\n",
       "      <td>0</td>\n",
       "      <td>13877</td>\n",
       "      <td>1</td>\n",
       "    </tr>\n",
       "    <tr>\n",
       "      <td>1</td>\n",
       "      <td>6815</td>\n",
       "      <td>1</td>\n",
       "    </tr>\n",
       "    <tr>\n",
       "      <td>2</td>\n",
       "      <td>9851</td>\n",
       "      <td>0</td>\n",
       "    </tr>\n",
       "    <tr>\n",
       "      <td>3</td>\n",
       "      <td>16012</td>\n",
       "      <td>1</td>\n",
       "    </tr>\n",
       "    <tr>\n",
       "      <td>4</td>\n",
       "      <td>130</td>\n",
       "      <td>0</td>\n",
       "    </tr>\n",
       "  </tbody>\n",
       "</table>\n",
       "</div>"
      ],
      "text/plain": [
       "   index  event_label_break\n",
       "0  13877                  1\n",
       "1   6815                  1\n",
       "2   9851                  0\n",
       "3  16012                  1\n",
       "4    130                  0"
      ]
     },
     "execution_count": 26,
     "metadata": {},
     "output_type": "execute_result"
    }
   ],
   "source": [
    "test_set=yi_te.reset_index()\n",
    "test_set.head()"
   ]
  },
  {
   "cell_type": "code",
   "execution_count": 27,
   "metadata": {},
   "outputs": [],
   "source": [
    "test_set=test_set.drop(columns='index',axis=1)"
   ]
  },
  {
   "cell_type": "code",
   "execution_count": 28,
   "metadata": {},
   "outputs": [],
   "source": [
    "df_y['actual_values']=test_set\n",
    "df_y=df_y.rename(columns={0:'predicted_prob'})"
   ]
  },
  {
   "cell_type": "code",
   "execution_count": 29,
   "metadata": {},
   "outputs": [],
   "source": [
    "df_y=df_y.sort_values('predicted_prob',ascending=False)"
   ]
  },
  {
   "cell_type": "code",
   "execution_count": 30,
   "metadata": {},
   "outputs": [
    {
     "data": {
      "text/html": [
       "<div>\n",
       "<style scoped>\n",
       "    .dataframe tbody tr th:only-of-type {\n",
       "        vertical-align: middle;\n",
       "    }\n",
       "\n",
       "    .dataframe tbody tr th {\n",
       "        vertical-align: top;\n",
       "    }\n",
       "\n",
       "    .dataframe thead th {\n",
       "        text-align: right;\n",
       "    }\n",
       "</style>\n",
       "<table border=\"1\" class=\"dataframe\">\n",
       "  <thead>\n",
       "    <tr style=\"text-align: right;\">\n",
       "      <th></th>\n",
       "      <th>predicted_prob</th>\n",
       "      <th>actual_values</th>\n",
       "      <th>decile_rank</th>\n",
       "    </tr>\n",
       "  </thead>\n",
       "  <tbody>\n",
       "    <tr>\n",
       "      <td>1866</td>\n",
       "      <td>0.998824</td>\n",
       "      <td>1</td>\n",
       "      <td>9</td>\n",
       "    </tr>\n",
       "    <tr>\n",
       "      <td>278</td>\n",
       "      <td>0.998323</td>\n",
       "      <td>1</td>\n",
       "      <td>9</td>\n",
       "    </tr>\n",
       "    <tr>\n",
       "      <td>1420</td>\n",
       "      <td>0.998321</td>\n",
       "      <td>1</td>\n",
       "      <td>9</td>\n",
       "    </tr>\n",
       "    <tr>\n",
       "      <td>2388</td>\n",
       "      <td>0.998009</td>\n",
       "      <td>1</td>\n",
       "      <td>9</td>\n",
       "    </tr>\n",
       "    <tr>\n",
       "      <td>634</td>\n",
       "      <td>0.997397</td>\n",
       "      <td>0</td>\n",
       "      <td>9</td>\n",
       "    </tr>\n",
       "  </tbody>\n",
       "</table>\n",
       "</div>"
      ],
      "text/plain": [
       "      predicted_prob  actual_values  decile_rank\n",
       "1866        0.998824              1            9\n",
       "278         0.998323              1            9\n",
       "1420        0.998321              1            9\n",
       "2388        0.998009              1            9\n",
       "634         0.997397              0            9"
      ]
     },
     "execution_count": 30,
     "metadata": {},
     "output_type": "execute_result"
    }
   ],
   "source": [
    "df_y['decile_rank']=pd.qcut(df_y['predicted_prob'],10,labels=False)\n",
    "df_y.head()"
   ]
  },
  {
   "cell_type": "code",
   "execution_count": 31,
   "metadata": {},
   "outputs": [],
   "source": [
    "df_y.to_csv('C:/Users/udipt/Desktop/Websoft/Lift csv/y.csv')"
   ]
  },
  {
   "cell_type": "code",
   "execution_count": 32,
   "metadata": {},
   "outputs": [],
   "source": [
    "df_x=pd.DataFrame(xi_te.reset_index())\n",
    "df_x.to_csv('C:/Users/udipt/Desktop/Websoft/Lift csv/x.csv')"
   ]
  },
  {
   "cell_type": "code",
   "execution_count": 33,
   "metadata": {},
   "outputs": [],
   "source": [
    "x=pd.read_csv('C:/Users/udipt/Desktop/Websoft/Lift csv/x.csv')\n",
    "y=pd.read_csv('C:/Users/udipt/Desktop/Websoft/Lift csv/y.csv')"
   ]
  },
  {
   "cell_type": "code",
   "execution_count": 34,
   "metadata": {},
   "outputs": [
    {
     "data": {
      "text/plain": [
       "(Index(['Unnamed: 0', 'index', 'sl_number', 'ID', 'event_timestamp',\n",
       "        'log_timestamp', 'log_reading_4'],\n",
       "       dtype='object'),\n",
       " Index(['Unnamed: 0', 'predicted_prob', 'actual_values', 'decile_rank'], dtype='object'))"
      ]
     },
     "execution_count": 34,
     "metadata": {},
     "output_type": "execute_result"
    }
   ],
   "source": [
    "x.columns,y.columns"
   ]
  },
  {
   "cell_type": "code",
   "execution_count": 35,
   "metadata": {},
   "outputs": [
    {
     "data": {
      "text/html": [
       "<div>\n",
       "<style scoped>\n",
       "    .dataframe tbody tr th:only-of-type {\n",
       "        vertical-align: middle;\n",
       "    }\n",
       "\n",
       "    .dataframe tbody tr th {\n",
       "        vertical-align: top;\n",
       "    }\n",
       "\n",
       "    .dataframe thead th {\n",
       "        text-align: right;\n",
       "    }\n",
       "</style>\n",
       "<table border=\"1\" class=\"dataframe\">\n",
       "  <thead>\n",
       "    <tr style=\"text-align: right;\">\n",
       "      <th></th>\n",
       "      <th>Unnamed: 0</th>\n",
       "      <th>index</th>\n",
       "      <th>sl_number</th>\n",
       "      <th>ID</th>\n",
       "      <th>event_timestamp</th>\n",
       "      <th>log_timestamp</th>\n",
       "      <th>log_reading_4</th>\n",
       "      <th>predicted_prob</th>\n",
       "      <th>actual_values</th>\n",
       "      <th>decile_rank</th>\n",
       "    </tr>\n",
       "  </thead>\n",
       "  <tbody>\n",
       "    <tr>\n",
       "      <td>1866</td>\n",
       "      <td>1866</td>\n",
       "      <td>2577</td>\n",
       "      <td>2577</td>\n",
       "      <td>320491</td>\n",
       "      <td>1600747211</td>\n",
       "      <td>1432962455</td>\n",
       "      <td>8</td>\n",
       "      <td>0.998824</td>\n",
       "      <td>1</td>\n",
       "      <td>9</td>\n",
       "    </tr>\n",
       "    <tr>\n",
       "      <td>278</td>\n",
       "      <td>278</td>\n",
       "      <td>13849</td>\n",
       "      <td>13849</td>\n",
       "      <td>641089</td>\n",
       "      <td>1600747211</td>\n",
       "      <td>1437023295</td>\n",
       "      <td>4</td>\n",
       "      <td>0.998323</td>\n",
       "      <td>1</td>\n",
       "      <td>9</td>\n",
       "    </tr>\n",
       "    <tr>\n",
       "      <td>1420</td>\n",
       "      <td>1420</td>\n",
       "      <td>8617</td>\n",
       "      <td>8617</td>\n",
       "      <td>567347</td>\n",
       "      <td>1600747211</td>\n",
       "      <td>1435046916</td>\n",
       "      <td>10</td>\n",
       "      <td>0.998321</td>\n",
       "      <td>1</td>\n",
       "      <td>9</td>\n",
       "    </tr>\n",
       "    <tr>\n",
       "      <td>2388</td>\n",
       "      <td>2388</td>\n",
       "      <td>11633</td>\n",
       "      <td>11633</td>\n",
       "      <td>64247</td>\n",
       "      <td>1600747211</td>\n",
       "      <td>1432786110</td>\n",
       "      <td>8</td>\n",
       "      <td>0.998009</td>\n",
       "      <td>1</td>\n",
       "      <td>9</td>\n",
       "    </tr>\n",
       "    <tr>\n",
       "      <td>634</td>\n",
       "      <td>634</td>\n",
       "      <td>5779</td>\n",
       "      <td>5779</td>\n",
       "      <td>710785</td>\n",
       "      <td>1600735958</td>\n",
       "      <td>1433923795</td>\n",
       "      <td>4</td>\n",
       "      <td>0.997397</td>\n",
       "      <td>0</td>\n",
       "      <td>9</td>\n",
       "    </tr>\n",
       "  </tbody>\n",
       "</table>\n",
       "</div>"
      ],
      "text/plain": [
       "      Unnamed: 0  index  sl_number      ID  event_timestamp  log_timestamp  \\\n",
       "1866        1866   2577       2577  320491       1600747211     1432962455   \n",
       "278          278  13849      13849  641089       1600747211     1437023295   \n",
       "1420        1420   8617       8617  567347       1600747211     1435046916   \n",
       "2388        2388  11633      11633   64247       1600747211     1432786110   \n",
       "634          634   5779       5779  710785       1600735958     1433923795   \n",
       "\n",
       "      log_reading_4  predicted_prob  actual_values  decile_rank  \n",
       "1866              8        0.998824              1            9  \n",
       "278               4        0.998323              1            9  \n",
       "1420             10        0.998321              1            9  \n",
       "2388              8        0.998009              1            9  \n",
       "634               4        0.997397              0            9  "
      ]
     },
     "execution_count": 35,
     "metadata": {},
     "output_type": "execute_result"
    }
   ],
   "source": [
    "final_df=pd.merge(left=x,right=y,left_on='Unnamed: 0',right_on='Unnamed: 0')\n",
    "final_df=final_df.sort_values('predicted_prob',ascending=False)\n",
    "final_df.head()"
   ]
  },
  {
   "cell_type": "code",
   "execution_count": 36,
   "metadata": {},
   "outputs": [
    {
     "data": {
      "text/html": [
       "<div>\n",
       "<style scoped>\n",
       "    .dataframe tbody tr th:only-of-type {\n",
       "        vertical-align: middle;\n",
       "    }\n",
       "\n",
       "    .dataframe tbody tr th {\n",
       "        vertical-align: top;\n",
       "    }\n",
       "\n",
       "    .dataframe thead th {\n",
       "        text-align: right;\n",
       "    }\n",
       "</style>\n",
       "<table border=\"1\" class=\"dataframe\">\n",
       "  <thead>\n",
       "    <tr style=\"text-align: right;\">\n",
       "      <th></th>\n",
       "      <th>Unnamed: 0</th>\n",
       "      <th>index</th>\n",
       "      <th>sl_number</th>\n",
       "      <th>ID</th>\n",
       "      <th>event_timestamp</th>\n",
       "      <th>log_timestamp</th>\n",
       "      <th>log_reading_4</th>\n",
       "      <th>predicted_prob</th>\n",
       "      <th>actual_values</th>\n",
       "      <th>decile_rank</th>\n",
       "    </tr>\n",
       "    <tr>\n",
       "      <th>decile_rank</th>\n",
       "      <th></th>\n",
       "      <th></th>\n",
       "      <th></th>\n",
       "      <th></th>\n",
       "      <th></th>\n",
       "      <th></th>\n",
       "      <th></th>\n",
       "      <th></th>\n",
       "      <th></th>\n",
       "      <th></th>\n",
       "    </tr>\n",
       "  </thead>\n",
       "  <tbody>\n",
       "    <tr>\n",
       "      <td>0</td>\n",
       "      <td>2092.897025</td>\n",
       "      <td>9062.205950</td>\n",
       "      <td>9062.205950</td>\n",
       "      <td>555055.938215</td>\n",
       "      <td>1.414381e+09</td>\n",
       "      <td>1.435167e+09</td>\n",
       "      <td>5.503432</td>\n",
       "      <td>0.000681</td>\n",
       "      <td>0.009153</td>\n",
       "      <td>0.0</td>\n",
       "    </tr>\n",
       "    <tr>\n",
       "      <td>1</td>\n",
       "      <td>2216.449541</td>\n",
       "      <td>7828.949541</td>\n",
       "      <td>7828.949541</td>\n",
       "      <td>550987.711009</td>\n",
       "      <td>1.417107e+09</td>\n",
       "      <td>1.434735e+09</td>\n",
       "      <td>5.853211</td>\n",
       "      <td>0.002759</td>\n",
       "      <td>0.020642</td>\n",
       "      <td>1.0</td>\n",
       "    </tr>\n",
       "    <tr>\n",
       "      <td>2</td>\n",
       "      <td>2176.795872</td>\n",
       "      <td>7646.616972</td>\n",
       "      <td>7646.616972</td>\n",
       "      <td>544221.949541</td>\n",
       "      <td>1.416090e+09</td>\n",
       "      <td>1.434721e+09</td>\n",
       "      <td>6.082569</td>\n",
       "      <td>0.007608</td>\n",
       "      <td>0.025229</td>\n",
       "      <td>2.0</td>\n",
       "    </tr>\n",
       "    <tr>\n",
       "      <td>3</td>\n",
       "      <td>2167.496568</td>\n",
       "      <td>7884.645309</td>\n",
       "      <td>7884.645309</td>\n",
       "      <td>496149.100686</td>\n",
       "      <td>1.425715e+09</td>\n",
       "      <td>1.434818e+09</td>\n",
       "      <td>5.958810</td>\n",
       "      <td>0.033076</td>\n",
       "      <td>0.141876</td>\n",
       "      <td>3.0</td>\n",
       "    </tr>\n",
       "    <tr>\n",
       "      <td>4</td>\n",
       "      <td>2192.580275</td>\n",
       "      <td>8383.000000</td>\n",
       "      <td>8383.000000</td>\n",
       "      <td>461983.986239</td>\n",
       "      <td>1.465516e+09</td>\n",
       "      <td>1.435003e+09</td>\n",
       "      <td>6.011468</td>\n",
       "      <td>0.154652</td>\n",
       "      <td>0.486239</td>\n",
       "      <td>4.0</td>\n",
       "    </tr>\n",
       "    <tr>\n",
       "      <td>5</td>\n",
       "      <td>2187.549199</td>\n",
       "      <td>8159.661327</td>\n",
       "      <td>8159.661327</td>\n",
       "      <td>474926.665904</td>\n",
       "      <td>1.480647e+09</td>\n",
       "      <td>1.434877e+09</td>\n",
       "      <td>5.931350</td>\n",
       "      <td>0.332793</td>\n",
       "      <td>0.594966</td>\n",
       "      <td>5.0</td>\n",
       "    </tr>\n",
       "    <tr>\n",
       "      <td>6</td>\n",
       "      <td>2194.582569</td>\n",
       "      <td>7590.733945</td>\n",
       "      <td>7590.733945</td>\n",
       "      <td>479345.518349</td>\n",
       "      <td>1.488346e+09</td>\n",
       "      <td>1.434693e+09</td>\n",
       "      <td>6.332569</td>\n",
       "      <td>0.504039</td>\n",
       "      <td>0.566514</td>\n",
       "      <td>6.0</td>\n",
       "    </tr>\n",
       "    <tr>\n",
       "      <td>7</td>\n",
       "      <td>2226.013761</td>\n",
       "      <td>8024.247706</td>\n",
       "      <td>8024.247706</td>\n",
       "      <td>479588.233945</td>\n",
       "      <td>1.496007e+09</td>\n",
       "      <td>1.434839e+09</td>\n",
       "      <td>6.350917</td>\n",
       "      <td>0.644716</td>\n",
       "      <td>0.552752</td>\n",
       "      <td>7.0</td>\n",
       "    </tr>\n",
       "    <tr>\n",
       "      <td>8</td>\n",
       "      <td>2197.137300</td>\n",
       "      <td>8014.123570</td>\n",
       "      <td>8014.123570</td>\n",
       "      <td>499675.379863</td>\n",
       "      <td>1.497725e+09</td>\n",
       "      <td>1.434835e+09</td>\n",
       "      <td>6.691076</td>\n",
       "      <td>0.772493</td>\n",
       "      <td>0.491991</td>\n",
       "      <td>8.0</td>\n",
       "    </tr>\n",
       "    <tr>\n",
       "      <td>9</td>\n",
       "      <td>2163.683486</td>\n",
       "      <td>8388.513761</td>\n",
       "      <td>8388.513761</td>\n",
       "      <td>524982.183486</td>\n",
       "      <td>1.525177e+09</td>\n",
       "      <td>1.434968e+09</td>\n",
       "      <td>7.112385</td>\n",
       "      <td>0.910075</td>\n",
       "      <td>0.525229</td>\n",
       "      <td>9.0</td>\n",
       "    </tr>\n",
       "  </tbody>\n",
       "</table>\n",
       "</div>"
      ],
      "text/plain": [
       "              Unnamed: 0        index    sl_number             ID  \\\n",
       "decile_rank                                                         \n",
       "0            2092.897025  9062.205950  9062.205950  555055.938215   \n",
       "1            2216.449541  7828.949541  7828.949541  550987.711009   \n",
       "2            2176.795872  7646.616972  7646.616972  544221.949541   \n",
       "3            2167.496568  7884.645309  7884.645309  496149.100686   \n",
       "4            2192.580275  8383.000000  8383.000000  461983.986239   \n",
       "5            2187.549199  8159.661327  8159.661327  474926.665904   \n",
       "6            2194.582569  7590.733945  7590.733945  479345.518349   \n",
       "7            2226.013761  8024.247706  8024.247706  479588.233945   \n",
       "8            2197.137300  8014.123570  8014.123570  499675.379863   \n",
       "9            2163.683486  8388.513761  8388.513761  524982.183486   \n",
       "\n",
       "             event_timestamp  log_timestamp  log_reading_4  predicted_prob  \\\n",
       "decile_rank                                                                  \n",
       "0               1.414381e+09   1.435167e+09       5.503432        0.000681   \n",
       "1               1.417107e+09   1.434735e+09       5.853211        0.002759   \n",
       "2               1.416090e+09   1.434721e+09       6.082569        0.007608   \n",
       "3               1.425715e+09   1.434818e+09       5.958810        0.033076   \n",
       "4               1.465516e+09   1.435003e+09       6.011468        0.154652   \n",
       "5               1.480647e+09   1.434877e+09       5.931350        0.332793   \n",
       "6               1.488346e+09   1.434693e+09       6.332569        0.504039   \n",
       "7               1.496007e+09   1.434839e+09       6.350917        0.644716   \n",
       "8               1.497725e+09   1.434835e+09       6.691076        0.772493   \n",
       "9               1.525177e+09   1.434968e+09       7.112385        0.910075   \n",
       "\n",
       "             actual_values  decile_rank  \n",
       "decile_rank                              \n",
       "0                 0.009153          0.0  \n",
       "1                 0.020642          1.0  \n",
       "2                 0.025229          2.0  \n",
       "3                 0.141876          3.0  \n",
       "4                 0.486239          4.0  \n",
       "5                 0.594966          5.0  \n",
       "6                 0.566514          6.0  \n",
       "7                 0.552752          7.0  \n",
       "8                 0.491991          8.0  \n",
       "9                 0.525229          9.0  "
      ]
     },
     "execution_count": 36,
     "metadata": {},
     "output_type": "execute_result"
    }
   ],
   "source": [
    "final_df.groupby('decile_rank')[final_df.columns].mean()"
   ]
  },
  {
   "cell_type": "code",
   "execution_count": 37,
   "metadata": {},
   "outputs": [
    {
     "data": {
      "text/html": [
       "<div>\n",
       "<style scoped>\n",
       "    .dataframe tbody tr th:only-of-type {\n",
       "        vertical-align: middle;\n",
       "    }\n",
       "\n",
       "    .dataframe tbody tr th {\n",
       "        vertical-align: top;\n",
       "    }\n",
       "\n",
       "    .dataframe thead th {\n",
       "        text-align: right;\n",
       "    }\n",
       "</style>\n",
       "<table border=\"1\" class=\"dataframe\">\n",
       "  <thead>\n",
       "    <tr style=\"text-align: right;\">\n",
       "      <th></th>\n",
       "      <th>event_timestamp</th>\n",
       "      <th>log_timestamp</th>\n",
       "      <th>log_reading_4</th>\n",
       "      <th>predicted_prob</th>\n",
       "      <th>actual_values</th>\n",
       "      <th>decile_rank</th>\n",
       "    </tr>\n",
       "    <tr>\n",
       "      <th>decile_rank</th>\n",
       "      <th></th>\n",
       "      <th></th>\n",
       "      <th></th>\n",
       "      <th></th>\n",
       "      <th></th>\n",
       "      <th></th>\n",
       "    </tr>\n",
       "  </thead>\n",
       "  <tbody>\n",
       "    <tr>\n",
       "      <td>0</td>\n",
       "      <td>1.414381e+09</td>\n",
       "      <td>1.435167e+09</td>\n",
       "      <td>5.503432</td>\n",
       "      <td>0.000681</td>\n",
       "      <td>0.009153</td>\n",
       "      <td>0.0</td>\n",
       "    </tr>\n",
       "    <tr>\n",
       "      <td>1</td>\n",
       "      <td>1.417107e+09</td>\n",
       "      <td>1.434735e+09</td>\n",
       "      <td>5.853211</td>\n",
       "      <td>0.002759</td>\n",
       "      <td>0.020642</td>\n",
       "      <td>1.0</td>\n",
       "    </tr>\n",
       "    <tr>\n",
       "      <td>2</td>\n",
       "      <td>1.416090e+09</td>\n",
       "      <td>1.434721e+09</td>\n",
       "      <td>6.082569</td>\n",
       "      <td>0.007608</td>\n",
       "      <td>0.025229</td>\n",
       "      <td>2.0</td>\n",
       "    </tr>\n",
       "    <tr>\n",
       "      <td>3</td>\n",
       "      <td>1.425715e+09</td>\n",
       "      <td>1.434818e+09</td>\n",
       "      <td>5.958810</td>\n",
       "      <td>0.033076</td>\n",
       "      <td>0.141876</td>\n",
       "      <td>3.0</td>\n",
       "    </tr>\n",
       "    <tr>\n",
       "      <td>4</td>\n",
       "      <td>1.465516e+09</td>\n",
       "      <td>1.435003e+09</td>\n",
       "      <td>6.011468</td>\n",
       "      <td>0.154652</td>\n",
       "      <td>0.486239</td>\n",
       "      <td>4.0</td>\n",
       "    </tr>\n",
       "    <tr>\n",
       "      <td>5</td>\n",
       "      <td>1.480647e+09</td>\n",
       "      <td>1.434877e+09</td>\n",
       "      <td>5.931350</td>\n",
       "      <td>0.332793</td>\n",
       "      <td>0.594966</td>\n",
       "      <td>5.0</td>\n",
       "    </tr>\n",
       "    <tr>\n",
       "      <td>6</td>\n",
       "      <td>1.488346e+09</td>\n",
       "      <td>1.434693e+09</td>\n",
       "      <td>6.332569</td>\n",
       "      <td>0.504039</td>\n",
       "      <td>0.566514</td>\n",
       "      <td>6.0</td>\n",
       "    </tr>\n",
       "    <tr>\n",
       "      <td>7</td>\n",
       "      <td>1.496007e+09</td>\n",
       "      <td>1.434839e+09</td>\n",
       "      <td>6.350917</td>\n",
       "      <td>0.644716</td>\n",
       "      <td>0.552752</td>\n",
       "      <td>7.0</td>\n",
       "    </tr>\n",
       "    <tr>\n",
       "      <td>8</td>\n",
       "      <td>1.497725e+09</td>\n",
       "      <td>1.434835e+09</td>\n",
       "      <td>6.691076</td>\n",
       "      <td>0.772493</td>\n",
       "      <td>0.491991</td>\n",
       "      <td>8.0</td>\n",
       "    </tr>\n",
       "    <tr>\n",
       "      <td>9</td>\n",
       "      <td>1.525177e+09</td>\n",
       "      <td>1.434968e+09</td>\n",
       "      <td>7.112385</td>\n",
       "      <td>0.910075</td>\n",
       "      <td>0.525229</td>\n",
       "      <td>9.0</td>\n",
       "    </tr>\n",
       "  </tbody>\n",
       "</table>\n",
       "</div>"
      ],
      "text/plain": [
       "             event_timestamp  log_timestamp  log_reading_4  predicted_prob  \\\n",
       "decile_rank                                                                  \n",
       "0               1.414381e+09   1.435167e+09       5.503432        0.000681   \n",
       "1               1.417107e+09   1.434735e+09       5.853211        0.002759   \n",
       "2               1.416090e+09   1.434721e+09       6.082569        0.007608   \n",
       "3               1.425715e+09   1.434818e+09       5.958810        0.033076   \n",
       "4               1.465516e+09   1.435003e+09       6.011468        0.154652   \n",
       "5               1.480647e+09   1.434877e+09       5.931350        0.332793   \n",
       "6               1.488346e+09   1.434693e+09       6.332569        0.504039   \n",
       "7               1.496007e+09   1.434839e+09       6.350917        0.644716   \n",
       "8               1.497725e+09   1.434835e+09       6.691076        0.772493   \n",
       "9               1.525177e+09   1.434968e+09       7.112385        0.910075   \n",
       "\n",
       "             actual_values  decile_rank  \n",
       "decile_rank                              \n",
       "0                 0.009153          0.0  \n",
       "1                 0.020642          1.0  \n",
       "2                 0.025229          2.0  \n",
       "3                 0.141876          3.0  \n",
       "4                 0.486239          4.0  \n",
       "5                 0.594966          5.0  \n",
       "6                 0.566514          6.0  \n",
       "7                 0.552752          7.0  \n",
       "8                 0.491991          8.0  \n",
       "9                 0.525229          9.0  "
      ]
     },
     "execution_count": 37,
     "metadata": {},
     "output_type": "execute_result"
    }
   ],
   "source": [
    "l=[]\n",
    "for i in final_df.columns:\n",
    "    if i!='Unnamed: 0' and i!='index' and i!='sl_number' and i!='ID':\n",
    "        l.append(i)\n",
    "final_df.groupby('decile_rank')[l].mean()"
   ]
  },
  {
   "cell_type": "code",
   "execution_count": 38,
   "metadata": {},
   "outputs": [],
   "source": [
    "top_decile=final_df[final_df['decile_rank']==9]"
   ]
  },
  {
   "cell_type": "code",
   "execution_count": 39,
   "metadata": {},
   "outputs": [
    {
     "data": {
      "text/html": [
       "<div>\n",
       "<style scoped>\n",
       "    .dataframe tbody tr th:only-of-type {\n",
       "        vertical-align: middle;\n",
       "    }\n",
       "\n",
       "    .dataframe tbody tr th {\n",
       "        vertical-align: top;\n",
       "    }\n",
       "\n",
       "    .dataframe thead th {\n",
       "        text-align: right;\n",
       "    }\n",
       "</style>\n",
       "<table border=\"1\" class=\"dataframe\">\n",
       "  <thead>\n",
       "    <tr style=\"text-align: right;\">\n",
       "      <th></th>\n",
       "      <th>Unnamed: 0</th>\n",
       "      <th>index</th>\n",
       "      <th>sl_number</th>\n",
       "      <th>ID</th>\n",
       "      <th>event_timestamp</th>\n",
       "      <th>log_timestamp</th>\n",
       "      <th>log_reading_4</th>\n",
       "      <th>predicted_prob</th>\n",
       "      <th>actual_values</th>\n",
       "      <th>decile_rank</th>\n",
       "    </tr>\n",
       "  </thead>\n",
       "  <tbody>\n",
       "    <tr>\n",
       "      <td>1866</td>\n",
       "      <td>1866</td>\n",
       "      <td>2577</td>\n",
       "      <td>2577</td>\n",
       "      <td>320491</td>\n",
       "      <td>1600747211</td>\n",
       "      <td>1432962455</td>\n",
       "      <td>8</td>\n",
       "      <td>0.998824</td>\n",
       "      <td>1</td>\n",
       "      <td>9</td>\n",
       "    </tr>\n",
       "    <tr>\n",
       "      <td>278</td>\n",
       "      <td>278</td>\n",
       "      <td>13849</td>\n",
       "      <td>13849</td>\n",
       "      <td>641089</td>\n",
       "      <td>1600747211</td>\n",
       "      <td>1437023295</td>\n",
       "      <td>4</td>\n",
       "      <td>0.998323</td>\n",
       "      <td>1</td>\n",
       "      <td>9</td>\n",
       "    </tr>\n",
       "    <tr>\n",
       "      <td>1420</td>\n",
       "      <td>1420</td>\n",
       "      <td>8617</td>\n",
       "      <td>8617</td>\n",
       "      <td>567347</td>\n",
       "      <td>1600747211</td>\n",
       "      <td>1435046916</td>\n",
       "      <td>10</td>\n",
       "      <td>0.998321</td>\n",
       "      <td>1</td>\n",
       "      <td>9</td>\n",
       "    </tr>\n",
       "    <tr>\n",
       "      <td>2388</td>\n",
       "      <td>2388</td>\n",
       "      <td>11633</td>\n",
       "      <td>11633</td>\n",
       "      <td>64247</td>\n",
       "      <td>1600747211</td>\n",
       "      <td>1432786110</td>\n",
       "      <td>8</td>\n",
       "      <td>0.998009</td>\n",
       "      <td>1</td>\n",
       "      <td>9</td>\n",
       "    </tr>\n",
       "    <tr>\n",
       "      <td>634</td>\n",
       "      <td>634</td>\n",
       "      <td>5779</td>\n",
       "      <td>5779</td>\n",
       "      <td>710785</td>\n",
       "      <td>1600735958</td>\n",
       "      <td>1433923795</td>\n",
       "      <td>4</td>\n",
       "      <td>0.997397</td>\n",
       "      <td>0</td>\n",
       "      <td>9</td>\n",
       "    </tr>\n",
       "  </tbody>\n",
       "</table>\n",
       "</div>"
      ],
      "text/plain": [
       "      Unnamed: 0  index  sl_number      ID  event_timestamp  log_timestamp  \\\n",
       "1866        1866   2577       2577  320491       1600747211     1432962455   \n",
       "278          278  13849      13849  641089       1600747211     1437023295   \n",
       "1420        1420   8617       8617  567347       1600747211     1435046916   \n",
       "2388        2388  11633      11633   64247       1600747211     1432786110   \n",
       "634          634   5779       5779  710785       1600735958     1433923795   \n",
       "\n",
       "      log_reading_4  predicted_prob  actual_values  decile_rank  \n",
       "1866              8        0.998824              1            9  \n",
       "278               4        0.998323              1            9  \n",
       "1420             10        0.998321              1            9  \n",
       "2388              8        0.998009              1            9  \n",
       "634               4        0.997397              0            9  "
      ]
     },
     "execution_count": 39,
     "metadata": {},
     "output_type": "execute_result"
    }
   ],
   "source": [
    "top_decile.head()"
   ]
  },
  {
   "cell_type": "code",
   "execution_count": 40,
   "metadata": {},
   "outputs": [],
   "source": [
    "lift=top_decile['predicted_prob'].mean()/final_df['predicted_prob'].mean()"
   ]
  },
  {
   "cell_type": "code",
   "execution_count": 41,
   "metadata": {},
   "outputs": [
    {
     "name": "stdout",
     "output_type": "stream",
     "text": [
      "Lift = 2.71\n"
     ]
    }
   ],
   "source": [
    "print(f'Lift = {lift:.2f}')"
   ]
  },
  {
   "cell_type": "code",
   "execution_count": 42,
   "metadata": {},
   "outputs": [],
   "source": [
    "import pickle"
   ]
  },
  {
   "cell_type": "code",
   "execution_count": 43,
   "metadata": {},
   "outputs": [],
   "source": [
    "with open('C:/Users/udipt/Desktop/Websoft/Notebooks/Pickle/xg_grid','wb') as pxg:\n",
    "    pickle.dump(xg_b,pxg)"
   ]
  },
  {
   "cell_type": "code",
   "execution_count": null,
   "metadata": {},
   "outputs": [],
   "source": []
  }
 ],
 "metadata": {
  "kernelspec": {
   "display_name": "Python 3",
   "language": "python",
   "name": "python3"
  },
  "language_info": {
   "codemirror_mode": {
    "name": "ipython",
    "version": 3
   },
   "file_extension": ".py",
   "mimetype": "text/x-python",
   "name": "python",
   "nbconvert_exporter": "python",
   "pygments_lexer": "ipython3",
   "version": "3.7.4"
  }
 },
 "nbformat": 4,
 "nbformat_minor": 2
}
