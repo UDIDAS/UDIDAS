{
 "cells": [
  {
   "cell_type": "code",
   "execution_count": 1,
   "metadata": {},
   "outputs": [],
   "source": [
    "import pandas as pd"
   ]
  },
  {
   "cell_type": "code",
   "execution_count": 2,
   "metadata": {
    "collapsed": true
   },
   "outputs": [
    {
     "name": "stdout",
     "output_type": "stream",
     "text": [
      "<class 'pandas.core.frame.DataFrame'>\n",
      "RangeIndex: 16162 entries, 0 to 16161\n",
      "Data columns (total 11 columns):\n",
      "Unnamed: 0               16162 non-null int64\n",
      "ID                       16162 non-null int64\n",
      "Type                     16162 non-null object\n",
      "event_timestamp          16162 non-null int64\n",
      "event_label              16162 non-null object\n",
      "log_timestamp            16162 non-null int64\n",
      "log_reading_1            15848 non-null float64\n",
      "log_reading_2            15883 non-null object\n",
      "log_reading_3            15843 non-null float64\n",
      "log_reading_4            16162 non-null int64\n",
      "warranty_service_flag    1389 non-null object\n",
      "dtypes: float64(2), int64(5), object(4)\n",
      "memory usage: 1.4+ MB\n"
     ]
    }
   ],
   "source": [
    "df=pd.read_csv('C:/Users/udipt/Desktop/Websoft/Assignment/DataScienceCaseStudy/dataSample.csv')\n",
    "df.info()"
   ]
  },
  {
   "cell_type": "markdown",
   "metadata": {},
   "source": [
    "# Preprocessing"
   ]
  },
  {
   "cell_type": "code",
   "execution_count": 3,
   "metadata": {},
   "outputs": [
    {
     "data": {
      "text/plain": [
       "Index(['sl_number', 'ID', 'event_timestamp', 'log_timestamp', 'log_reading_1',\n",
       "       'log_reading_3', 'log_reading_4', 'Type_TypeA', 'Type_TypeB',\n",
       "       'event_label_activate', 'event_label_break', 'log_reading_2_a',\n",
       "       'log_reading_2_b', 'log_reading_2_c', 'warranty_service_flag_n',\n",
       "       'warranty_service_flag_y'],\n",
       "      dtype='object')"
      ]
     },
     "execution_count": 3,
     "metadata": {},
     "output_type": "execute_result"
    }
   ],
   "source": [
    "df=pd.get_dummies(df)\n",
    "df=df.rename(columns={'Unnamed: 0':'sl_number'})\n",
    "df.columns"
   ]
  },
  {
   "cell_type": "code",
   "execution_count": 4,
   "metadata": {
    "collapsed": true
   },
   "outputs": [
    {
     "name": "stdout",
     "output_type": "stream",
     "text": [
      "<class 'pandas.core.frame.DataFrame'>\n",
      "RangeIndex: 16162 entries, 0 to 16161\n",
      "Data columns (total 14 columns):\n",
      "sl_number                  16162 non-null int64\n",
      "ID                         16162 non-null int64\n",
      "event_timestamp            16162 non-null int64\n",
      "log_timestamp              16162 non-null int64\n",
      "log_reading_1              15848 non-null float64\n",
      "log_reading_3              15843 non-null float64\n",
      "log_reading_4              16162 non-null int64\n",
      "Type_TypeA                 16162 non-null uint8\n",
      "Type_TypeB                 16162 non-null uint8\n",
      "event_label_break          16162 non-null uint8\n",
      "log_reading_2_a            16162 non-null uint8\n",
      "log_reading_2_b            16162 non-null uint8\n",
      "log_reading_2_c            16162 non-null uint8\n",
      "warranty_service_flag_y    16162 non-null uint8\n",
      "dtypes: float64(2), int64(5), uint8(7)\n",
      "memory usage: 994.5 KB\n"
     ]
    }
   ],
   "source": [
    "df=df.drop(columns=['event_label_activate','warranty_service_flag_n'],axis=1)\n",
    "df.info()"
   ]
  },
  {
   "cell_type": "code",
   "execution_count": 5,
   "metadata": {
    "collapsed": true
   },
   "outputs": [
    {
     "name": "stdout",
     "output_type": "stream",
     "text": [
      "<class 'pandas.core.frame.DataFrame'>\n",
      "RangeIndex: 16162 entries, 0 to 16161\n",
      "Data columns (total 14 columns):\n",
      "sl_number                  16162 non-null int64\n",
      "ID                         16162 non-null int64\n",
      "event_timestamp            16162 non-null int64\n",
      "log_timestamp              16162 non-null int64\n",
      "log_reading_1              16162 non-null float64\n",
      "log_reading_3              16162 non-null float64\n",
      "log_reading_4              16162 non-null int64\n",
      "Type_TypeA                 16162 non-null uint8\n",
      "Type_TypeB                 16162 non-null uint8\n",
      "event_label_break          16162 non-null uint8\n",
      "log_reading_2_a            16162 non-null uint8\n",
      "log_reading_2_b            16162 non-null uint8\n",
      "log_reading_2_c            16162 non-null uint8\n",
      "warranty_service_flag_y    16162 non-null uint8\n",
      "dtypes: float64(2), int64(5), uint8(7)\n",
      "memory usage: 994.5 KB\n"
     ]
    }
   ],
   "source": [
    "df['log_reading_1'].fillna(df['log_reading_1'].median(),inplace=True)\n",
    "df['log_reading_3'].fillna(df['log_reading_3'].median(),inplace=True)\n",
    "df.info()"
   ]
  },
  {
   "cell_type": "markdown",
   "metadata": {},
   "source": [
    "# Train test split"
   ]
  },
  {
   "cell_type": "code",
   "execution_count": 6,
   "metadata": {},
   "outputs": [
    {
     "name": "stdout",
     "output_type": "stream",
     "text": [
      "The data has 34.15% of positive points\n"
     ]
    }
   ],
   "source": [
    "x=df.drop(columns=['event_label_break'],axis=1)\n",
    "y=df['event_label_break']\n",
    "print(f'The data has {y.mean()*100:.2f}% of positive points')"
   ]
  },
  {
   "cell_type": "code",
   "execution_count": 7,
   "metadata": {},
   "outputs": [
    {
     "name": "stdout",
     "output_type": "stream",
     "text": [
      "(11798, 13) (4364, 13) (11798,) (4364,)\n",
      "Training set has 34.15% positive points and test sets 34.14% of positive points\n"
     ]
    }
   ],
   "source": [
    "from sklearn.model_selection import train_test_split\n",
    "x_tr,x_te,y_tr,y_te=train_test_split(x,y,stratify=y,test_size=.27,random_state=10)\n",
    "print(x_tr.shape,x_te.shape,y_tr.shape,y_te.shape)\n",
    "print(f'Training set has {y_tr.mean()*100:.2f}% positive points and test sets {y_te.mean()*100:.2f}% of positive points')"
   ]
  },
  {
   "cell_type": "markdown",
   "metadata": {},
   "source": [
    "# XGboost"
   ]
  },
  {
   "cell_type": "code",
   "execution_count": 8,
   "metadata": {},
   "outputs": [
    {
     "name": "stderr",
     "output_type": "stream",
     "text": [
      "C:\\Users\\udipt\\Anaconda3\\lib\\site-packages\\distributed\\utils.py:133: RuntimeWarning: Couldn't detect a suitable IP address for reaching '8.8.8.8', defaulting to '127.0.0.1': [WinError 10065] A socket operation was attempted to an unreachable host\n",
      "  RuntimeWarning,\n"
     ]
    }
   ],
   "source": [
    "from xgboost import XGBClassifier"
   ]
  },
  {
   "cell_type": "code",
   "execution_count": 9,
   "metadata": {},
   "outputs": [
    {
     "data": {
      "text/plain": [
       "XGBClassifier(base_score=0.5, booster='gbtree', colsample_bylevel=1,\n",
       "              colsample_bynode=1, colsample_bytree=1, gamma=0, gpu_id=-1,\n",
       "              importance_type='gain', interaction_constraints='',\n",
       "              learning_rate=0.300000012, max_delta_step=0, max_depth=6,\n",
       "              min_child_weight=1, missing=nan, monotone_constraints='()',\n",
       "              n_estimators=100, n_jobs=-1, num_parallel_tree=1,\n",
       "              objective='binary:logistic', random_state=10, reg_alpha=0,\n",
       "              reg_lambda=1, scale_pos_weight=1, subsample=1,\n",
       "              tree_method='exact', validate_parameters=1, verbosity=None)"
      ]
     },
     "execution_count": 9,
     "metadata": {},
     "output_type": "execute_result"
    }
   ],
   "source": [
    "xg=XGBClassifier(n_jobs=-1,random_state=10)\n",
    "xg.fit(x_tr,y_tr)"
   ]
  },
  {
   "cell_type": "code",
   "execution_count": 10,
   "metadata": {},
   "outputs": [
    {
     "name": "stdout",
     "output_type": "stream",
     "text": [
      "XGboost without grid search predicted 37.69% points as positive in test data\n"
     ]
    }
   ],
   "source": [
    "y1_pred=xg.predict(x_te)\n",
    "y1_prob=xg.predict_proba(x_te)\n",
    "print(f'XGboost without grid search predicted {y1_pred.mean()*100:.2f}% points as positive in test data')"
   ]
  },
  {
   "cell_type": "markdown",
   "metadata": {},
   "source": [
    "## Grid search\n"
   ]
  },
  {
   "cell_type": "code",
   "execution_count": 11,
   "metadata": {},
   "outputs": [],
   "source": [
    "from sklearn.model_selection import GridSearchCV"
   ]
  },
  {
   "cell_type": "code",
   "execution_count": 12,
   "metadata": {
    "scrolled": true
   },
   "outputs": [
    {
     "data": {
      "text/plain": [
       "GridSearchCV(cv=5, error_score='raise-deprecating',\n",
       "             estimator=XGBClassifier(base_score=0.5, booster='gbtree',\n",
       "                                     colsample_bylevel=1, colsample_bynode=1,\n",
       "                                     colsample_bytree=1, gamma=0, gpu_id=-1,\n",
       "                                     importance_type='gain',\n",
       "                                     interaction_constraints='',\n",
       "                                     learning_rate=0.300000012,\n",
       "                                     max_delta_step=0, max_depth=6,\n",
       "                                     min_child_weight=1, missing=nan,\n",
       "                                     monotone_constraints='()',\n",
       "                                     n_esti...rs=100, n_jobs=-1,\n",
       "                                     num_parallel_tree=1,\n",
       "                                     objective='binary:logistic',\n",
       "                                     random_state=10, reg_alpha=0, reg_lambda=1,\n",
       "                                     scale_pos_weight=1, subsample=1,\n",
       "                                     tree_method='exact', validate_parameters=1,\n",
       "                                     verbosity=None),\n",
       "             iid='warn', n_jobs=-1,\n",
       "             param_grid={'n_estimators': range(250, 300, 10)},\n",
       "             pre_dispatch='2*n_jobs', refit=True, return_train_score=False,\n",
       "             scoring='roc_auc', verbose=0)"
      ]
     },
     "execution_count": 12,
     "metadata": {},
     "output_type": "execute_result"
    }
   ],
   "source": [
    "pg={'n_estimators':range(250,300,10)}\n",
    "xg_cv=GridSearchCV(xg,pg,cv=5,scoring='roc_auc',n_jobs=-1)\n",
    "xg_cv.fit(x_tr,y_tr)"
   ]
  },
  {
   "cell_type": "code",
   "execution_count": 13,
   "metadata": {},
   "outputs": [
    {
     "name": "stdout",
     "output_type": "stream",
     "text": [
      "Best parameters are {'n_estimators': 250} with best score 0.7720336251988795\n"
     ]
    }
   ],
   "source": [
    "print(f'Best parameters are {xg_cv.best_params_} with best score {xg_cv.best_score_}')"
   ]
  },
  {
   "cell_type": "code",
   "execution_count": 14,
   "metadata": {},
   "outputs": [],
   "source": [
    "xg_best=xg_cv.best_estimator_"
   ]
  },
  {
   "cell_type": "code",
   "execution_count": 15,
   "metadata": {},
   "outputs": [
    {
     "name": "stdout",
     "output_type": "stream",
     "text": [
      "Grid searched model predicted 35.45% points as positive\n"
     ]
    }
   ],
   "source": [
    "yxg_pred=xg_best.predict(x_te)\n",
    "yxg_prob=xg_best.predict_proba(x_te)\n",
    "print(f'Grid searched model predicted {yxg_pred.mean()*100:.2f}% points as positive')"
   ]
  },
  {
   "cell_type": "markdown",
   "metadata": {},
   "source": [
    "# Lift"
   ]
  },
  {
   "cell_type": "code",
   "execution_count": 16,
   "metadata": {
    "scrolled": true
   },
   "outputs": [
    {
     "data": {
      "text/plain": [
       "[0.6971924]"
      ]
     },
     "execution_count": 16,
     "metadata": {},
     "output_type": "execute_result"
    }
   ],
   "source": [
    "predicted_prob=[]\n",
    "for i in yxg_prob:\n",
    "    predicted_prob.append(i[1])\n",
    "predicted_prob[21:22]"
   ]
  },
  {
   "cell_type": "code",
   "execution_count": 17,
   "metadata": {},
   "outputs": [
    {
     "data": {
      "text/plain": [
       "array([[0.30280763, 0.6971924 ]], dtype=float32)"
      ]
     },
     "execution_count": 17,
     "metadata": {},
     "output_type": "execute_result"
    }
   ],
   "source": [
    "yxg_prob[21:22]"
   ]
  },
  {
   "cell_type": "code",
   "execution_count": 18,
   "metadata": {},
   "outputs": [
    {
     "data": {
      "text/plain": [
       "array([0, 1, 0, 0, 1, 0, 0, 0, 0], dtype=uint8)"
      ]
     },
     "execution_count": 18,
     "metadata": {},
     "output_type": "execute_result"
    }
   ],
   "source": [
    "yxg_pred[1:10]"
   ]
  },
  {
   "cell_type": "code",
   "execution_count": 19,
   "metadata": {},
   "outputs": [
    {
     "data": {
      "text/html": [
       "<div>\n",
       "<style scoped>\n",
       "    .dataframe tbody tr th:only-of-type {\n",
       "        vertical-align: middle;\n",
       "    }\n",
       "\n",
       "    .dataframe tbody tr th {\n",
       "        vertical-align: top;\n",
       "    }\n",
       "\n",
       "    .dataframe thead th {\n",
       "        text-align: right;\n",
       "    }\n",
       "</style>\n",
       "<table border=\"1\" class=\"dataframe\">\n",
       "  <thead>\n",
       "    <tr style=\"text-align: right;\">\n",
       "      <th></th>\n",
       "      <th>0</th>\n",
       "    </tr>\n",
       "  </thead>\n",
       "  <tbody>\n",
       "    <tr>\n",
       "      <td>0</td>\n",
       "      <td>0.268436</td>\n",
       "    </tr>\n",
       "    <tr>\n",
       "      <td>1</td>\n",
       "      <td>0.001291</td>\n",
       "    </tr>\n",
       "    <tr>\n",
       "      <td>2</td>\n",
       "      <td>0.704080</td>\n",
       "    </tr>\n",
       "    <tr>\n",
       "      <td>3</td>\n",
       "      <td>0.281567</td>\n",
       "    </tr>\n",
       "    <tr>\n",
       "      <td>4</td>\n",
       "      <td>0.011931</td>\n",
       "    </tr>\n",
       "  </tbody>\n",
       "</table>\n",
       "</div>"
      ],
      "text/plain": [
       "          0\n",
       "0  0.268436\n",
       "1  0.001291\n",
       "2  0.704080\n",
       "3  0.281567\n",
       "4  0.011931"
      ]
     },
     "execution_count": 19,
     "metadata": {},
     "output_type": "execute_result"
    }
   ],
   "source": [
    "comp=pd.DataFrame(predicted_prob)\n",
    "comp.head()"
   ]
  },
  {
   "cell_type": "code",
   "execution_count": 22,
   "metadata": {},
   "outputs": [
    {
     "data": {
      "text/html": [
       "<div>\n",
       "<style scoped>\n",
       "    .dataframe tbody tr th:only-of-type {\n",
       "        vertical-align: middle;\n",
       "    }\n",
       "\n",
       "    .dataframe tbody tr th {\n",
       "        vertical-align: top;\n",
       "    }\n",
       "\n",
       "    .dataframe thead th {\n",
       "        text-align: right;\n",
       "    }\n",
       "</style>\n",
       "<table border=\"1\" class=\"dataframe\">\n",
       "  <thead>\n",
       "    <tr style=\"text-align: right;\">\n",
       "      <th></th>\n",
       "      <th>index</th>\n",
       "      <th>event_label_break</th>\n",
       "    </tr>\n",
       "  </thead>\n",
       "  <tbody>\n",
       "    <tr>\n",
       "      <td>0</td>\n",
       "      <td>13877</td>\n",
       "      <td>1</td>\n",
       "    </tr>\n",
       "    <tr>\n",
       "      <td>1</td>\n",
       "      <td>6815</td>\n",
       "      <td>1</td>\n",
       "    </tr>\n",
       "    <tr>\n",
       "      <td>2</td>\n",
       "      <td>9851</td>\n",
       "      <td>0</td>\n",
       "    </tr>\n",
       "    <tr>\n",
       "      <td>3</td>\n",
       "      <td>16012</td>\n",
       "      <td>1</td>\n",
       "    </tr>\n",
       "    <tr>\n",
       "      <td>4</td>\n",
       "      <td>130</td>\n",
       "      <td>0</td>\n",
       "    </tr>\n",
       "    <tr>\n",
       "      <td>...</td>\n",
       "      <td>...</td>\n",
       "      <td>...</td>\n",
       "    </tr>\n",
       "    <tr>\n",
       "      <td>4359</td>\n",
       "      <td>3930</td>\n",
       "      <td>0</td>\n",
       "    </tr>\n",
       "    <tr>\n",
       "      <td>4360</td>\n",
       "      <td>7891</td>\n",
       "      <td>0</td>\n",
       "    </tr>\n",
       "    <tr>\n",
       "      <td>4361</td>\n",
       "      <td>12435</td>\n",
       "      <td>1</td>\n",
       "    </tr>\n",
       "    <tr>\n",
       "      <td>4362</td>\n",
       "      <td>8176</td>\n",
       "      <td>1</td>\n",
       "    </tr>\n",
       "    <tr>\n",
       "      <td>4363</td>\n",
       "      <td>6949</td>\n",
       "      <td>0</td>\n",
       "    </tr>\n",
       "  </tbody>\n",
       "</table>\n",
       "<p>4364 rows × 2 columns</p>\n",
       "</div>"
      ],
      "text/plain": [
       "      index  event_label_break\n",
       "0     13877                  1\n",
       "1      6815                  1\n",
       "2      9851                  0\n",
       "3     16012                  1\n",
       "4       130                  0\n",
       "...     ...                ...\n",
       "4359   3930                  0\n",
       "4360   7891                  0\n",
       "4361  12435                  1\n",
       "4362   8176                  1\n",
       "4363   6949                  0\n",
       "\n",
       "[4364 rows x 2 columns]"
      ]
     },
     "execution_count": 22,
     "metadata": {},
     "output_type": "execute_result"
    }
   ],
   "source": [
    "test_set=y_te.reset_index()\n",
    "test_set"
   ]
  },
  {
   "cell_type": "code",
   "execution_count": 23,
   "metadata": {},
   "outputs": [
    {
     "data": {
      "text/html": [
       "<div>\n",
       "<style scoped>\n",
       "    .dataframe tbody tr th:only-of-type {\n",
       "        vertical-align: middle;\n",
       "    }\n",
       "\n",
       "    .dataframe tbody tr th {\n",
       "        vertical-align: top;\n",
       "    }\n",
       "\n",
       "    .dataframe thead th {\n",
       "        text-align: right;\n",
       "    }\n",
       "</style>\n",
       "<table border=\"1\" class=\"dataframe\">\n",
       "  <thead>\n",
       "    <tr style=\"text-align: right;\">\n",
       "      <th></th>\n",
       "      <th>event_label_break</th>\n",
       "    </tr>\n",
       "  </thead>\n",
       "  <tbody>\n",
       "    <tr>\n",
       "      <td>0</td>\n",
       "      <td>1</td>\n",
       "    </tr>\n",
       "    <tr>\n",
       "      <td>1</td>\n",
       "      <td>1</td>\n",
       "    </tr>\n",
       "    <tr>\n",
       "      <td>2</td>\n",
       "      <td>0</td>\n",
       "    </tr>\n",
       "    <tr>\n",
       "      <td>3</td>\n",
       "      <td>1</td>\n",
       "    </tr>\n",
       "    <tr>\n",
       "      <td>4</td>\n",
       "      <td>0</td>\n",
       "    </tr>\n",
       "    <tr>\n",
       "      <td>...</td>\n",
       "      <td>...</td>\n",
       "    </tr>\n",
       "    <tr>\n",
       "      <td>4359</td>\n",
       "      <td>0</td>\n",
       "    </tr>\n",
       "    <tr>\n",
       "      <td>4360</td>\n",
       "      <td>0</td>\n",
       "    </tr>\n",
       "    <tr>\n",
       "      <td>4361</td>\n",
       "      <td>1</td>\n",
       "    </tr>\n",
       "    <tr>\n",
       "      <td>4362</td>\n",
       "      <td>1</td>\n",
       "    </tr>\n",
       "    <tr>\n",
       "      <td>4363</td>\n",
       "      <td>0</td>\n",
       "    </tr>\n",
       "  </tbody>\n",
       "</table>\n",
       "<p>4364 rows × 1 columns</p>\n",
       "</div>"
      ],
      "text/plain": [
       "      event_label_break\n",
       "0                     1\n",
       "1                     1\n",
       "2                     0\n",
       "3                     1\n",
       "4                     0\n",
       "...                 ...\n",
       "4359                  0\n",
       "4360                  0\n",
       "4361                  1\n",
       "4362                  1\n",
       "4363                  0\n",
       "\n",
       "[4364 rows x 1 columns]"
      ]
     },
     "execution_count": 23,
     "metadata": {},
     "output_type": "execute_result"
    }
   ],
   "source": [
    "test_set=test_set.drop(columns='index',axis=1)\n",
    "test_set"
   ]
  },
  {
   "cell_type": "code",
   "execution_count": 24,
   "metadata": {},
   "outputs": [
    {
     "data": {
      "text/plain": [
       "Index([0, 'actual_values'], dtype='object')"
      ]
     },
     "execution_count": 24,
     "metadata": {},
     "output_type": "execute_result"
    }
   ],
   "source": [
    "comp['actual_values']=test_set\n",
    "comp.columns"
   ]
  },
  {
   "cell_type": "code",
   "execution_count": 25,
   "metadata": {},
   "outputs": [
    {
     "data": {
      "text/html": [
       "<div>\n",
       "<style scoped>\n",
       "    .dataframe tbody tr th:only-of-type {\n",
       "        vertical-align: middle;\n",
       "    }\n",
       "\n",
       "    .dataframe tbody tr th {\n",
       "        vertical-align: top;\n",
       "    }\n",
       "\n",
       "    .dataframe thead th {\n",
       "        text-align: right;\n",
       "    }\n",
       "</style>\n",
       "<table border=\"1\" class=\"dataframe\">\n",
       "  <thead>\n",
       "    <tr style=\"text-align: right;\">\n",
       "      <th></th>\n",
       "      <th>predicted_probabilities</th>\n",
       "      <th>actual_values</th>\n",
       "    </tr>\n",
       "  </thead>\n",
       "  <tbody>\n",
       "    <tr>\n",
       "      <td>0</td>\n",
       "      <td>0.268436</td>\n",
       "      <td>1</td>\n",
       "    </tr>\n",
       "    <tr>\n",
       "      <td>1</td>\n",
       "      <td>0.001291</td>\n",
       "      <td>1</td>\n",
       "    </tr>\n",
       "    <tr>\n",
       "      <td>2</td>\n",
       "      <td>0.704080</td>\n",
       "      <td>0</td>\n",
       "    </tr>\n",
       "    <tr>\n",
       "      <td>3</td>\n",
       "      <td>0.281567</td>\n",
       "      <td>1</td>\n",
       "    </tr>\n",
       "    <tr>\n",
       "      <td>4</td>\n",
       "      <td>0.011931</td>\n",
       "      <td>0</td>\n",
       "    </tr>\n",
       "  </tbody>\n",
       "</table>\n",
       "</div>"
      ],
      "text/plain": [
       "   predicted_probabilities  actual_values\n",
       "0                 0.268436              1\n",
       "1                 0.001291              1\n",
       "2                 0.704080              0\n",
       "3                 0.281567              1\n",
       "4                 0.011931              0"
      ]
     },
     "execution_count": 25,
     "metadata": {},
     "output_type": "execute_result"
    }
   ],
   "source": [
    "comp=comp.rename(columns={0:'predicted_probabilities'})\n",
    "comp.head()"
   ]
  },
  {
   "cell_type": "code",
   "execution_count": 26,
   "metadata": {},
   "outputs": [
    {
     "data": {
      "text/plain": [
       "0.33542467397144987"
      ]
     },
     "execution_count": 26,
     "metadata": {},
     "output_type": "execute_result"
    }
   ],
   "source": [
    "comp['predicted_probabilities'].mean()"
   ]
  },
  {
   "cell_type": "code",
   "execution_count": 27,
   "metadata": {},
   "outputs": [
    {
     "name": "stdout",
     "output_type": "stream",
     "text": [
      "<class 'pandas.core.frame.DataFrame'>\n",
      "RangeIndex: 4364 entries, 0 to 4363\n",
      "Data columns (total 2 columns):\n",
      "predicted_probabilities    4364 non-null float64\n",
      "actual_values              4364 non-null uint8\n",
      "dtypes: float64(1), uint8(1)\n",
      "memory usage: 38.5 KB\n"
     ]
    }
   ],
   "source": [
    "comp.info()"
   ]
  },
  {
   "cell_type": "code",
   "execution_count": 28,
   "metadata": {},
   "outputs": [
    {
     "data": {
      "text/html": [
       "<div>\n",
       "<style scoped>\n",
       "    .dataframe tbody tr th:only-of-type {\n",
       "        vertical-align: middle;\n",
       "    }\n",
       "\n",
       "    .dataframe tbody tr th {\n",
       "        vertical-align: top;\n",
       "    }\n",
       "\n",
       "    .dataframe thead th {\n",
       "        text-align: right;\n",
       "    }\n",
       "</style>\n",
       "<table border=\"1\" class=\"dataframe\">\n",
       "  <thead>\n",
       "    <tr style=\"text-align: right;\">\n",
       "      <th></th>\n",
       "      <th>predicted_probabilities</th>\n",
       "      <th>actual_values</th>\n",
       "    </tr>\n",
       "  </thead>\n",
       "  <tbody>\n",
       "    <tr>\n",
       "      <td>1866</td>\n",
       "      <td>0.998291</td>\n",
       "      <td>1</td>\n",
       "    </tr>\n",
       "    <tr>\n",
       "      <td>1420</td>\n",
       "      <td>0.997538</td>\n",
       "      <td>1</td>\n",
       "    </tr>\n",
       "    <tr>\n",
       "      <td>634</td>\n",
       "      <td>0.997482</td>\n",
       "      <td>0</td>\n",
       "    </tr>\n",
       "    <tr>\n",
       "      <td>278</td>\n",
       "      <td>0.997222</td>\n",
       "      <td>1</td>\n",
       "    </tr>\n",
       "    <tr>\n",
       "      <td>1798</td>\n",
       "      <td>0.996950</td>\n",
       "      <td>1</td>\n",
       "    </tr>\n",
       "    <tr>\n",
       "      <td>...</td>\n",
       "      <td>...</td>\n",
       "      <td>...</td>\n",
       "    </tr>\n",
       "    <tr>\n",
       "      <td>3036</td>\n",
       "      <td>0.000302</td>\n",
       "      <td>0</td>\n",
       "    </tr>\n",
       "    <tr>\n",
       "      <td>503</td>\n",
       "      <td>0.000221</td>\n",
       "      <td>0</td>\n",
       "    </tr>\n",
       "    <tr>\n",
       "      <td>2241</td>\n",
       "      <td>0.000165</td>\n",
       "      <td>0</td>\n",
       "    </tr>\n",
       "    <tr>\n",
       "      <td>177</td>\n",
       "      <td>0.000134</td>\n",
       "      <td>0</td>\n",
       "    </tr>\n",
       "    <tr>\n",
       "      <td>1594</td>\n",
       "      <td>0.000110</td>\n",
       "      <td>0</td>\n",
       "    </tr>\n",
       "  </tbody>\n",
       "</table>\n",
       "<p>4364 rows × 2 columns</p>\n",
       "</div>"
      ],
      "text/plain": [
       "      predicted_probabilities  actual_values\n",
       "1866                 0.998291              1\n",
       "1420                 0.997538              1\n",
       "634                  0.997482              0\n",
       "278                  0.997222              1\n",
       "1798                 0.996950              1\n",
       "...                       ...            ...\n",
       "3036                 0.000302              0\n",
       "503                  0.000221              0\n",
       "2241                 0.000165              0\n",
       "177                  0.000134              0\n",
       "1594                 0.000110              0\n",
       "\n",
       "[4364 rows x 2 columns]"
      ]
     },
     "execution_count": 28,
     "metadata": {},
     "output_type": "execute_result"
    }
   ],
   "source": [
    "comp.sort_values('predicted_probabilities', ascending=False)"
   ]
  },
  {
   "cell_type": "code",
   "execution_count": 91,
   "metadata": {},
   "outputs": [
    {
     "data": {
      "text/html": [
       "<div>\n",
       "<style scoped>\n",
       "    .dataframe tbody tr th:only-of-type {\n",
       "        vertical-align: middle;\n",
       "    }\n",
       "\n",
       "    .dataframe tbody tr th {\n",
       "        vertical-align: top;\n",
       "    }\n",
       "\n",
       "    .dataframe thead th {\n",
       "        text-align: right;\n",
       "    }\n",
       "</style>\n",
       "<table border=\"1\" class=\"dataframe\">\n",
       "  <thead>\n",
       "    <tr style=\"text-align: right;\">\n",
       "      <th></th>\n",
       "      <th>predicted_probabilities</th>\n",
       "      <th>actual_values</th>\n",
       "      <th>decile_rank</th>\n",
       "    </tr>\n",
       "  </thead>\n",
       "  <tbody>\n",
       "    <tr>\n",
       "      <td>1866</td>\n",
       "      <td>0.998291</td>\n",
       "      <td>1</td>\n",
       "      <td>9</td>\n",
       "    </tr>\n",
       "    <tr>\n",
       "      <td>1420</td>\n",
       "      <td>0.997538</td>\n",
       "      <td>1</td>\n",
       "      <td>9</td>\n",
       "    </tr>\n",
       "    <tr>\n",
       "      <td>634</td>\n",
       "      <td>0.997482</td>\n",
       "      <td>0</td>\n",
       "      <td>9</td>\n",
       "    </tr>\n",
       "    <tr>\n",
       "      <td>278</td>\n",
       "      <td>0.997222</td>\n",
       "      <td>1</td>\n",
       "      <td>9</td>\n",
       "    </tr>\n",
       "    <tr>\n",
       "      <td>1798</td>\n",
       "      <td>0.996950</td>\n",
       "      <td>1</td>\n",
       "      <td>9</td>\n",
       "    </tr>\n",
       "  </tbody>\n",
       "</table>\n",
       "</div>"
      ],
      "text/plain": [
       "      predicted_probabilities  actual_values  decile_rank\n",
       "1866                 0.998291              1            9\n",
       "1420                 0.997538              1            9\n",
       "634                  0.997482              0            9\n",
       "278                  0.997222              1            9\n",
       "1798                 0.996950              1            9"
      ]
     },
     "execution_count": 91,
     "metadata": {},
     "output_type": "execute_result"
    }
   ],
   "source": [
    "comp['decile_rank']=pd.qcut(comp['predicted_probabilities'],10,labels=False)\n",
    "comp.head()"
   ]
  },
  {
   "cell_type": "code",
   "execution_count": 92,
   "metadata": {
    "collapsed": true
   },
   "outputs": [
    {
     "data": {
      "text/plain": [
       "3    437\n",
       "9    437\n",
       "5    437\n",
       "0    437\n",
       "7    436\n",
       "6    436\n",
       "2    436\n",
       "1    436\n",
       "8    436\n",
       "4    436\n",
       "Name: decile_rank, dtype: int64"
      ]
     },
     "execution_count": 92,
     "metadata": {},
     "output_type": "execute_result"
    }
   ],
   "source": [
    "comp['decile_rank'].value_counts()"
   ]
  },
  {
   "cell_type": "code",
   "execution_count": 93,
   "metadata": {},
   "outputs": [
    {
     "data": {
      "text/html": [
       "<div>\n",
       "<style scoped>\n",
       "    .dataframe tbody tr th:only-of-type {\n",
       "        vertical-align: middle;\n",
       "    }\n",
       "\n",
       "    .dataframe tbody tr th {\n",
       "        vertical-align: top;\n",
       "    }\n",
       "\n",
       "    .dataframe thead th {\n",
       "        text-align: right;\n",
       "    }\n",
       "</style>\n",
       "<table border=\"1\" class=\"dataframe\">\n",
       "  <thead>\n",
       "    <tr style=\"text-align: right;\">\n",
       "      <th></th>\n",
       "      <th>predicted_probabilities</th>\n",
       "      <th>actual_values</th>\n",
       "      <th>decile_rank</th>\n",
       "    </tr>\n",
       "  </thead>\n",
       "  <tbody>\n",
       "    <tr>\n",
       "      <td>1866</td>\n",
       "      <td>0.998291</td>\n",
       "      <td>1</td>\n",
       "      <td>9</td>\n",
       "    </tr>\n",
       "    <tr>\n",
       "      <td>1420</td>\n",
       "      <td>0.997538</td>\n",
       "      <td>1</td>\n",
       "      <td>9</td>\n",
       "    </tr>\n",
       "    <tr>\n",
       "      <td>634</td>\n",
       "      <td>0.997482</td>\n",
       "      <td>0</td>\n",
       "      <td>9</td>\n",
       "    </tr>\n",
       "    <tr>\n",
       "      <td>278</td>\n",
       "      <td>0.997222</td>\n",
       "      <td>1</td>\n",
       "      <td>9</td>\n",
       "    </tr>\n",
       "    <tr>\n",
       "      <td>1798</td>\n",
       "      <td>0.996950</td>\n",
       "      <td>1</td>\n",
       "      <td>9</td>\n",
       "    </tr>\n",
       "  </tbody>\n",
       "</table>\n",
       "</div>"
      ],
      "text/plain": [
       "      predicted_probabilities  actual_values  decile_rank\n",
       "1866                 0.998291              1            9\n",
       "1420                 0.997538              1            9\n",
       "634                  0.997482              0            9\n",
       "278                  0.997222              1            9\n",
       "1798                 0.996950              1            9"
      ]
     },
     "execution_count": 93,
     "metadata": {},
     "output_type": "execute_result"
    }
   ],
   "source": [
    "comp=comp.sort_values('predicted_probabilities',ascending=False)\n",
    "comp.head()"
   ]
  },
  {
   "cell_type": "code",
   "execution_count": 94,
   "metadata": {},
   "outputs": [
    {
     "data": {
      "text/html": [
       "<div>\n",
       "<style scoped>\n",
       "    .dataframe tbody tr th:only-of-type {\n",
       "        vertical-align: middle;\n",
       "    }\n",
       "\n",
       "    .dataframe tbody tr th {\n",
       "        vertical-align: top;\n",
       "    }\n",
       "\n",
       "    .dataframe thead th {\n",
       "        text-align: right;\n",
       "    }\n",
       "</style>\n",
       "<table border=\"1\" class=\"dataframe\">\n",
       "  <thead>\n",
       "    <tr style=\"text-align: right;\">\n",
       "      <th></th>\n",
       "      <th>predicted_probabilities</th>\n",
       "      <th>actual_values</th>\n",
       "      <th>decile_rank</th>\n",
       "    </tr>\n",
       "  </thead>\n",
       "  <tbody>\n",
       "    <tr>\n",
       "      <td>1866</td>\n",
       "      <td>0.998291</td>\n",
       "      <td>1</td>\n",
       "      <td>9</td>\n",
       "    </tr>\n",
       "    <tr>\n",
       "      <td>1420</td>\n",
       "      <td>0.997538</td>\n",
       "      <td>1</td>\n",
       "      <td>9</td>\n",
       "    </tr>\n",
       "    <tr>\n",
       "      <td>634</td>\n",
       "      <td>0.997482</td>\n",
       "      <td>0</td>\n",
       "      <td>9</td>\n",
       "    </tr>\n",
       "    <tr>\n",
       "      <td>278</td>\n",
       "      <td>0.997222</td>\n",
       "      <td>1</td>\n",
       "      <td>9</td>\n",
       "    </tr>\n",
       "    <tr>\n",
       "      <td>1798</td>\n",
       "      <td>0.996950</td>\n",
       "      <td>1</td>\n",
       "      <td>9</td>\n",
       "    </tr>\n",
       "  </tbody>\n",
       "</table>\n",
       "</div>"
      ],
      "text/plain": [
       "      predicted_probabilities  actual_values  decile_rank\n",
       "1866                 0.998291              1            9\n",
       "1420                 0.997538              1            9\n",
       "634                  0.997482              0            9\n",
       "278                  0.997222              1            9\n",
       "1798                 0.996950              1            9"
      ]
     },
     "execution_count": 94,
     "metadata": {},
     "output_type": "execute_result"
    }
   ],
   "source": [
    "top_decile=comp[comp['decile_rank']==9]\n",
    "top_decile.head()"
   ]
  },
  {
   "cell_type": "code",
   "execution_count": 87,
   "metadata": {},
   "outputs": [],
   "source": [
    "comp.to_csv('C:/Users/udipt/Desktop/Websoft/Performance/Comparison.csv',header=1)"
   ]
  },
  {
   "cell_type": "code",
   "execution_count": 95,
   "metadata": {},
   "outputs": [
    {
     "data": {
      "text/plain": [
       "0.8703211570495326"
      ]
     },
     "execution_count": 95,
     "metadata": {},
     "output_type": "execute_result"
    }
   ],
   "source": [
    "top_decile['predicted_probabilities'].mean()"
   ]
  },
  {
   "cell_type": "code",
   "execution_count": 96,
   "metadata": {},
   "outputs": [
    {
     "name": "stdout",
     "output_type": "stream",
     "text": [
      "lift = 2.59\n"
     ]
    }
   ],
   "source": [
    "lift=top_decile['predicted_probabilities'].mean()/comp['predicted_probabilities'].mean()\n",
    "print(f'lift = {lift:.2f}')"
   ]
  },
  {
   "cell_type": "code",
   "execution_count": 62,
   "metadata": {},
   "outputs": [],
   "source": [
    "dec_8=comp[comp['decile_rank']==8]\n",
    "dec_7=comp[comp['decile_rank']==7]\n",
    "dec_6=comp[comp['decile_rank']==6]\n",
    "dec_5=comp[comp['decile_rank']==5]\n",
    "dec_4=comp[comp['decile_rank']==4]\n",
    "dec_3=comp[comp['decile_rank']==3]\n",
    "dec_2=comp[comp['decile_rank']==2]\n",
    "dec_1=comp[comp['decile_rank']==1]\n",
    "dec_0=comp[comp['decile_rank']==0]"
   ]
  },
  {
   "cell_type": "code",
   "execution_count": 97,
   "metadata": {},
   "outputs": [
    {
     "data": {
      "text/plain": [
       "2.1743316148499265"
      ]
     },
     "execution_count": 97,
     "metadata": {},
     "output_type": "execute_result"
    }
   ],
   "source": [
    "dec_8['predicted_probabilities'].mean()/comp['predicted_probabilities'].mean()"
   ]
  },
  {
   "cell_type": "code",
   "execution_count": 98,
   "metadata": {},
   "outputs": [
    {
     "data": {
      "text/html": [
       "<div>\n",
       "<style scoped>\n",
       "    .dataframe tbody tr th:only-of-type {\n",
       "        vertical-align: middle;\n",
       "    }\n",
       "\n",
       "    .dataframe tbody tr th {\n",
       "        vertical-align: top;\n",
       "    }\n",
       "\n",
       "    .dataframe thead th {\n",
       "        text-align: right;\n",
       "    }\n",
       "</style>\n",
       "<table border=\"1\" class=\"dataframe\">\n",
       "  <thead>\n",
       "    <tr style=\"text-align: right;\">\n",
       "      <th></th>\n",
       "      <th>predicted_probabilities</th>\n",
       "      <th>actual_values</th>\n",
       "    </tr>\n",
       "    <tr>\n",
       "      <th>decile_rank</th>\n",
       "      <th></th>\n",
       "      <th></th>\n",
       "    </tr>\n",
       "  </thead>\n",
       "  <tbody>\n",
       "    <tr>\n",
       "      <td>0</td>\n",
       "      <td>0.002029</td>\n",
       "      <td>0.009153</td>\n",
       "    </tr>\n",
       "    <tr>\n",
       "      <td>1</td>\n",
       "      <td>0.005195</td>\n",
       "      <td>0.011468</td>\n",
       "    </tr>\n",
       "    <tr>\n",
       "      <td>2</td>\n",
       "      <td>0.012468</td>\n",
       "      <td>0.027523</td>\n",
       "    </tr>\n",
       "    <tr>\n",
       "      <td>3</td>\n",
       "      <td>0.042550</td>\n",
       "      <td>0.116705</td>\n",
       "    </tr>\n",
       "    <tr>\n",
       "      <td>4</td>\n",
       "      <td>0.191407</td>\n",
       "      <td>0.458716</td>\n",
       "    </tr>\n",
       "    <tr>\n",
       "      <td>5</td>\n",
       "      <td>0.372335</td>\n",
       "      <td>0.613272</td>\n",
       "    </tr>\n",
       "    <tr>\n",
       "      <td>6</td>\n",
       "      <td>0.505222</td>\n",
       "      <td>0.594037</td>\n",
       "    </tr>\n",
       "    <tr>\n",
       "      <td>7</td>\n",
       "      <td>0.623521</td>\n",
       "      <td>0.548165</td>\n",
       "    </tr>\n",
       "    <tr>\n",
       "      <td>8</td>\n",
       "      <td>0.729324</td>\n",
       "      <td>0.497706</td>\n",
       "    </tr>\n",
       "    <tr>\n",
       "      <td>9</td>\n",
       "      <td>0.870321</td>\n",
       "      <td>0.537757</td>\n",
       "    </tr>\n",
       "  </tbody>\n",
       "</table>\n",
       "</div>"
      ],
      "text/plain": [
       "             predicted_probabilities  actual_values\n",
       "decile_rank                                        \n",
       "0                           0.002029       0.009153\n",
       "1                           0.005195       0.011468\n",
       "2                           0.012468       0.027523\n",
       "3                           0.042550       0.116705\n",
       "4                           0.191407       0.458716\n",
       "5                           0.372335       0.613272\n",
       "6                           0.505222       0.594037\n",
       "7                           0.623521       0.548165\n",
       "8                           0.729324       0.497706\n",
       "9                           0.870321       0.537757"
      ]
     },
     "execution_count": 98,
     "metadata": {},
     "output_type": "execute_result"
    }
   ],
   "source": [
    "comp.groupby('decile_rank')[['predicted_probabilities','actual_values']].mean()"
   ]
  },
  {
   "cell_type": "code",
   "execution_count": 100,
   "metadata": {},
   "outputs": [
    {
     "data": {
      "text/plain": [
       "Index(['sl_number', 'ID', 'event_timestamp', 'log_timestamp', 'log_reading_1',\n",
       "       'log_reading_3', 'log_reading_4', 'Type_TypeA', 'Type_TypeB',\n",
       "       'log_reading_2_a', 'log_reading_2_b', 'log_reading_2_c',\n",
       "       'warranty_service_flag_y'],\n",
       "      dtype='object')"
      ]
     },
     "execution_count": 100,
     "metadata": {},
     "output_type": "execute_result"
    }
   ],
   "source": [
    "x_te.columns"
   ]
  },
  {
   "cell_type": "code",
   "execution_count": 102,
   "metadata": {},
   "outputs": [
    {
     "data": {
      "text/html": [
       "<div>\n",
       "<style scoped>\n",
       "    .dataframe tbody tr th:only-of-type {\n",
       "        vertical-align: middle;\n",
       "    }\n",
       "\n",
       "    .dataframe tbody tr th {\n",
       "        vertical-align: top;\n",
       "    }\n",
       "\n",
       "    .dataframe thead th {\n",
       "        text-align: right;\n",
       "    }\n",
       "</style>\n",
       "<table border=\"1\" class=\"dataframe\">\n",
       "  <thead>\n",
       "    <tr style=\"text-align: right;\">\n",
       "      <th></th>\n",
       "      <th>sl_number</th>\n",
       "      <th>ID</th>\n",
       "      <th>event_timestamp</th>\n",
       "      <th>log_timestamp</th>\n",
       "      <th>log_reading_1</th>\n",
       "      <th>log_reading_3</th>\n",
       "      <th>log_reading_4</th>\n",
       "      <th>Type_TypeA</th>\n",
       "      <th>Type_TypeB</th>\n",
       "      <th>log_reading_2_a</th>\n",
       "      <th>log_reading_2_b</th>\n",
       "      <th>log_reading_2_c</th>\n",
       "      <th>warranty_service_flag_y</th>\n",
       "    </tr>\n",
       "  </thead>\n",
       "  <tbody>\n",
       "    <tr>\n",
       "      <td>13877</td>\n",
       "      <td>13877</td>\n",
       "      <td>549783</td>\n",
       "      <td>1594922787</td>\n",
       "      <td>1437030415</td>\n",
       "      <td>10.0</td>\n",
       "      <td>10.0</td>\n",
       "      <td>6</td>\n",
       "      <td>0</td>\n",
       "      <td>1</td>\n",
       "      <td>1</td>\n",
       "      <td>0</td>\n",
       "      <td>0</td>\n",
       "      <td>0</td>\n",
       "    </tr>\n",
       "    <tr>\n",
       "      <td>6815</td>\n",
       "      <td>6815</td>\n",
       "      <td>95321</td>\n",
       "      <td>1359908656</td>\n",
       "      <td>1434251185</td>\n",
       "      <td>10.0</td>\n",
       "      <td>10.0</td>\n",
       "      <td>6</td>\n",
       "      <td>0</td>\n",
       "      <td>1</td>\n",
       "      <td>1</td>\n",
       "      <td>0</td>\n",
       "      <td>0</td>\n",
       "      <td>0</td>\n",
       "    </tr>\n",
       "    <tr>\n",
       "      <td>9851</td>\n",
       "      <td>9851</td>\n",
       "      <td>724307</td>\n",
       "      <td>1473380907</td>\n",
       "      <td>1435461182</td>\n",
       "      <td>10.0</td>\n",
       "      <td>6.0</td>\n",
       "      <td>8</td>\n",
       "      <td>1</td>\n",
       "      <td>0</td>\n",
       "      <td>1</td>\n",
       "      <td>0</td>\n",
       "      <td>0</td>\n",
       "      <td>0</td>\n",
       "    </tr>\n",
       "    <tr>\n",
       "      <td>16012</td>\n",
       "      <td>16012</td>\n",
       "      <td>702211</td>\n",
       "      <td>1441476449</td>\n",
       "      <td>1437718017</td>\n",
       "      <td>10.0</td>\n",
       "      <td>10.0</td>\n",
       "      <td>7</td>\n",
       "      <td>1</td>\n",
       "      <td>0</td>\n",
       "      <td>1</td>\n",
       "      <td>0</td>\n",
       "      <td>0</td>\n",
       "      <td>0</td>\n",
       "    </tr>\n",
       "    <tr>\n",
       "      <td>130</td>\n",
       "      <td>130</td>\n",
       "      <td>709365</td>\n",
       "      <td>1431615901</td>\n",
       "      <td>1432285540</td>\n",
       "      <td>10.0</td>\n",
       "      <td>10.0</td>\n",
       "      <td>10</td>\n",
       "      <td>1</td>\n",
       "      <td>0</td>\n",
       "      <td>1</td>\n",
       "      <td>0</td>\n",
       "      <td>0</td>\n",
       "      <td>0</td>\n",
       "    </tr>\n",
       "  </tbody>\n",
       "</table>\n",
       "</div>"
      ],
      "text/plain": [
       "       sl_number      ID  event_timestamp  log_timestamp  log_reading_1  \\\n",
       "13877      13877  549783       1594922787     1437030415           10.0   \n",
       "6815        6815   95321       1359908656     1434251185           10.0   \n",
       "9851        9851  724307       1473380907     1435461182           10.0   \n",
       "16012      16012  702211       1441476449     1437718017           10.0   \n",
       "130          130  709365       1431615901     1432285540           10.0   \n",
       "\n",
       "       log_reading_3  log_reading_4  Type_TypeA  Type_TypeB  log_reading_2_a  \\\n",
       "13877           10.0              6           0           1                1   \n",
       "6815            10.0              6           0           1                1   \n",
       "9851             6.0              8           1           0                1   \n",
       "16012           10.0              7           1           0                1   \n",
       "130             10.0             10           1           0                1   \n",
       "\n",
       "       log_reading_2_b  log_reading_2_c  warranty_service_flag_y  \n",
       "13877                0                0                        0  \n",
       "6815                 0                0                        0  \n",
       "9851                 0                0                        0  \n",
       "16012                0                0                        0  \n",
       "130                  0                0                        0  "
      ]
     },
     "execution_count": 102,
     "metadata": {},
     "output_type": "execute_result"
    }
   ],
   "source": [
    "x_te.head()"
   ]
  },
  {
   "cell_type": "code",
   "execution_count": 116,
   "metadata": {},
   "outputs": [
    {
     "data": {
      "text/html": [
       "<div>\n",
       "<style scoped>\n",
       "    .dataframe tbody tr th:only-of-type {\n",
       "        vertical-align: middle;\n",
       "    }\n",
       "\n",
       "    .dataframe tbody tr th {\n",
       "        vertical-align: top;\n",
       "    }\n",
       "\n",
       "    .dataframe thead th {\n",
       "        text-align: right;\n",
       "    }\n",
       "</style>\n",
       "<table border=\"1\" class=\"dataframe\">\n",
       "  <thead>\n",
       "    <tr style=\"text-align: right;\">\n",
       "      <th></th>\n",
       "      <th>sl_number</th>\n",
       "      <th>ID</th>\n",
       "      <th>event_timestamp</th>\n",
       "      <th>log_timestamp</th>\n",
       "      <th>log_reading_1</th>\n",
       "      <th>log_reading_3</th>\n",
       "      <th>log_reading_4</th>\n",
       "      <th>Type_TypeA</th>\n",
       "      <th>Type_TypeB</th>\n",
       "      <th>log_reading_2_a</th>\n",
       "      <th>log_reading_2_b</th>\n",
       "      <th>log_reading_2_c</th>\n",
       "      <th>warranty_service_flag_y</th>\n",
       "    </tr>\n",
       "  </thead>\n",
       "  <tbody>\n",
       "    <tr>\n",
       "      <td>0</td>\n",
       "      <td>13877</td>\n",
       "      <td>549783</td>\n",
       "      <td>1594922787</td>\n",
       "      <td>1437030415</td>\n",
       "      <td>10.0</td>\n",
       "      <td>10.0</td>\n",
       "      <td>6</td>\n",
       "      <td>0</td>\n",
       "      <td>1</td>\n",
       "      <td>1</td>\n",
       "      <td>0</td>\n",
       "      <td>0</td>\n",
       "      <td>0</td>\n",
       "    </tr>\n",
       "    <tr>\n",
       "      <td>1</td>\n",
       "      <td>6815</td>\n",
       "      <td>95321</td>\n",
       "      <td>1359908656</td>\n",
       "      <td>1434251185</td>\n",
       "      <td>10.0</td>\n",
       "      <td>10.0</td>\n",
       "      <td>6</td>\n",
       "      <td>0</td>\n",
       "      <td>1</td>\n",
       "      <td>1</td>\n",
       "      <td>0</td>\n",
       "      <td>0</td>\n",
       "      <td>0</td>\n",
       "    </tr>\n",
       "    <tr>\n",
       "      <td>2</td>\n",
       "      <td>9851</td>\n",
       "      <td>724307</td>\n",
       "      <td>1473380907</td>\n",
       "      <td>1435461182</td>\n",
       "      <td>10.0</td>\n",
       "      <td>6.0</td>\n",
       "      <td>8</td>\n",
       "      <td>1</td>\n",
       "      <td>0</td>\n",
       "      <td>1</td>\n",
       "      <td>0</td>\n",
       "      <td>0</td>\n",
       "      <td>0</td>\n",
       "    </tr>\n",
       "    <tr>\n",
       "      <td>3</td>\n",
       "      <td>16012</td>\n",
       "      <td>702211</td>\n",
       "      <td>1441476449</td>\n",
       "      <td>1437718017</td>\n",
       "      <td>10.0</td>\n",
       "      <td>10.0</td>\n",
       "      <td>7</td>\n",
       "      <td>1</td>\n",
       "      <td>0</td>\n",
       "      <td>1</td>\n",
       "      <td>0</td>\n",
       "      <td>0</td>\n",
       "      <td>0</td>\n",
       "    </tr>\n",
       "    <tr>\n",
       "      <td>4</td>\n",
       "      <td>130</td>\n",
       "      <td>709365</td>\n",
       "      <td>1431615901</td>\n",
       "      <td>1432285540</td>\n",
       "      <td>10.0</td>\n",
       "      <td>10.0</td>\n",
       "      <td>10</td>\n",
       "      <td>1</td>\n",
       "      <td>0</td>\n",
       "      <td>1</td>\n",
       "      <td>0</td>\n",
       "      <td>0</td>\n",
       "      <td>0</td>\n",
       "    </tr>\n",
       "  </tbody>\n",
       "</table>\n",
       "</div>"
      ],
      "text/plain": [
       "   sl_number      ID  event_timestamp  log_timestamp  log_reading_1  \\\n",
       "0      13877  549783       1594922787     1437030415           10.0   \n",
       "1       6815   95321       1359908656     1434251185           10.0   \n",
       "2       9851  724307       1473380907     1435461182           10.0   \n",
       "3      16012  702211       1441476449     1437718017           10.0   \n",
       "4        130  709365       1431615901     1432285540           10.0   \n",
       "\n",
       "   log_reading_3  log_reading_4  Type_TypeA  Type_TypeB  log_reading_2_a  \\\n",
       "0           10.0              6           0           1                1   \n",
       "1           10.0              6           0           1                1   \n",
       "2            6.0              8           1           0                1   \n",
       "3           10.0              7           1           0                1   \n",
       "4           10.0             10           1           0                1   \n",
       "\n",
       "   log_reading_2_b  log_reading_2_c  warranty_service_flag_y  \n",
       "0                0                0                        0  \n",
       "1                0                0                        0  \n",
       "2                0                0                        0  \n",
       "3                0                0                        0  \n",
       "4                0                0                        0  "
      ]
     },
     "execution_count": 116,
     "metadata": {},
     "output_type": "execute_result"
    }
   ],
   "source": [
    "test_variables=x_te.reset_index()\n",
    "test_variables=test_variables.drop(columns='index',axis=1)\n",
    "test_variables.head()"
   ]
  },
  {
   "cell_type": "code",
   "execution_count": 122,
   "metadata": {},
   "outputs": [],
   "source": [
    "test_variables.to_csv('C:/Users/udipt/Desktop/Websoft/Performance/Independent_vars.csv',header=1)"
   ]
  },
  {
   "cell_type": "code",
   "execution_count": 138,
   "metadata": {},
   "outputs": [],
   "source": [
    "t_vars=pd.DataFrame(test_variables)"
   ]
  },
  {
   "cell_type": "code",
   "execution_count": 148,
   "metadata": {
    "scrolled": true
   },
   "outputs": [
    {
     "name": "stdout",
     "output_type": "stream",
     "text": [
      "<class 'pandas.core.frame.DataFrame'>\n",
      "Int64Index: 4364 entries, 0 to 4363\n",
      "Data columns (total 29 columns):\n",
      "sl_number                  4364 non-null int64\n",
      "ID                         4364 non-null int64\n",
      "event_timestamp            4364 non-null int64\n",
      "log_timestamp              4364 non-null int64\n",
      "log_reading_1              4364 non-null float64\n",
      "log_reading_3              4364 non-null float64\n",
      "log_reading_4              4364 non-null int64\n",
      "Type_TypeA                 4364 non-null uint8\n",
      "Type_TypeB                 4364 non-null uint8\n",
      "log_reading_2_a            4364 non-null uint8\n",
      "log_reading_2_b            4364 non-null uint8\n",
      "log_reading_2_c            4364 non-null uint8\n",
      "warranty_service_flag_y    4364 non-null uint8\n",
      "predicted_probabilities    4364 non-null float64\n",
      "actual_values              4364 non-null uint8\n",
      "decile_rank                4364 non-null int64\n",
      "sl_number                  4364 non-null object\n",
      "ID                         4364 non-null object\n",
      "event_timestamp            4364 non-null object\n",
      "log_timestamp              4364 non-null object\n",
      "log_reading_1              4364 non-null object\n",
      "log_reading_3              4364 non-null object\n",
      "log_reading_4              4364 non-null object\n",
      "Type_TypeA                 4364 non-null object\n",
      "Type_TypeB                 4364 non-null object\n",
      "log_reading_2_a            4364 non-null object\n",
      "log_reading_2_b            4364 non-null object\n",
      "log_reading_2_c            4364 non-null object\n",
      "warranty_service_flag_y    4364 non-null object\n",
      "dtypes: float64(3), int64(6), object(13), uint8(7)\n",
      "memory usage: 814.0+ KB\n"
     ]
    }
   ],
   "source": [
    "final_df=pd.concat([t_vars,comp],axis=1)\n",
    "final_df.info()"
   ]
  },
  {
   "cell_type": "code",
   "execution_count": null,
   "metadata": {},
   "outputs": [],
   "source": []
  }
 ],
 "metadata": {
  "kernelspec": {
   "display_name": "Python 3",
   "language": "python",
   "name": "python3"
  },
  "language_info": {
   "codemirror_mode": {
    "name": "ipython",
    "version": 3
   },
   "file_extension": ".py",
   "mimetype": "text/x-python",
   "name": "python",
   "nbconvert_exporter": "python",
   "pygments_lexer": "ipython3",
   "version": "3.7.4"
  }
 },
 "nbformat": 4,
 "nbformat_minor": 2
}
