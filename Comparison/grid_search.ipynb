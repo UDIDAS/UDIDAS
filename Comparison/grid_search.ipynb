{
 "cells": [
  {
   "cell_type": "code",
   "execution_count": 1,
   "metadata": {},
   "outputs": [],
   "source": [
    "import pandas as pd"
   ]
  },
  {
   "cell_type": "code",
   "execution_count": 2,
   "metadata": {},
   "outputs": [],
   "source": [
    "df=pd.read_csv('C:/Users/udipt/Desktop/Websoft/Assignment/DataScienceCaseStudy/dataSample.csv')"
   ]
  },
  {
   "cell_type": "code",
   "execution_count": 3,
   "metadata": {},
   "outputs": [
    {
     "data": {
      "text/plain": [
       "(16162, 11)"
      ]
     },
     "execution_count": 3,
     "metadata": {},
     "output_type": "execute_result"
    }
   ],
   "source": [
    "df.shape"
   ]
  },
  {
   "cell_type": "code",
   "execution_count": 4,
   "metadata": {},
   "outputs": [
    {
     "data": {
      "text/plain": [
       "y    903\n",
       "n    486\n",
       "Name: warranty_service_flag, dtype: int64"
      ]
     },
     "execution_count": 4,
     "metadata": {},
     "output_type": "execute_result"
    }
   ],
   "source": [
    "df['warranty_service_flag'].value_counts()"
   ]
  },
  {
   "cell_type": "code",
   "execution_count": 5,
   "metadata": {
    "scrolled": false
   },
   "outputs": [
    {
     "name": "stdout",
     "output_type": "stream",
     "text": [
      "<class 'pandas.core.frame.DataFrame'>\n",
      "RangeIndex: 16162 entries, 0 to 16161\n",
      "Data columns (total 11 columns):\n",
      "Unnamed: 0               16162 non-null int64\n",
      "ID                       16162 non-null int64\n",
      "Type                     16162 non-null object\n",
      "event_timestamp          16162 non-null int64\n",
      "event_label              16162 non-null object\n",
      "log_timestamp            16162 non-null int64\n",
      "log_reading_1            15848 non-null float64\n",
      "log_reading_2            15883 non-null object\n",
      "log_reading_3            15843 non-null float64\n",
      "log_reading_4            16162 non-null int64\n",
      "warranty_service_flag    1389 non-null object\n",
      "dtypes: float64(2), int64(5), object(4)\n",
      "memory usage: 1.4+ MB\n"
     ]
    }
   ],
   "source": [
    "df.info()"
   ]
  },
  {
   "cell_type": "markdown",
   "metadata": {},
   "source": [
    "## Non-numeric variables are Type, log_reading_2 and warranty_service_flag"
   ]
  },
  {
   "cell_type": "code",
   "execution_count": 6,
   "metadata": {},
   "outputs": [],
   "source": [
    "df=pd.get_dummies(df)"
   ]
  },
  {
   "cell_type": "code",
   "execution_count": 7,
   "metadata": {},
   "outputs": [
    {
     "data": {
      "text/html": [
       "<div>\n",
       "<style scoped>\n",
       "    .dataframe tbody tr th:only-of-type {\n",
       "        vertical-align: middle;\n",
       "    }\n",
       "\n",
       "    .dataframe tbody tr th {\n",
       "        vertical-align: top;\n",
       "    }\n",
       "\n",
       "    .dataframe thead th {\n",
       "        text-align: right;\n",
       "    }\n",
       "</style>\n",
       "<table border=\"1\" class=\"dataframe\">\n",
       "  <thead>\n",
       "    <tr style=\"text-align: right;\">\n",
       "      <th></th>\n",
       "      <th>Unnamed: 0</th>\n",
       "      <th>ID</th>\n",
       "      <th>event_timestamp</th>\n",
       "      <th>log_timestamp</th>\n",
       "      <th>log_reading_1</th>\n",
       "      <th>log_reading_3</th>\n",
       "      <th>log_reading_4</th>\n",
       "      <th>Type_TypeA</th>\n",
       "      <th>Type_TypeB</th>\n",
       "      <th>event_label_activate</th>\n",
       "      <th>event_label_break</th>\n",
       "      <th>log_reading_2_a</th>\n",
       "      <th>log_reading_2_b</th>\n",
       "      <th>log_reading_2_c</th>\n",
       "      <th>warranty_service_flag_n</th>\n",
       "      <th>warranty_service_flag_y</th>\n",
       "    </tr>\n",
       "  </thead>\n",
       "  <tbody>\n",
       "    <tr>\n",
       "      <td>0</td>\n",
       "      <td>0</td>\n",
       "      <td>716013</td>\n",
       "      <td>1432329808</td>\n",
       "      <td>1432084088</td>\n",
       "      <td>10.0</td>\n",
       "      <td>10.0</td>\n",
       "      <td>7</td>\n",
       "      <td>1</td>\n",
       "      <td>0</td>\n",
       "      <td>1</td>\n",
       "      <td>0</td>\n",
       "      <td>0</td>\n",
       "      <td>1</td>\n",
       "      <td>0</td>\n",
       "      <td>0</td>\n",
       "      <td>0</td>\n",
       "    </tr>\n",
       "    <tr>\n",
       "      <td>1</td>\n",
       "      <td>1</td>\n",
       "      <td>716013</td>\n",
       "      <td>1539877380</td>\n",
       "      <td>1432084088</td>\n",
       "      <td>10.0</td>\n",
       "      <td>10.0</td>\n",
       "      <td>7</td>\n",
       "      <td>1</td>\n",
       "      <td>0</td>\n",
       "      <td>0</td>\n",
       "      <td>1</td>\n",
       "      <td>0</td>\n",
       "      <td>1</td>\n",
       "      <td>0</td>\n",
       "      <td>0</td>\n",
       "      <td>0</td>\n",
       "    </tr>\n",
       "    <tr>\n",
       "      <td>2</td>\n",
       "      <td>2</td>\n",
       "      <td>716013</td>\n",
       "      <td>1539879425</td>\n",
       "      <td>1432084088</td>\n",
       "      <td>10.0</td>\n",
       "      <td>10.0</td>\n",
       "      <td>7</td>\n",
       "      <td>1</td>\n",
       "      <td>0</td>\n",
       "      <td>1</td>\n",
       "      <td>0</td>\n",
       "      <td>0</td>\n",
       "      <td>1</td>\n",
       "      <td>0</td>\n",
       "      <td>0</td>\n",
       "      <td>0</td>\n",
       "    </tr>\n",
       "    <tr>\n",
       "      <td>3</td>\n",
       "      <td>3</td>\n",
       "      <td>716013</td>\n",
       "      <td>1539956727</td>\n",
       "      <td>1432084088</td>\n",
       "      <td>10.0</td>\n",
       "      <td>10.0</td>\n",
       "      <td>7</td>\n",
       "      <td>1</td>\n",
       "      <td>0</td>\n",
       "      <td>0</td>\n",
       "      <td>1</td>\n",
       "      <td>0</td>\n",
       "      <td>1</td>\n",
       "      <td>0</td>\n",
       "      <td>0</td>\n",
       "      <td>0</td>\n",
       "    </tr>\n",
       "    <tr>\n",
       "      <td>4</td>\n",
       "      <td>4</td>\n",
       "      <td>716013</td>\n",
       "      <td>1551462952</td>\n",
       "      <td>1432084088</td>\n",
       "      <td>10.0</td>\n",
       "      <td>10.0</td>\n",
       "      <td>7</td>\n",
       "      <td>1</td>\n",
       "      <td>0</td>\n",
       "      <td>1</td>\n",
       "      <td>0</td>\n",
       "      <td>0</td>\n",
       "      <td>1</td>\n",
       "      <td>0</td>\n",
       "      <td>0</td>\n",
       "      <td>0</td>\n",
       "    </tr>\n",
       "  </tbody>\n",
       "</table>\n",
       "</div>"
      ],
      "text/plain": [
       "   Unnamed: 0      ID  event_timestamp  log_timestamp  log_reading_1  \\\n",
       "0           0  716013       1432329808     1432084088           10.0   \n",
       "1           1  716013       1539877380     1432084088           10.0   \n",
       "2           2  716013       1539879425     1432084088           10.0   \n",
       "3           3  716013       1539956727     1432084088           10.0   \n",
       "4           4  716013       1551462952     1432084088           10.0   \n",
       "\n",
       "   log_reading_3  log_reading_4  Type_TypeA  Type_TypeB  event_label_activate  \\\n",
       "0           10.0              7           1           0                     1   \n",
       "1           10.0              7           1           0                     0   \n",
       "2           10.0              7           1           0                     1   \n",
       "3           10.0              7           1           0                     0   \n",
       "4           10.0              7           1           0                     1   \n",
       "\n",
       "   event_label_break  log_reading_2_a  log_reading_2_b  log_reading_2_c  \\\n",
       "0                  0                0                1                0   \n",
       "1                  1                0                1                0   \n",
       "2                  0                0                1                0   \n",
       "3                  1                0                1                0   \n",
       "4                  0                0                1                0   \n",
       "\n",
       "   warranty_service_flag_n  warranty_service_flag_y  \n",
       "0                        0                        0  \n",
       "1                        0                        0  \n",
       "2                        0                        0  \n",
       "3                        0                        0  \n",
       "4                        0                        0  "
      ]
     },
     "execution_count": 7,
     "metadata": {},
     "output_type": "execute_result"
    }
   ],
   "source": [
    "df.head()"
   ]
  },
  {
   "cell_type": "code",
   "execution_count": 8,
   "metadata": {},
   "outputs": [
    {
     "data": {
      "text/html": [
       "<div>\n",
       "<style scoped>\n",
       "    .dataframe tbody tr th:only-of-type {\n",
       "        vertical-align: middle;\n",
       "    }\n",
       "\n",
       "    .dataframe tbody tr th {\n",
       "        vertical-align: top;\n",
       "    }\n",
       "\n",
       "    .dataframe thead th {\n",
       "        text-align: right;\n",
       "    }\n",
       "</style>\n",
       "<table border=\"1\" class=\"dataframe\">\n",
       "  <thead>\n",
       "    <tr style=\"text-align: right;\">\n",
       "      <th></th>\n",
       "      <th>Unnamed: 0</th>\n",
       "      <th>ID</th>\n",
       "      <th>event_timestamp</th>\n",
       "      <th>log_timestamp</th>\n",
       "      <th>log_reading_1</th>\n",
       "      <th>log_reading_3</th>\n",
       "      <th>log_reading_4</th>\n",
       "      <th>Type_TypeA</th>\n",
       "      <th>Type_TypeB</th>\n",
       "      <th>event_label_activate</th>\n",
       "      <th>log_reading_2_a</th>\n",
       "      <th>log_reading_2_b</th>\n",
       "      <th>log_reading_2_c</th>\n",
       "      <th>warranty_service_flag_y</th>\n",
       "    </tr>\n",
       "  </thead>\n",
       "  <tbody>\n",
       "    <tr>\n",
       "      <td>0</td>\n",
       "      <td>0</td>\n",
       "      <td>716013</td>\n",
       "      <td>1432329808</td>\n",
       "      <td>1432084088</td>\n",
       "      <td>10.0</td>\n",
       "      <td>10.0</td>\n",
       "      <td>7</td>\n",
       "      <td>1</td>\n",
       "      <td>0</td>\n",
       "      <td>1</td>\n",
       "      <td>0</td>\n",
       "      <td>1</td>\n",
       "      <td>0</td>\n",
       "      <td>0</td>\n",
       "    </tr>\n",
       "    <tr>\n",
       "      <td>1</td>\n",
       "      <td>1</td>\n",
       "      <td>716013</td>\n",
       "      <td>1539877380</td>\n",
       "      <td>1432084088</td>\n",
       "      <td>10.0</td>\n",
       "      <td>10.0</td>\n",
       "      <td>7</td>\n",
       "      <td>1</td>\n",
       "      <td>0</td>\n",
       "      <td>0</td>\n",
       "      <td>0</td>\n",
       "      <td>1</td>\n",
       "      <td>0</td>\n",
       "      <td>0</td>\n",
       "    </tr>\n",
       "    <tr>\n",
       "      <td>2</td>\n",
       "      <td>2</td>\n",
       "      <td>716013</td>\n",
       "      <td>1539879425</td>\n",
       "      <td>1432084088</td>\n",
       "      <td>10.0</td>\n",
       "      <td>10.0</td>\n",
       "      <td>7</td>\n",
       "      <td>1</td>\n",
       "      <td>0</td>\n",
       "      <td>1</td>\n",
       "      <td>0</td>\n",
       "      <td>1</td>\n",
       "      <td>0</td>\n",
       "      <td>0</td>\n",
       "    </tr>\n",
       "    <tr>\n",
       "      <td>3</td>\n",
       "      <td>3</td>\n",
       "      <td>716013</td>\n",
       "      <td>1539956727</td>\n",
       "      <td>1432084088</td>\n",
       "      <td>10.0</td>\n",
       "      <td>10.0</td>\n",
       "      <td>7</td>\n",
       "      <td>1</td>\n",
       "      <td>0</td>\n",
       "      <td>0</td>\n",
       "      <td>0</td>\n",
       "      <td>1</td>\n",
       "      <td>0</td>\n",
       "      <td>0</td>\n",
       "    </tr>\n",
       "    <tr>\n",
       "      <td>4</td>\n",
       "      <td>4</td>\n",
       "      <td>716013</td>\n",
       "      <td>1551462952</td>\n",
       "      <td>1432084088</td>\n",
       "      <td>10.0</td>\n",
       "      <td>10.0</td>\n",
       "      <td>7</td>\n",
       "      <td>1</td>\n",
       "      <td>0</td>\n",
       "      <td>1</td>\n",
       "      <td>0</td>\n",
       "      <td>1</td>\n",
       "      <td>0</td>\n",
       "      <td>0</td>\n",
       "    </tr>\n",
       "  </tbody>\n",
       "</table>\n",
       "</div>"
      ],
      "text/plain": [
       "   Unnamed: 0      ID  event_timestamp  log_timestamp  log_reading_1  \\\n",
       "0           0  716013       1432329808     1432084088           10.0   \n",
       "1           1  716013       1539877380     1432084088           10.0   \n",
       "2           2  716013       1539879425     1432084088           10.0   \n",
       "3           3  716013       1539956727     1432084088           10.0   \n",
       "4           4  716013       1551462952     1432084088           10.0   \n",
       "\n",
       "   log_reading_3  log_reading_4  Type_TypeA  Type_TypeB  event_label_activate  \\\n",
       "0           10.0              7           1           0                     1   \n",
       "1           10.0              7           1           0                     0   \n",
       "2           10.0              7           1           0                     1   \n",
       "3           10.0              7           1           0                     0   \n",
       "4           10.0              7           1           0                     1   \n",
       "\n",
       "   log_reading_2_a  log_reading_2_b  log_reading_2_c  warranty_service_flag_y  \n",
       "0                0                1                0                        0  \n",
       "1                0                1                0                        0  \n",
       "2                0                1                0                        0  \n",
       "3                0                1                0                        0  \n",
       "4                0                1                0                        0  "
      ]
     },
     "execution_count": 8,
     "metadata": {},
     "output_type": "execute_result"
    }
   ],
   "source": [
    "df=df.drop(columns=['event_label_break','warranty_service_flag_n'],axis=1)\n",
    "df.head()"
   ]
  },
  {
   "cell_type": "code",
   "execution_count": 9,
   "metadata": {},
   "outputs": [
    {
     "name": "stdout",
     "output_type": "stream",
     "text": [
      "<class 'pandas.core.frame.DataFrame'>\n",
      "RangeIndex: 16162 entries, 0 to 16161\n",
      "Data columns (total 14 columns):\n",
      "Unnamed: 0                 16162 non-null int64\n",
      "ID                         16162 non-null int64\n",
      "event_timestamp            16162 non-null int64\n",
      "log_timestamp              16162 non-null int64\n",
      "log_reading_1              15848 non-null float64\n",
      "log_reading_3              15843 non-null float64\n",
      "log_reading_4              16162 non-null int64\n",
      "Type_TypeA                 16162 non-null uint8\n",
      "Type_TypeB                 16162 non-null uint8\n",
      "event_label_activate       16162 non-null uint8\n",
      "log_reading_2_a            16162 non-null uint8\n",
      "log_reading_2_b            16162 non-null uint8\n",
      "log_reading_2_c            16162 non-null uint8\n",
      "warranty_service_flag_y    16162 non-null uint8\n",
      "dtypes: float64(2), int64(5), uint8(7)\n",
      "memory usage: 994.5 KB\n"
     ]
    }
   ],
   "source": [
    "df.info()"
   ]
  },
  {
   "cell_type": "markdown",
   "metadata": {},
   "source": [
    "## Value missing in log_reading_1 and log_reading_3 "
   ]
  },
  {
   "cell_type": "code",
   "execution_count": 10,
   "metadata": {},
   "outputs": [
    {
     "name": "stdout",
     "output_type": "stream",
     "text": [
      "10.0***********10.0\n"
     ]
    }
   ],
   "source": [
    "median_lr1=df['log_reading_1'].median()\n",
    "median_lr3=df['log_reading_3'].median()\n",
    "print(median_lr1,median_lr3,sep='***********')"
   ]
  },
  {
   "cell_type": "code",
   "execution_count": 11,
   "metadata": {},
   "outputs": [],
   "source": [
    "df['log_reading_1'].fillna(median_lr1,inplace=True)\n",
    "df['log_reading_3'].fillna(median_lr3,inplace=True)"
   ]
  },
  {
   "cell_type": "code",
   "execution_count": 12,
   "metadata": {},
   "outputs": [
    {
     "name": "stdout",
     "output_type": "stream",
     "text": [
      "<class 'pandas.core.frame.DataFrame'>\n",
      "RangeIndex: 16162 entries, 0 to 16161\n",
      "Data columns (total 14 columns):\n",
      "Unnamed: 0                 16162 non-null int64\n",
      "ID                         16162 non-null int64\n",
      "event_timestamp            16162 non-null int64\n",
      "log_timestamp              16162 non-null int64\n",
      "log_reading_1              16162 non-null float64\n",
      "log_reading_3              16162 non-null float64\n",
      "log_reading_4              16162 non-null int64\n",
      "Type_TypeA                 16162 non-null uint8\n",
      "Type_TypeB                 16162 non-null uint8\n",
      "event_label_activate       16162 non-null uint8\n",
      "log_reading_2_a            16162 non-null uint8\n",
      "log_reading_2_b            16162 non-null uint8\n",
      "log_reading_2_c            16162 non-null uint8\n",
      "warranty_service_flag_y    16162 non-null uint8\n",
      "dtypes: float64(2), int64(5), uint8(7)\n",
      "memory usage: 994.5 KB\n"
     ]
    }
   ],
   "source": [
    "df.info()"
   ]
  },
  {
   "cell_type": "markdown",
   "metadata": {},
   "source": [
    "## All missing values have been treated"
   ]
  },
  {
   "cell_type": "markdown",
   "metadata": {},
   "source": [
    "# Target and independent variables"
   ]
  },
  {
   "cell_type": "code",
   "execution_count": 13,
   "metadata": {},
   "outputs": [],
   "source": [
    "x=df.drop('event_label_activate',axis=1)\n",
    "y=df['event_label_activate']"
   ]
  },
  {
   "cell_type": "markdown",
   "metadata": {},
   "source": [
    "# Train-test split"
   ]
  },
  {
   "cell_type": "code",
   "execution_count": 14,
   "metadata": {},
   "outputs": [],
   "source": [
    "from sklearn.model_selection import train_test_split"
   ]
  },
  {
   "cell_type": "markdown",
   "metadata": {},
   "source": [
    "#### Stratified"
   ]
  },
  {
   "cell_type": "code",
   "execution_count": 15,
   "metadata": {},
   "outputs": [],
   "source": [
    "x_tr,x_te,y_tr,y_te=train_test_split(x,y,test_size=.33,stratify=y,random_state=10)"
   ]
  },
  {
   "cell_type": "markdown",
   "metadata": {},
   "source": [
    "#### Not stratified"
   ]
  },
  {
   "cell_type": "code",
   "execution_count": 17,
   "metadata": {},
   "outputs": [],
   "source": [
    "x1_tr,x1_te,y1_tr,y1_te=train_test_split(x,y,test_size=.33,random_state=10)"
   ]
  },
  {
   "cell_type": "code",
   "execution_count": 18,
   "metadata": {},
   "outputs": [
    {
     "data": {
      "text/plain": [
       "0.6585199851503527"
      ]
     },
     "execution_count": 18,
     "metadata": {},
     "output_type": "execute_result"
    }
   ],
   "source": [
    "y.mean()"
   ]
  },
  {
   "cell_type": "markdown",
   "metadata": {},
   "source": [
    "# Decision tree"
   ]
  },
  {
   "cell_type": "code",
   "execution_count": 19,
   "metadata": {},
   "outputs": [],
   "source": [
    "from sklearn import tree"
   ]
  },
  {
   "cell_type": "code",
   "execution_count": 20,
   "metadata": {},
   "outputs": [
    {
     "data": {
      "text/plain": [
       "DecisionTreeClassifier(class_weight=None, criterion='gini', max_depth=3,\n",
       "                       max_features=None, max_leaf_nodes=None,\n",
       "                       min_impurity_decrease=0.0, min_impurity_split=None,\n",
       "                       min_samples_leaf=1, min_samples_split=2,\n",
       "                       min_weight_fraction_leaf=0.0, presort=False,\n",
       "                       random_state=10, splitter='best')"
      ]
     },
     "execution_count": 20,
     "metadata": {},
     "output_type": "execute_result"
    }
   ],
   "source": [
    "dt=tree.DecisionTreeClassifier(max_depth=3,random_state=10)\n",
    "dt.fit(x_tr,y_tr)"
   ]
  },
  {
   "cell_type": "code",
   "execution_count": 21,
   "metadata": {},
   "outputs": [],
   "source": [
    "y_dt_pred=dt.predict(x_te)"
   ]
  },
  {
   "cell_type": "code",
   "execution_count": 22,
   "metadata": {},
   "outputs": [
    {
     "data": {
      "text/plain": [
       "DecisionTreeClassifier(class_weight=None, criterion='gini', max_depth=3,\n",
       "                       max_features=None, max_leaf_nodes=None,\n",
       "                       min_impurity_decrease=0.0, min_impurity_split=None,\n",
       "                       min_samples_leaf=1, min_samples_split=2,\n",
       "                       min_weight_fraction_leaf=0.0, presort=False,\n",
       "                       random_state=10, splitter='best')"
      ]
     },
     "execution_count": 22,
     "metadata": {},
     "output_type": "execute_result"
    }
   ],
   "source": [
    "dt1=tree.DecisionTreeClassifier(max_depth=3,random_state=10)\n",
    "dt1.fit(x1_tr,y1_tr)"
   ]
  },
  {
   "cell_type": "code",
   "execution_count": 23,
   "metadata": {},
   "outputs": [],
   "source": [
    "y1_dt_pred=dt1.predict(x1_te)"
   ]
  },
  {
   "cell_type": "markdown",
   "metadata": {},
   "source": [
    "### y_dt_pred contains the predicted values of test data using decision tree"
   ]
  },
  {
   "cell_type": "code",
   "execution_count": null,
   "metadata": {},
   "outputs": [],
   "source": []
  },
  {
   "cell_type": "code",
   "execution_count": null,
   "metadata": {},
   "outputs": [],
   "source": []
  },
  {
   "cell_type": "code",
   "execution_count": null,
   "metadata": {},
   "outputs": [],
   "source": []
  },
  {
   "cell_type": "code",
   "execution_count": null,
   "metadata": {},
   "outputs": [],
   "source": []
  },
  {
   "cell_type": "markdown",
   "metadata": {},
   "source": [
    "# Random-forest"
   ]
  },
  {
   "cell_type": "code",
   "execution_count": 22,
   "metadata": {},
   "outputs": [],
   "source": [
    "from sklearn.ensemble import RandomForestClassifier"
   ]
  },
  {
   "cell_type": "code",
   "execution_count": 23,
   "metadata": {},
   "outputs": [
    {
     "data": {
      "text/plain": [
       "RandomForestClassifier(bootstrap=True, class_weight=None, criterion='gini',\n",
       "                       max_depth=5, max_features='auto', max_leaf_nodes=None,\n",
       "                       min_impurity_decrease=0.0, min_impurity_split=None,\n",
       "                       min_samples_leaf=1, min_samples_split=2,\n",
       "                       min_weight_fraction_leaf=0.0, n_estimators=1000,\n",
       "                       n_jobs=-1, oob_score=False, random_state=10, verbose=0,\n",
       "                       warm_start=False)"
      ]
     },
     "execution_count": 23,
     "metadata": {},
     "output_type": "execute_result"
    }
   ],
   "source": [
    "rf=RandomForestClassifier(max_depth=5,n_estimators=1000,n_jobs=-1,random_state=10)\n",
    "rf.fit(x_tr,y_tr)"
   ]
  },
  {
   "cell_type": "code",
   "execution_count": 24,
   "metadata": {},
   "outputs": [],
   "source": [
    "y_rf_pred=rf.predict(x_te)"
   ]
  },
  {
   "cell_type": "code",
   "execution_count": 25,
   "metadata": {},
   "outputs": [
    {
     "data": {
      "text/plain": [
       "RandomForestClassifier(bootstrap=True, class_weight=None, criterion='gini',\n",
       "                       max_depth=5, max_features='auto', max_leaf_nodes=None,\n",
       "                       min_impurity_decrease=0.0, min_impurity_split=None,\n",
       "                       min_samples_leaf=1, min_samples_split=2,\n",
       "                       min_weight_fraction_leaf=0.0, n_estimators=1000,\n",
       "                       n_jobs=-1, oob_score=False, random_state=10, verbose=0,\n",
       "                       warm_start=False)"
      ]
     },
     "execution_count": 25,
     "metadata": {},
     "output_type": "execute_result"
    }
   ],
   "source": [
    "rf1=RandomForestClassifier(max_depth=5,n_estimators=1000,n_jobs=-1,random_state=10)\n",
    "rf1.fit(x1_tr,y1_tr)"
   ]
  },
  {
   "cell_type": "code",
   "execution_count": 26,
   "metadata": {},
   "outputs": [],
   "source": [
    "y1_rf_pred=rf1.predict(x1_te)"
   ]
  },
  {
   "cell_type": "markdown",
   "metadata": {},
   "source": [
    "### y_rf_pred contains predicted values of test data using random forest classifier"
   ]
  },
  {
   "cell_type": "markdown",
   "metadata": {},
   "source": [
    "# XGBoost"
   ]
  },
  {
   "cell_type": "code",
   "execution_count": 42,
   "metadata": {},
   "outputs": [],
   "source": [
    "import xgboost as xgb"
   ]
  },
  {
   "cell_type": "code",
   "execution_count": 43,
   "metadata": {},
   "outputs": [
    {
     "data": {
      "text/plain": [
       "XGBClassifier(base_score=0.5, booster='gbtree', colsample_bylevel=1,\n",
       "              colsample_bynode=1, colsample_bytree=1, gamma=0, gpu_id=-1,\n",
       "              importance_type='gain', interaction_constraints='',\n",
       "              learning_rate=0.2, max_delta_step=0, max_depth=5,\n",
       "              min_child_weight=1, missing=nan, monotone_constraints='()',\n",
       "              n_estimators=1000, n_jobs=-1, num_parallel_tree=1,\n",
       "              objective='binary:logistic', random_state=10, reg_alpha=0,\n",
       "              reg_lambda=1, scale_pos_weight=1, subsample=1,\n",
       "              tree_method='exact', validate_parameters=1, verbosity=None)"
      ]
     },
     "execution_count": 43,
     "metadata": {},
     "output_type": "execute_result"
    }
   ],
   "source": [
    "xg_clf=xgb.XGBClassifier(max_depth=5,n_estimators=1000,learning_rate=.2,n_jobs=-1,random_state=10)\n",
    "xg_clf.fit(x_tr,y_tr)"
   ]
  },
  {
   "cell_type": "code",
   "execution_count": 44,
   "metadata": {},
   "outputs": [],
   "source": [
    "y_xg_pred=xg_clf.predict(x_te)"
   ]
  },
  {
   "cell_type": "code",
   "execution_count": 45,
   "metadata": {},
   "outputs": [
    {
     "data": {
      "text/plain": [
       "XGBClassifier(base_score=0.5, booster='gbtree', colsample_bylevel=1,\n",
       "              colsample_bynode=1, colsample_bytree=1, gamma=0, gpu_id=-1,\n",
       "              importance_type='gain', interaction_constraints='',\n",
       "              learning_rate=0.2, max_delta_step=0, max_depth=5,\n",
       "              min_child_weight=1, missing=nan, monotone_constraints='()',\n",
       "              n_estimators=1000, n_jobs=-1, num_parallel_tree=1,\n",
       "              objective='binary:logistic', random_state=10, reg_alpha=0,\n",
       "              reg_lambda=1, scale_pos_weight=1, subsample=1,\n",
       "              tree_method='exact', validate_parameters=1, verbosity=None)"
      ]
     },
     "execution_count": 45,
     "metadata": {},
     "output_type": "execute_result"
    }
   ],
   "source": [
    "xg1=xgb.XGBClassifier(max_depth=5,n_estimators=1000,learning_rate=.2,n_jobs=-1,random_state=10)\n",
    "xg1.fit(x1_tr,y1_tr)"
   ]
  },
  {
   "cell_type": "code",
   "execution_count": 52,
   "metadata": {},
   "outputs": [],
   "source": [
    "y1_xg_pred=xg1.predict(x1_te)"
   ]
  },
  {
   "cell_type": "markdown",
   "metadata": {},
   "source": [
    "### y_xg_pred contains the predicted values of test data using xg boost classifier"
   ]
  },
  {
   "cell_type": "markdown",
   "metadata": {},
   "source": [
    "# Performance"
   ]
  },
  {
   "cell_type": "code",
   "execution_count": 59,
   "metadata": {},
   "outputs": [],
   "source": [
    "from sklearn.metrics import accuracy_score,f1_score,precision_score,recall_score,roc_auc_score"
   ]
  },
  {
   "cell_type": "markdown",
   "metadata": {},
   "source": [
    "## 1. Decision tree"
   ]
  },
  {
   "cell_type": "markdown",
   "metadata": {},
   "source": [
    "#### Stratified"
   ]
  },
  {
   "cell_type": "code",
   "execution_count": 47,
   "metadata": {},
   "outputs": [
    {
     "name": "stdout",
     "output_type": "stream",
     "text": [
      "Accuracy Score = 0.7420322459692539, f1_score = 0.7712765957446809, roc_auc_score = 0.779954989493015, precision score = 0.926887734718338, recall score = 0.6604042129234273\n"
     ]
    }
   ],
   "source": [
    "print(f'Accuracy Score = {accuracy_score(y_te,y_dt_pred)}, f1_score = {f1_score(y_te,y_dt_pred)}, roc_auc_score = {roc_auc_score(y_te,y_dt_pred)}, precision score = {precision_score(y_te,y_dt_pred)}, recall score = {recall_score(y_te,y_dt_pred)}')"
   ]
  },
  {
   "cell_type": "markdown",
   "metadata": {},
   "source": [
    "#### Unstratified"
   ]
  },
  {
   "cell_type": "code",
   "execution_count": 48,
   "metadata": {},
   "outputs": [
    {
     "name": "stdout",
     "output_type": "stream",
     "text": [
      "Accuracy Score = 0.739220097487814, f1_score = 0.7798005382301725, roc_auc_score = 0.7571725511571002, precision score = 0.8790149892933619, recall score = 0.7007112375533429\n"
     ]
    }
   ],
   "source": [
    "print(f'Accuracy Score = {accuracy_score(y1_te,y1_dt_pred)}, f1_score = {f1_score(y1_te,y1_dt_pred)}, roc_auc_score = {roc_auc_score(y1_te,y1_dt_pred)}, precision score = {precision_score(y1_te,y1_dt_pred)}, recall score = {recall_score(y1_te,y1_dt_pred)}')"
   ]
  },
  {
   "cell_type": "markdown",
   "metadata": {},
   "source": [
    "## 2. Random forest"
   ]
  },
  {
   "cell_type": "markdown",
   "metadata": {},
   "source": [
    "#### Stratified"
   ]
  },
  {
   "cell_type": "code",
   "execution_count": 49,
   "metadata": {},
   "outputs": [
    {
     "name": "stdout",
     "output_type": "stream",
     "text": [
      "Accuracy Score = 0.7377202849643795, f1_score = 0.7936273786694202, roc_auc_score = 0.7247087893355393, precision_score = 0.8236374770361298, recall_score = 0.7657272986051807\n"
     ]
    }
   ],
   "source": [
    "print(f'Accuracy Score = {accuracy_score(y_te,y_rf_pred)}, f1_score = {f1_score(y_te,y_rf_pred)}, roc_auc_score = {roc_auc_score(y_te,y_rf_pred)}, precision_score = {precision_score(y_te,y_rf_pred)}, recall_score = {recall_score(y_te,y_rf_pred)}')"
   ]
  },
  {
   "cell_type": "markdown",
   "metadata": {},
   "source": [
    "#### Unstratified"
   ]
  },
  {
   "cell_type": "code",
   "execution_count": 50,
   "metadata": {},
   "outputs": [
    {
     "name": "stdout",
     "output_type": "stream",
     "text": [
      "Accuracy Score = 0.7399700037495313, f1_score = 0.794060876020787, roc_auc_score = 0.7302873806360396, precision_score = 0.8304347826086956, recall_score = 0.7607396870554766\n"
     ]
    }
   ],
   "source": [
    "print(f'Accuracy Score = {accuracy_score(y1_te,y1_rf_pred)}, f1_score = {f1_score(y1_te,y1_rf_pred)}, roc_auc_score = {roc_auc_score(y1_te,y1_rf_pred)}, precision_score = {precision_score(y1_te,y1_rf_pred)}, recall_score = {recall_score(y1_te,y1_rf_pred)}')"
   ]
  },
  {
   "cell_type": "markdown",
   "metadata": {},
   "source": [
    "## 3. XG boost"
   ]
  },
  {
   "cell_type": "markdown",
   "metadata": {},
   "source": [
    "#### Stratified"
   ]
  },
  {
   "cell_type": "code",
   "execution_count": 51,
   "metadata": {},
   "outputs": [
    {
     "name": "stdout",
     "output_type": "stream",
     "text": [
      "Accuracy Score = 0.677352830896138, f1_score = 0.7519815535379738, roc_auc_score = 0.6470077485789426, precision_score = 0.7615294804436661, recall_score = 0.7426700825505266\n"
     ]
    }
   ],
   "source": [
    "print(f'Accuracy Score = {accuracy_score(y_te,y_xg_pred)}, f1_score = {f1_score(y_te,y_xg_pred)}, roc_auc_score = {roc_auc_score(y_te,y_xg_pred)}, precision_score = {precision_score(y_te,y_xg_pred)}, recall_score = {recall_score(y_te,y_xg_pred)}')"
   ]
  },
  {
   "cell_type": "markdown",
   "metadata": {},
   "source": [
    "#### Unstratified"
   ]
  },
  {
   "cell_type": "code",
   "execution_count": 52,
   "metadata": {},
   "outputs": [
    {
     "name": "stdout",
     "output_type": "stream",
     "text": [
      "Accuracy Score = 0.6662917135358081, f1_score = 0.7415795586527294, roc_auc_score = 0.6381764479099625, precision_score = 0.7571894455973911, recall_score = 0.7266002844950213\n"
     ]
    }
   ],
   "source": [
    "print(f'Accuracy Score = {accuracy_score(y1_te,y1_xg_pred)}, f1_score = {f1_score(y1_te,y1_xg_pred)}, roc_auc_score = {roc_auc_score(y1_te,y1_xg_pred)}, precision_score = {precision_score(y1_te,y1_xg_pred)}, recall_score = {recall_score(y1_te,y1_xg_pred)}')"
   ]
  },
  {
   "cell_type": "markdown",
   "metadata": {},
   "source": [
    "# Grid search"
   ]
  },
  {
   "cell_type": "code",
   "execution_count": 53,
   "metadata": {},
   "outputs": [],
   "source": [
    "from sklearn.model_selection import GridSearchCV"
   ]
  },
  {
   "cell_type": "markdown",
   "metadata": {},
   "source": [
    "## 1. Random forest"
   ]
  },
  {
   "cell_type": "code",
   "execution_count": 54,
   "metadata": {},
   "outputs": [],
   "source": [
    "rf_gs=RandomForestClassifier(random_state=10)"
   ]
  },
  {
   "cell_type": "markdown",
   "metadata": {},
   "source": [
    "#### exp-1"
   ]
  },
  {
   "cell_type": "code",
   "execution_count": 68,
   "metadata": {},
   "outputs": [],
   "source": [
    "param_grid_rf={'n_estimators':[250,500,1000,1500,2000],'max_features':[3,4,5,6,7],'min_samples_split':[3,5,7]}"
   ]
  },
  {
   "cell_type": "code",
   "execution_count": 69,
   "metadata": {},
   "outputs": [],
   "source": [
    "rf_grid=GridSearchCV(rf_gs,param_grid_rf,n_jobs=-1,cv=5,scoring='roc_auc')"
   ]
  },
  {
   "cell_type": "code",
   "execution_count": 70,
   "metadata": {},
   "outputs": [
    {
     "data": {
      "text/plain": [
       "GridSearchCV(cv=5, error_score='raise-deprecating',\n",
       "             estimator=RandomForestClassifier(bootstrap=True, class_weight=None,\n",
       "                                              criterion='gini', max_depth=None,\n",
       "                                              max_features='auto',\n",
       "                                              max_leaf_nodes=None,\n",
       "                                              min_impurity_decrease=0.0,\n",
       "                                              min_impurity_split=None,\n",
       "                                              min_samples_leaf=1,\n",
       "                                              min_samples_split=2,\n",
       "                                              min_weight_fraction_leaf=0.0,\n",
       "                                              n_estimators='warn', n_jobs=None,\n",
       "                                              oob_score=False, random_state=10,\n",
       "                                              verbose=0, warm_start=False),\n",
       "             iid='warn', n_jobs=-1,\n",
       "             param_grid={'max_features': [3, 4, 5, 6, 7],\n",
       "                         'min_samples_split': [3, 5, 7],\n",
       "                         'n_estimators': [250, 500, 1000, 1500, 2000]},\n",
       "             pre_dispatch='2*n_jobs', refit=True, return_train_score=False,\n",
       "             scoring='roc_auc', verbose=0)"
      ]
     },
     "execution_count": 70,
     "metadata": {},
     "output_type": "execute_result"
    }
   ],
   "source": [
    "rf_grid.fit(x_tr,y_tr)"
   ]
  },
  {
   "cell_type": "code",
   "execution_count": 71,
   "metadata": {},
   "outputs": [
    {
     "data": {
      "text/plain": [
       "{'max_features': 7, 'min_samples_split': 7, 'n_estimators': 1000}"
      ]
     },
     "execution_count": 71,
     "metadata": {},
     "output_type": "execute_result"
    }
   ],
   "source": [
    "rf_grid.best_params_"
   ]
  },
  {
   "cell_type": "code",
   "execution_count": 72,
   "metadata": {},
   "outputs": [],
   "source": [
    "rf_best=rf_grid.best_estimator_"
   ]
  },
  {
   "cell_type": "code",
   "execution_count": 75,
   "metadata": {},
   "outputs": [
    {
     "name": "stdout",
     "output_type": "stream",
     "text": [
      "roc_auc_score of grid search random forest model on training set is 0.9524527112566817\n"
     ]
    }
   ],
   "source": [
    "print(f'roc_auc_score of grid search random forest model on training set is {roc_auc_score(y_tr,rf_best.predict(x_tr))}')"
   ]
  },
  {
   "cell_type": "code",
   "execution_count": 78,
   "metadata": {},
   "outputs": [
    {
     "name": "stdout",
     "output_type": "stream",
     "text": [
      "Accuracy Score = 0.6601049868766404, f1_score = 0.7381949458483755, roc_auc_score = 0.6287559364112866, precision_score = 0.7491207502930832, recall_score = 0.7275832621690862\n"
     ]
    }
   ],
   "source": [
    "print(f'Accuracy Score = {accuracy_score(y_te,rf_best.predict(x_te))}, f1_score = {f1_score(y_te,rf_best.predict(x_te))}, roc_auc_score = {roc_auc_score(y_te,rf_best.predict(x_te))}, precision_score = {precision_score(y_te,rf_best.predict(x_te))}, recall_score = {recall_score(y_te,rf_best.predict(x_te))}')"
   ]
  },
  {
   "cell_type": "markdown",
   "metadata": {},
   "source": [
    "#### exp-2"
   ]
  },
  {
   "cell_type": "code",
   "execution_count": 79,
   "metadata": {},
   "outputs": [],
   "source": [
    "param_grid_rf1={'n_estimators':[500,1000,1500],'max_features':[4,5,6],'min_samples_split':[5,7,8]}"
   ]
  },
  {
   "cell_type": "code",
   "execution_count": 80,
   "metadata": {},
   "outputs": [],
   "source": [
    "rf_grid1=GridSearchCV(rf_gs,param_grid_rf1,n_jobs=-1,cv=5,scoring='roc_auc')"
   ]
  },
  {
   "cell_type": "code",
   "execution_count": 81,
   "metadata": {},
   "outputs": [
    {
     "data": {
      "text/plain": [
       "GridSearchCV(cv=5, error_score='raise-deprecating',\n",
       "             estimator=RandomForestClassifier(bootstrap=True, class_weight=None,\n",
       "                                              criterion='gini', max_depth=None,\n",
       "                                              max_features='auto',\n",
       "                                              max_leaf_nodes=None,\n",
       "                                              min_impurity_decrease=0.0,\n",
       "                                              min_impurity_split=None,\n",
       "                                              min_samples_leaf=1,\n",
       "                                              min_samples_split=2,\n",
       "                                              min_weight_fraction_leaf=0.0,\n",
       "                                              n_estimators='warn', n_jobs=None,\n",
       "                                              oob_score=False, random_state=10,\n",
       "                                              verbose=0, warm_start=False),\n",
       "             iid='warn', n_jobs=-1,\n",
       "             param_grid={'max_features': [4, 5, 6],\n",
       "                         'min_samples_split': [5, 7, 8],\n",
       "                         'n_estimators': [500, 1000, 1500]},\n",
       "             pre_dispatch='2*n_jobs', refit=True, return_train_score=False,\n",
       "             scoring='roc_auc', verbose=0)"
      ]
     },
     "execution_count": 81,
     "metadata": {},
     "output_type": "execute_result"
    }
   ],
   "source": [
    "rf_grid1.fit(x_tr,y_tr)"
   ]
  },
  {
   "cell_type": "code",
   "execution_count": 85,
   "metadata": {},
   "outputs": [
    {
     "data": {
      "text/plain": [
       "{'max_features': 6, 'min_samples_split': 8, 'n_estimators': 500}"
      ]
     },
     "execution_count": 85,
     "metadata": {},
     "output_type": "execute_result"
    }
   ],
   "source": [
    "rf_grid1.best_params_"
   ]
  },
  {
   "cell_type": "code",
   "execution_count": 83,
   "metadata": {},
   "outputs": [
    {
     "name": "stdout",
     "output_type": "stream",
     "text": [
      "RandomForestClassifier(bootstrap=True, class_weight=None, criterion='gini',\n",
      "                       max_depth=None, max_features=6, max_leaf_nodes=None,\n",
      "                       min_impurity_decrease=0.0, min_impurity_split=None,\n",
      "                       min_samples_leaf=1, min_samples_split=8,\n",
      "                       min_weight_fraction_leaf=0.0, n_estimators=500,\n",
      "                       n_jobs=None, oob_score=False, random_state=10, verbose=0,\n",
      "                       warm_start=False)\n"
     ]
    }
   ],
   "source": [
    "rf1_best=rf_grid1.best_estimator_\n",
    "print(rf1_best)"
   ]
  },
  {
   "cell_type": "code",
   "execution_count": 84,
   "metadata": {},
   "outputs": [
    {
     "name": "stdout",
     "output_type": "stream",
     "text": [
      "Accuracy Score = 0.6653543307086615, f1_score = 0.7418655097613882, roc_auc_score = 0.6352538066424028, precision_score = 0.753968253968254, recall_score = 0.7301451750640479\n"
     ]
    }
   ],
   "source": [
    "print(f'Accuracy Score = {accuracy_score(y_te,rf1_best.predict(x_te))}, f1_score = {f1_score(y_te,rf1_best.predict(x_te))}, roc_auc_score = {roc_auc_score(y_te,rf1_best.predict(x_te))}, precision_score = {precision_score(y_te,rf1_best.predict(x_te))}, recall_score = {recall_score(y_te,rf1_best.predict(x_te))}')"
   ]
  },
  {
   "cell_type": "markdown",
   "metadata": {},
   "source": [
    "#### exp-3"
   ]
  },
  {
   "cell_type": "code",
   "execution_count": 89,
   "metadata": {},
   "outputs": [],
   "source": [
    "param_grid_rf2={'n_estimators':[250,500,1000],'max_features':[3,4,5],'min_samples_split':[7,8,9]}"
   ]
  },
  {
   "cell_type": "code",
   "execution_count": 90,
   "metadata": {},
   "outputs": [],
   "source": [
    "rf_grid2=GridSearchCV(rf_gs,param_grid_rf2,n_jobs=-1,cv=5,scoring='f1')"
   ]
  },
  {
   "cell_type": "code",
   "execution_count": 91,
   "metadata": {},
   "outputs": [
    {
     "data": {
      "text/plain": [
       "GridSearchCV(cv=5, error_score='raise-deprecating',\n",
       "             estimator=RandomForestClassifier(bootstrap=True, class_weight=None,\n",
       "                                              criterion='gini', max_depth=None,\n",
       "                                              max_features='auto',\n",
       "                                              max_leaf_nodes=None,\n",
       "                                              min_impurity_decrease=0.0,\n",
       "                                              min_impurity_split=None,\n",
       "                                              min_samples_leaf=1,\n",
       "                                              min_samples_split=2,\n",
       "                                              min_weight_fraction_leaf=0.0,\n",
       "                                              n_estimators='warn', n_jobs=None,\n",
       "                                              oob_score=False, random_state=10,\n",
       "                                              verbose=0, warm_start=False),\n",
       "             iid='warn', n_jobs=-1,\n",
       "             param_grid={'max_features': [3, 4, 5],\n",
       "                         'min_samples_split': [7, 8, 9],\n",
       "                         'n_estimators': [250, 500, 1000]},\n",
       "             pre_dispatch='2*n_jobs', refit=True, return_train_score=False,\n",
       "             scoring='f1', verbose=0)"
      ]
     },
     "execution_count": 91,
     "metadata": {},
     "output_type": "execute_result"
    }
   ],
   "source": [
    "rf_grid2.fit(x_tr,y_tr)"
   ]
  },
  {
   "cell_type": "code",
   "execution_count": 92,
   "metadata": {},
   "outputs": [
    {
     "data": {
      "text/plain": [
       "{'max_features': 5, 'min_samples_split': 9, 'n_estimators': 250}"
      ]
     },
     "execution_count": 92,
     "metadata": {},
     "output_type": "execute_result"
    }
   ],
   "source": [
    "rf_grid2.best_params_"
   ]
  },
  {
   "cell_type": "code",
   "execution_count": 94,
   "metadata": {},
   "outputs": [],
   "source": [
    "rf2_best=rf_grid2.best_estimator_"
   ]
  },
  {
   "cell_type": "code",
   "execution_count": 95,
   "metadata": {},
   "outputs": [
    {
     "name": "stdout",
     "output_type": "stream",
     "text": [
      "Accuracy Score = 0.6640419947506562, f1_score = 0.741339491916859, roc_auc_score = 0.6329350480282463, precision_score = 0.7519765739385066, recall_score = 0.730999146029035\n"
     ]
    }
   ],
   "source": [
    "print(f'Accuracy Score = {accuracy_score(y_te,rf2_best.predict(x_te))}, f1_score = {f1_score(y_te,rf2_best.predict(x_te))}, roc_auc_score = {roc_auc_score(y_te,rf2_best.predict(x_te))}, precision_score = {precision_score(y_te,rf2_best.predict(x_te))}, recall_score = {recall_score(y_te,rf2_best.predict(x_te))}')"
   ]
  },
  {
   "cell_type": "markdown",
   "metadata": {},
   "source": [
    "## 2. XG boost"
   ]
  },
  {
   "cell_type": "code",
   "execution_count": 96,
   "metadata": {},
   "outputs": [],
   "source": [
    "xg_gs=xgb.XGBClassifier(n_jobs=-1,random_state=10)"
   ]
  },
  {
   "cell_type": "markdown",
   "metadata": {},
   "source": [
    "#### exp-1"
   ]
  },
  {
   "cell_type": "code",
   "execution_count": 97,
   "metadata": {},
   "outputs": [],
   "source": [
    "param_grid_xg1={'n_estimators':[250,500,1000], 'max_depth':[2,3,4], 'learning_rate':[.05,.1,.2]}"
   ]
  },
  {
   "cell_type": "code",
   "execution_count": 98,
   "metadata": {},
   "outputs": [],
   "source": [
    "xg_gs1=GridSearchCV(xg_gs,param_grid_xg1,cv=5,scoring='roc_auc')"
   ]
  },
  {
   "cell_type": "code",
   "execution_count": 99,
   "metadata": {},
   "outputs": [
    {
     "data": {
      "text/plain": [
       "GridSearchCV(cv=5, error_score='raise-deprecating',\n",
       "             estimator=XGBClassifier(base_score=None, booster=None,\n",
       "                                     colsample_bylevel=None,\n",
       "                                     colsample_bynode=None,\n",
       "                                     colsample_bytree=None, gamma=None,\n",
       "                                     gpu_id=None, importance_type='gain',\n",
       "                                     interaction_constraints=None,\n",
       "                                     learning_rate=None, max_delta_step=None,\n",
       "                                     max_depth=None, min_child_weight=None,\n",
       "                                     missing=nan, monotone_constrai...\n",
       "                                     objective='binary:logistic',\n",
       "                                     random_state=10, reg_alpha=None,\n",
       "                                     reg_lambda=None, scale_pos_weight=None,\n",
       "                                     subsample=None, tree_method=None,\n",
       "                                     validate_parameters=None, verbosity=None),\n",
       "             iid='warn', n_jobs=None,\n",
       "             param_grid={'learning_rate': [0.05, 0.1, 0.2],\n",
       "                         'max_depth': [2, 3, 4],\n",
       "                         'n_estimators': [250, 500, 1000]},\n",
       "             pre_dispatch='2*n_jobs', refit=True, return_train_score=False,\n",
       "             scoring='roc_auc', verbose=0)"
      ]
     },
     "execution_count": 99,
     "metadata": {},
     "output_type": "execute_result"
    }
   ],
   "source": [
    "xg_gs1.fit(x_tr,y_tr)"
   ]
  },
  {
   "cell_type": "code",
   "execution_count": 102,
   "metadata": {},
   "outputs": [
    {
     "data": {
      "text/plain": [
       "{'learning_rate': 0.05, 'max_depth': 3, 'n_estimators': 250}"
      ]
     },
     "execution_count": 102,
     "metadata": {},
     "output_type": "execute_result"
    }
   ],
   "source": [
    "xg_gs1.best_params_"
   ]
  },
  {
   "cell_type": "code",
   "execution_count": 104,
   "metadata": {},
   "outputs": [],
   "source": [
    "xg_gs1_best=xg_gs1.best_estimator_"
   ]
  },
  {
   "cell_type": "code",
   "execution_count": 105,
   "metadata": {},
   "outputs": [
    {
     "name": "stdout",
     "output_type": "stream",
     "text": [
      "Accuracy Score = 0.7504686914135733, f1_score = 0.7930980879838334, roc_auc_score = 0.7617620314473285, precision_score = 0.8736301369863013, recall_score = 0.726159977227441\n"
     ]
    }
   ],
   "source": [
    "print(f'Accuracy Score = {accuracy_score(y_te,xg_gs1_best.predict(x_te))}, f1_score = {f1_score(y_te,xg_gs1_best.predict(x_te))}, roc_auc_score = {roc_auc_score(y_te,xg_gs1_best.predict(x_te))}, precision_score = {precision_score(y_te,xg_gs1_best.predict(x_te))}, recall_score = {recall_score(y_te,xg_gs1_best.predict(x_te))}')"
   ]
  },
  {
   "cell_type": "markdown",
   "metadata": {},
   "source": [
    "#### exp-2"
   ]
  },
  {
   "cell_type": "code",
   "execution_count": 114,
   "metadata": {},
   "outputs": [],
   "source": [
    "xg_gs2=GridSearchCV(xg_gs,param_grid_xg1,cv=5,scoring='f1')"
   ]
  },
  {
   "cell_type": "code",
   "execution_count": 115,
   "metadata": {},
   "outputs": [
    {
     "data": {
      "text/plain": [
       "GridSearchCV(cv=5, error_score='raise-deprecating',\n",
       "             estimator=XGBClassifier(base_score=None, booster=None,\n",
       "                                     colsample_bylevel=None,\n",
       "                                     colsample_bynode=None,\n",
       "                                     colsample_bytree=None, gamma=None,\n",
       "                                     gpu_id=None, importance_type='gain',\n",
       "                                     interaction_constraints=None,\n",
       "                                     learning_rate=None, max_delta_step=None,\n",
       "                                     max_depth=None, min_child_weight=None,\n",
       "                                     missing=nan, monotone_constrai...\n",
       "                                     objective='binary:logistic',\n",
       "                                     random_state=10, reg_alpha=None,\n",
       "                                     reg_lambda=None, scale_pos_weight=None,\n",
       "                                     subsample=None, tree_method=None,\n",
       "                                     validate_parameters=None, verbosity=None),\n",
       "             iid='warn', n_jobs=None,\n",
       "             param_grid={'learning_rate': [0.05, 0.1, 0.2],\n",
       "                         'max_depth': [2, 3, 4],\n",
       "                         'n_estimators': [250, 500, 1000]},\n",
       "             pre_dispatch='2*n_jobs', refit=True, return_train_score=False,\n",
       "             scoring='f1', verbose=0)"
      ]
     },
     "execution_count": 115,
     "metadata": {},
     "output_type": "execute_result"
    }
   ],
   "source": [
    "xg_gs2.fit(x_tr,y_tr)"
   ]
  },
  {
   "cell_type": "code",
   "execution_count": 116,
   "metadata": {},
   "outputs": [
    {
     "data": {
      "text/plain": [
       "{'learning_rate': 0.05, 'max_depth': 2, 'n_estimators': 250}"
      ]
     },
     "execution_count": 116,
     "metadata": {},
     "output_type": "execute_result"
    }
   ],
   "source": [
    "xg_gs2.best_params_"
   ]
  },
  {
   "cell_type": "code",
   "execution_count": 117,
   "metadata": {},
   "outputs": [],
   "source": [
    "xg_gs2_best=xg_gs2.best_estimator_"
   ]
  },
  {
   "cell_type": "code",
   "execution_count": 118,
   "metadata": {},
   "outputs": [
    {
     "name": "stdout",
     "output_type": "stream",
     "text": [
      "Accuracy Score = 0.7422197225346832, f1_score = 0.796266113498296, roc_auc_score = 0.7316953129140014, precision_score = 0.8303461063040791, recall_score = 0.7648733276401936\n"
     ]
    }
   ],
   "source": [
    "print(f'Accuracy Score = {accuracy_score(y_te,xg_gs2_best.predict(x_te))}, f1_score = {f1_score(y_te,xg_gs2_best.predict(x_te))}, roc_auc_score = {roc_auc_score(y_te,xg_gs2_best.predict(x_te))}, precision_score = {precision_score(y_te,xg_gs2_best.predict(x_te))}, recall_score = {recall_score(y_te,xg_gs2_best.predict(x_te))}')"
   ]
  },
  {
   "cell_type": "code",
   "execution_count": null,
   "metadata": {},
   "outputs": [],
   "source": []
  }
 ],
 "metadata": {
  "kernelspec": {
   "display_name": "Python 3",
   "language": "python",
   "name": "python3"
  },
  "language_info": {
   "codemirror_mode": {
    "name": "ipython",
    "version": 3
   },
   "file_extension": ".py",
   "mimetype": "text/x-python",
   "name": "python",
   "nbconvert_exporter": "python",
   "pygments_lexer": "ipython3",
   "version": "3.7.4"
  }
 },
 "nbformat": 4,
 "nbformat_minor": 2
}
