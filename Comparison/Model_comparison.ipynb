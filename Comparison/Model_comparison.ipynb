{
 "cells": [
  {
   "cell_type": "code",
   "execution_count": 1,
   "metadata": {},
   "outputs": [],
   "source": [
    "import pandas as pd"
   ]
  },
  {
   "cell_type": "code",
   "execution_count": 2,
   "metadata": {
    "collapsed": true
   },
   "outputs": [
    {
     "name": "stdout",
     "output_type": "stream",
     "text": [
      "<class 'pandas.core.frame.DataFrame'>\n",
      "RangeIndex: 16162 entries, 0 to 16161\n",
      "Data columns (total 11 columns):\n",
      "Unnamed: 0               16162 non-null int64\n",
      "ID                       16162 non-null int64\n",
      "Type                     16162 non-null object\n",
      "event_timestamp          16162 non-null int64\n",
      "event_label              16162 non-null object\n",
      "log_timestamp            16162 non-null int64\n",
      "log_reading_1            15848 non-null float64\n",
      "log_reading_2            15883 non-null object\n",
      "log_reading_3            15843 non-null float64\n",
      "log_reading_4            16162 non-null int64\n",
      "warranty_service_flag    1389 non-null object\n",
      "dtypes: float64(2), int64(5), object(4)\n",
      "memory usage: 1.4+ MB\n"
     ]
    }
   ],
   "source": [
    "df=pd.read_csv('C:/Users/udipt/Desktop/Websoft/Assignment/DataScienceCaseStudy/dataSample.csv')\n",
    "df.info()"
   ]
  },
  {
   "cell_type": "markdown",
   "metadata": {},
   "source": [
    "# Preprocessing"
   ]
  },
  {
   "cell_type": "code",
   "execution_count": 3,
   "metadata": {},
   "outputs": [
    {
     "data": {
      "text/plain": [
       "Index(['sl_number', 'ID', 'event_timestamp', 'log_timestamp', 'log_reading_1',\n",
       "       'log_reading_3', 'log_reading_4', 'Type_TypeA', 'Type_TypeB',\n",
       "       'event_label_activate', 'event_label_break', 'log_reading_2_a',\n",
       "       'log_reading_2_b', 'log_reading_2_c', 'warranty_service_flag_n',\n",
       "       'warranty_service_flag_y'],\n",
       "      dtype='object')"
      ]
     },
     "execution_count": 3,
     "metadata": {},
     "output_type": "execute_result"
    }
   ],
   "source": [
    "df=pd.get_dummies(df)\n",
    "df=df.rename(columns={'Unnamed: 0':'sl_number'})\n",
    "df.columns"
   ]
  },
  {
   "cell_type": "code",
   "execution_count": 4,
   "metadata": {},
   "outputs": [
    {
     "name": "stdout",
     "output_type": "stream",
     "text": [
      "<class 'pandas.core.frame.DataFrame'>\n",
      "RangeIndex: 16162 entries, 0 to 16161\n",
      "Data columns (total 14 columns):\n",
      "sl_number                  16162 non-null int64\n",
      "ID                         16162 non-null int64\n",
      "event_timestamp            16162 non-null int64\n",
      "log_timestamp              16162 non-null int64\n",
      "log_reading_1              15848 non-null float64\n",
      "log_reading_3              15843 non-null float64\n",
      "log_reading_4              16162 non-null int64\n",
      "Type_TypeA                 16162 non-null uint8\n",
      "Type_TypeB                 16162 non-null uint8\n",
      "event_label_break          16162 non-null uint8\n",
      "log_reading_2_a            16162 non-null uint8\n",
      "log_reading_2_b            16162 non-null uint8\n",
      "log_reading_2_c            16162 non-null uint8\n",
      "warranty_service_flag_y    16162 non-null uint8\n",
      "dtypes: float64(2), int64(5), uint8(7)\n",
      "memory usage: 994.5 KB\n"
     ]
    }
   ],
   "source": [
    "df=df.drop(columns=['event_label_activate','warranty_service_flag_n'],axis=1)\n",
    "df.info()"
   ]
  },
  {
   "cell_type": "code",
   "execution_count": 5,
   "metadata": {},
   "outputs": [
    {
     "name": "stdout",
     "output_type": "stream",
     "text": [
      "<class 'pandas.core.frame.DataFrame'>\n",
      "RangeIndex: 16162 entries, 0 to 16161\n",
      "Data columns (total 14 columns):\n",
      "sl_number                  16162 non-null int64\n",
      "ID                         16162 non-null int64\n",
      "event_timestamp            16162 non-null int64\n",
      "log_timestamp              16162 non-null int64\n",
      "log_reading_1              16162 non-null float64\n",
      "log_reading_3              16162 non-null float64\n",
      "log_reading_4              16162 non-null int64\n",
      "Type_TypeA                 16162 non-null uint8\n",
      "Type_TypeB                 16162 non-null uint8\n",
      "event_label_break          16162 non-null uint8\n",
      "log_reading_2_a            16162 non-null uint8\n",
      "log_reading_2_b            16162 non-null uint8\n",
      "log_reading_2_c            16162 non-null uint8\n",
      "warranty_service_flag_y    16162 non-null uint8\n",
      "dtypes: float64(2), int64(5), uint8(7)\n",
      "memory usage: 994.5 KB\n"
     ]
    }
   ],
   "source": [
    "df['log_reading_1'].fillna(df['log_reading_1'].median(),inplace=True)\n",
    "df['log_reading_3'].fillna(df['log_reading_3'].median(),inplace=True)\n",
    "df.info()"
   ]
  },
  {
   "cell_type": "markdown",
   "metadata": {},
   "source": [
    "# Train test split"
   ]
  },
  {
   "cell_type": "code",
   "execution_count": 6,
   "metadata": {},
   "outputs": [
    {
     "name": "stdout",
     "output_type": "stream",
     "text": [
      "The data has 34.14800148496473% of positive points\n"
     ]
    }
   ],
   "source": [
    "x=df.drop(columns=['event_label_break'],axis=1)\n",
    "y=df['event_label_break']\n",
    "print(f'The data has {y.mean()*100}% of positive points')"
   ]
  },
  {
   "cell_type": "code",
   "execution_count": 7,
   "metadata": {},
   "outputs": [
    {
     "name": "stdout",
     "output_type": "stream",
     "text": [
      "(10828, 13) (5334, 13) (10828,) (5334,)\n",
      "Training set has 34.152198005171776% positive points and test sets 34.13948256467941% of positive points\n"
     ]
    }
   ],
   "source": [
    "from sklearn.model_selection import train_test_split\n",
    "x_tr,x_te,y_tr,y_te=train_test_split(x,y,stratify=y,test_size=.33,random_state=10)\n",
    "print(x_tr.shape,x_te.shape,y_tr.shape,y_te.shape)\n",
    "print(f'Training set has {y_tr.mean()*100}% positive points and test sets {y_te.mean()*100}% of positive points')"
   ]
  },
  {
   "cell_type": "markdown",
   "metadata": {},
   "source": [
    "# Decision tree"
   ]
  },
  {
   "cell_type": "code",
   "execution_count": 14,
   "metadata": {},
   "outputs": [],
   "source": [
    "from sklearn.tree import DecisionTreeClassifier"
   ]
  },
  {
   "cell_type": "code",
   "execution_count": 15,
   "metadata": {},
   "outputs": [],
   "source": [
    "from sklearn.model_selection import GridSearchCV"
   ]
  },
  {
   "cell_type": "code",
   "execution_count": 45,
   "metadata": {},
   "outputs": [
    {
     "data": {
      "text/plain": [
       "DecisionTreeClassifier(class_weight=None, criterion='gini', max_depth=None,\n",
       "                       max_features=None, max_leaf_nodes=None,\n",
       "                       min_impurity_decrease=0.0, min_impurity_split=None,\n",
       "                       min_samples_leaf=1, min_samples_split=2,\n",
       "                       min_weight_fraction_leaf=0.0, presort=False,\n",
       "                       random_state=10, splitter='best')"
      ]
     },
     "execution_count": 45,
     "metadata": {},
     "output_type": "execute_result"
    }
   ],
   "source": [
    "dt=DecisionTreeClassifier(random_state=10)\n",
    "dt.fit(x_tr,y_tr)"
   ]
  },
  {
   "cell_type": "code",
   "execution_count": 46,
   "metadata": {},
   "outputs": [],
   "source": [
    "pgd={'max_depth':range(3,10),'min_samples_split':range(2,6),'max_features':['sqrt','log2',None]}\n",
    "dt_cv=GridSearchCV(dt,pgd,cv=5,scoring='roc_auc',n_jobs=-1)"
   ]
  },
  {
   "cell_type": "code",
   "execution_count": 47,
   "metadata": {},
   "outputs": [
    {
     "data": {
      "text/plain": [
       "GridSearchCV(cv=5, error_score='raise-deprecating',\n",
       "             estimator=DecisionTreeClassifier(class_weight=None,\n",
       "                                              criterion='gini', max_depth=None,\n",
       "                                              max_features=None,\n",
       "                                              max_leaf_nodes=None,\n",
       "                                              min_impurity_decrease=0.0,\n",
       "                                              min_impurity_split=None,\n",
       "                                              min_samples_leaf=1,\n",
       "                                              min_samples_split=2,\n",
       "                                              min_weight_fraction_leaf=0.0,\n",
       "                                              presort=False, random_state=10,\n",
       "                                              splitter='best'),\n",
       "             iid='warn', n_jobs=-1,\n",
       "             param_grid={'max_depth': range(3, 10),\n",
       "                         'max_features': ['sqrt', 'log2', None],\n",
       "                         'min_samples_split': range(2, 6)},\n",
       "             pre_dispatch='2*n_jobs', refit=True, return_train_score=False,\n",
       "             scoring='roc_auc', verbose=0)"
      ]
     },
     "execution_count": 47,
     "metadata": {},
     "output_type": "execute_result"
    }
   ],
   "source": [
    "dt_cv.fit(x_tr,y_tr)"
   ]
  },
  {
   "cell_type": "code",
   "execution_count": 48,
   "metadata": {},
   "outputs": [
    {
     "name": "stdout",
     "output_type": "stream",
     "text": [
      "Best parameters are {'max_depth': 5, 'max_features': None, 'min_samples_split': 2}, and the best score is 0.8141247911428451\n"
     ]
    }
   ],
   "source": [
    "print(f'Best parameters are {dt_cv.best_params_}, and the best score is {dt_cv.best_score_}')"
   ]
  },
  {
   "cell_type": "code",
   "execution_count": 49,
   "metadata": {},
   "outputs": [],
   "source": [
    "dt_best=dt_cv.best_estimator_"
   ]
  },
  {
   "cell_type": "code",
   "execution_count": 50,
   "metadata": {},
   "outputs": [
    {
     "name": "stdout",
     "output_type": "stream",
     "text": [
      "Decision tree without grid search predicted 34.15823022122235% points as positive in test data\n"
     ]
    }
   ],
   "source": [
    "yd1_prob=dt.predict_proba(x_te)\n",
    "yd1_pred=dt.predict(x_te)\n",
    "print(f'Decision tree without grid search predicted {yd1_pred.mean()*100}% points as positive in test data')"
   ]
  },
  {
   "cell_type": "code",
   "execution_count": 51,
   "metadata": {},
   "outputs": [
    {
     "name": "stdout",
     "output_type": "stream",
     "text": [
      "Decision tree predicted 49.08136482939632% points as positive in test data\n"
     ]
    }
   ],
   "source": [
    "ydt_prob=dt_best.predict_proba(x_te)\n",
    "ydt_pred=dt_best.predict(x_te)\n",
    "print(f'Decision tree predicted {ydt_pred.mean()*100}% points as positive in test data')"
   ]
  },
  {
   "cell_type": "markdown",
   "metadata": {},
   "source": [
    "# Random forest"
   ]
  },
  {
   "cell_type": "code",
   "execution_count": 8,
   "metadata": {},
   "outputs": [],
   "source": [
    "from sklearn.ensemble import RandomForestClassifier"
   ]
  },
  {
   "cell_type": "code",
   "execution_count": 81,
   "metadata": {},
   "outputs": [
    {
     "name": "stderr",
     "output_type": "stream",
     "text": [
      "C:\\Users\\udipt\\Anaconda3\\lib\\site-packages\\sklearn\\ensemble\\forest.py:245: FutureWarning: The default value of n_estimators will change from 10 in version 0.20 to 100 in 0.22.\n",
      "  \"10 in version 0.20 to 100 in 0.22.\", FutureWarning)\n"
     ]
    },
    {
     "data": {
      "text/plain": [
       "RandomForestClassifier(bootstrap=True, class_weight=None, criterion='gini',\n",
       "                       max_depth=None, max_features='auto', max_leaf_nodes=None,\n",
       "                       min_impurity_decrease=0.0, min_impurity_split=None,\n",
       "                       min_samples_leaf=1, min_samples_split=2,\n",
       "                       min_weight_fraction_leaf=0.0, n_estimators=10, n_jobs=-1,\n",
       "                       oob_score=False, random_state=10, verbose=0,\n",
       "                       warm_start=False)"
      ]
     },
     "execution_count": 81,
     "metadata": {},
     "output_type": "execute_result"
    }
   ],
   "source": [
    "rf=RandomForestClassifier(n_jobs=-1, random_state=10)\n",
    "rf.fit(x_tr,y_tr)"
   ]
  },
  {
   "cell_type": "code",
   "execution_count": 91,
   "metadata": {},
   "outputs": [
    {
     "data": {
      "text/plain": [
       "GridSearchCV(cv=5, error_score='raise-deprecating',\n",
       "             estimator=RandomForestClassifier(bootstrap=True, class_weight=None,\n",
       "                                              criterion='gini', max_depth=None,\n",
       "                                              max_features='auto',\n",
       "                                              max_leaf_nodes=None,\n",
       "                                              min_impurity_decrease=0.0,\n",
       "                                              min_impurity_split=None,\n",
       "                                              min_samples_leaf=1,\n",
       "                                              min_samples_split=2,\n",
       "                                              min_weight_fraction_leaf=0.0,\n",
       "                                              n_estimators=10, n_jobs=-1,\n",
       "                                              oob_score=False, random_state=10,\n",
       "                                              verbose=0, warm_start=False),\n",
       "             iid='warn', n_jobs=-1,\n",
       "             param_grid={'max_features': ['sqrt', None],\n",
       "                         'n_estimators': range(50, 351, 50)},\n",
       "             pre_dispatch='2*n_jobs', refit=True, return_train_score=False,\n",
       "             scoring='roc_auc', verbose=0)"
      ]
     },
     "execution_count": 91,
     "metadata": {},
     "output_type": "execute_result"
    }
   ],
   "source": [
    "pgr={'max_features':['sqrt',None], 'n_estimators':range(50,351,50)}\n",
    "rf_cv=GridSearchCV(rf,pgr,cv=5,scoring='roc_auc',n_jobs=-1)\n",
    "rf_cv.fit(x_tr,y_tr)"
   ]
  },
  {
   "cell_type": "code",
   "execution_count": 92,
   "metadata": {},
   "outputs": [
    {
     "name": "stdout",
     "output_type": "stream",
     "text": [
      "Best parameters after grid search are {'max_features': None, 'n_estimators': 100} and best score is 0.7520188902755699\n"
     ]
    }
   ],
   "source": [
    "print(f'Best parameters after grid search are {rf_cv.best_params_} and best score is {rf_cv.best_score_}')"
   ]
  },
  {
   "cell_type": "code",
   "execution_count": 93,
   "metadata": {},
   "outputs": [],
   "source": [
    "rf_best=rf_cv.best_estimator_"
   ]
  },
  {
   "cell_type": "code",
   "execution_count": 94,
   "metadata": {},
   "outputs": [
    {
     "name": "stdout",
     "output_type": "stream",
     "text": [
      "Random forest without grid search predicted 29.977502812148483% points as positive in test data\n"
     ]
    }
   ],
   "source": [
    "yr1_prob=rf.predict_proba(x_te)\n",
    "yr1_pred=rf.predict(x_te)\n",
    "print(f'Random forest without grid search predicted {yr1_pred.mean()*100}% points as positive in test data')"
   ]
  },
  {
   "cell_type": "code",
   "execution_count": 189,
   "metadata": {},
   "outputs": [
    {
     "name": "stdout",
     "output_type": "stream",
     "text": [
      "Random forest with grid search predicted 35.470566179227596% points as positive in test data\n"
     ]
    }
   ],
   "source": [
    "yrf_prob=rf_best.predict_proba(x_te)\n",
    "yrf_pred=rf_best.predict(x_te)\n",
    "print(f'Random forest with grid search predicted {yrf_pred.mean()*100}% points as positive in test data')"
   ]
  },
  {
   "cell_type": "markdown",
   "metadata": {},
   "source": [
    "# XGboost"
   ]
  },
  {
   "cell_type": "code",
   "execution_count": 68,
   "metadata": {},
   "outputs": [],
   "source": [
    "from xgboost import XGBClassifier"
   ]
  },
  {
   "cell_type": "code",
   "execution_count": 180,
   "metadata": {},
   "outputs": [
    {
     "data": {
      "text/plain": [
       "XGBClassifier(base_score=0.5, booster='gbtree', colsample_bylevel=1,\n",
       "              colsample_bynode=1, colsample_bytree=1, gamma=0, gpu_id=-1,\n",
       "              importance_type='gain', interaction_constraints='',\n",
       "              learning_rate=0.300000012, max_delta_step=0, max_depth=2,\n",
       "              min_child_weight=1, missing=nan, monotone_constraints='()',\n",
       "              n_estimators=100, n_jobs=-1, num_parallel_tree=1,\n",
       "              objective='binary:logistic', random_state=0, reg_alpha=0,\n",
       "              reg_lambda=1, scale_pos_weight=1, subsample=1,\n",
       "              tree_method='exact', validate_parameters=1, verbosity=None)"
      ]
     },
     "execution_count": 180,
     "metadata": {},
     "output_type": "execute_result"
    }
   ],
   "source": [
    "xg=XGBClassifier(max_depth=2,n_jobs=-1)\n",
    "xg.fit(x_tr,y_tr)"
   ]
  },
  {
   "cell_type": "code",
   "execution_count": 182,
   "metadata": {},
   "outputs": [
    {
     "data": {
      "text/plain": [
       "GridSearchCV(cv=5, error_score='raise-deprecating',\n",
       "             estimator=XGBClassifier(base_score=0.5, booster='gbtree',\n",
       "                                     colsample_bylevel=1, colsample_bynode=1,\n",
       "                                     colsample_bytree=1, gamma=0, gpu_id=-1,\n",
       "                                     importance_type='gain',\n",
       "                                     interaction_constraints='',\n",
       "                                     learning_rate=0.300000012,\n",
       "                                     max_delta_step=0, max_depth=2,\n",
       "                                     min_child_weight=1, missing=nan,\n",
       "                                     monotone_constraints='()',\n",
       "                                     n_esti...\n",
       "                                     num_parallel_tree=1,\n",
       "                                     objective='binary:logistic',\n",
       "                                     random_state=0, reg_alpha=0, reg_lambda=1,\n",
       "                                     scale_pos_weight=1, subsample=1,\n",
       "                                     tree_method='exact', validate_parameters=1,\n",
       "                                     verbosity=None),\n",
       "             iid='warn', n_jobs=-1,\n",
       "             param_grid={'learning_rate': [0.3, 0.35, 0.45],\n",
       "                         'scale_pos_weight': [0.51, 0.6, 0.75]},\n",
       "             pre_dispatch='2*n_jobs', refit=True, return_train_score=False,\n",
       "             scoring='roc_auc', verbose=0)"
      ]
     },
     "execution_count": 182,
     "metadata": {},
     "output_type": "execute_result"
    }
   ],
   "source": [
    "pgx={'learning_rate':[.3,.35,.45], 'scale_pos_weight':[.51,.6,.75]}\n",
    "xg_cv=GridSearchCV(xg,pgx,cv=5,scoring='roc_auc',n_jobs=-1)\n",
    "xg_cv.fit(x_tr,y_tr)"
   ]
  },
  {
   "cell_type": "code",
   "execution_count": 183,
   "metadata": {},
   "outputs": [
    {
     "name": "stdout",
     "output_type": "stream",
     "text": [
      "Best parameters after grid search are {'learning_rate': 0.3, 'scale_pos_weight': 0.75} and best score is 0.8264928767728792\n"
     ]
    }
   ],
   "source": [
    "print(f'Best parameters after grid search are {xg_cv.best_params_} and best score is {xg_cv.best_score_}')"
   ]
  },
  {
   "cell_type": "code",
   "execution_count": 184,
   "metadata": {},
   "outputs": [],
   "source": [
    "xg_best=xg_cv.best_estimator_"
   ]
  },
  {
   "cell_type": "code",
   "execution_count": 181,
   "metadata": {},
   "outputs": [
    {
     "name": "stdout",
     "output_type": "stream",
     "text": [
      "XGboost without grid search predicted 42.1822272215973% points as positive in test data\n"
     ]
    }
   ],
   "source": [
    "yx1_prob=xg.predict_proba(x_te)\n",
    "yx1_pred=xg.predict(x_te)\n",
    "print(f'XGboost without grid search predicted {yx1_pred.mean()*100}% points as positive in test data')"
   ]
  },
  {
   "cell_type": "code",
   "execution_count": 187,
   "metadata": {},
   "outputs": [
    {
     "name": "stdout",
     "output_type": "stream",
     "text": [
      "XGboost with grid search predicted 30.2212223472066% points as positive in test data\n"
     ]
    }
   ],
   "source": [
    "yxg_prob=xg_best.predict_proba(x_te)\n",
    "yxg_pred=xg_best.predict(x_te)\n",
    "print(f'XGboost with grid search predicted {yxg_pred.mean()*100}% points as positive in test data')"
   ]
  }
 ],
 "metadata": {
  "kernelspec": {
   "display_name": "Python 3",
   "language": "python",
   "name": "python3"
  },
  "language_info": {
   "codemirror_mode": {
    "name": "ipython",
    "version": 3
   },
   "file_extension": ".py",
   "mimetype": "text/x-python",
   "name": "python",
   "nbconvert_exporter": "python",
   "pygments_lexer": "ipython3",
   "version": "3.7.4"
  }
 },
 "nbformat": 4,
 "nbformat_minor": 2
}
