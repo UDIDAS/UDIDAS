{
 "cells": [
  {
   "cell_type": "code",
   "execution_count": 1,
   "metadata": {},
   "outputs": [],
   "source": [
    "import igraph\n",
    "from igraph import Graph, EdgeSeq\n",
    "nr_vertices = 25\n",
    "v_label = list(map(str, range(nr_vertices)))\n",
    "G = Graph.Tree(nr_vertices, 2) # 2 stands for children number\n",
    "lay = G.layout('rt')\n",
    "\n",
    "position = {k: lay[k] for k in range(nr_vertices)}\n",
    "Y = [lay[k][1] for k in range(nr_vertices)]\n",
    "M = max(Y)\n",
    "\n",
    "es = EdgeSeq(G) # sequence of edges\n",
    "E = [e.tuple for e in G.es] # list of edges\n",
    "\n",
    "L = len(position)\n",
    "Xn = [position[k][0] for k in range(L)]\n",
    "Yn = [2*M-position[k][1] for k in range(L)]\n",
    "Xe = []\n",
    "Ye = []\n",
    "for edge in E:\n",
    "    Xe+=[position[edge[0]][0],position[edge[1]][0], None]\n",
    "    Ye+=[2*M-position[edge[0]][1],2*M-position[edge[1]][1], None]\n",
    "\n",
    "labels = v_label"
   ]
  },
  {
   "cell_type": "code",
   "execution_count": 2,
   "metadata": {
    "collapsed": true
   },
   "outputs": [
    {
     "data": {
      "text/plain": [
       "['0',\n",
       " '1',\n",
       " '2',\n",
       " '3',\n",
       " '4',\n",
       " '5',\n",
       " '6',\n",
       " '7',\n",
       " '8',\n",
       " '9',\n",
       " '10',\n",
       " '11',\n",
       " '12',\n",
       " '13',\n",
       " '14',\n",
       " '15',\n",
       " '16',\n",
       " '17',\n",
       " '18',\n",
       " '19',\n",
       " '20',\n",
       " '21',\n",
       " '22',\n",
       " '23',\n",
       " '24']"
      ]
     },
     "execution_count": 2,
     "metadata": {},
     "output_type": "execute_result"
    }
   ],
   "source": [
    "labels"
   ]
  },
  {
   "cell_type": "code",
   "execution_count": 4,
   "metadata": {},
   "outputs": [
    {
     "name": "stdout",
     "output_type": "stream",
     "text": [
      "[-4.375, -2.625, -4.375, -1.0, -0.875, -5.375, -3.375, 0.0, 0.625, -1.875, 0.125, -5.875, -4.875, -3.875, -2.875, 0.0, 1.0, 0.125, 1.125, -2.375, -1.375, -0.375, 0.625, -6.375, -5.375]\n"
     ]
    }
   ],
   "source": [
    "print(Xn)"
   ]
  },
  {
   "cell_type": "code",
   "execution_count": 5,
   "metadata": {},
   "outputs": [
    {
     "name": "stdout",
     "output_type": "stream",
     "text": [
      "[11.0, 12.0, 10.0, 13.0, 11.0, 9.0, 9.0, 14.0, 12.0, 10.0, 10.0, 8.0, 8.0, 8.0, 8.0, 13.0, 13.0, 11.0, 11.0, 9.0, 9.0, 9.0, 9.0, 7.0, 7.0]\n"
     ]
    }
   ],
   "source": [
    "print(Yn)"
   ]
  },
  {
   "cell_type": "code",
   "execution_count": 6,
   "metadata": {
    "collapsed": true
   },
   "outputs": [
    {
     "data": {
      "text/plain": [
       "[-4.375,\n",
       " -2.625,\n",
       " None,\n",
       " -4.375,\n",
       " -4.375,\n",
       " None,\n",
       " -2.625,\n",
       " -1.0,\n",
       " None,\n",
       " -2.625,\n",
       " -0.875,\n",
       " None,\n",
       " -4.375,\n",
       " -5.375,\n",
       " None,\n",
       " -4.375,\n",
       " -3.375,\n",
       " None,\n",
       " -1.0,\n",
       " 0.0,\n",
       " None,\n",
       " -1.0,\n",
       " 0.625,\n",
       " None,\n",
       " -0.875,\n",
       " -1.875,\n",
       " None,\n",
       " -0.875,\n",
       " 0.125,\n",
       " None,\n",
       " -5.375,\n",
       " -5.875,\n",
       " None,\n",
       " -5.375,\n",
       " -4.875,\n",
       " None,\n",
       " -3.375,\n",
       " -3.875,\n",
       " None,\n",
       " -3.375,\n",
       " -2.875,\n",
       " None,\n",
       " 0.0,\n",
       " 0.0,\n",
       " None,\n",
       " 0.0,\n",
       " 1.0,\n",
       " None,\n",
       " 0.625,\n",
       " 0.125,\n",
       " None,\n",
       " 0.625,\n",
       " 1.125,\n",
       " None,\n",
       " -1.875,\n",
       " -2.375,\n",
       " None,\n",
       " -1.875,\n",
       " -1.375,\n",
       " None,\n",
       " 0.125,\n",
       " -0.375,\n",
       " None,\n",
       " 0.125,\n",
       " 0.625,\n",
       " None,\n",
       " -5.875,\n",
       " -6.375,\n",
       " None,\n",
       " -5.875,\n",
       " -5.375,\n",
       " None]"
      ]
     },
     "execution_count": 6,
     "metadata": {},
     "output_type": "execute_result"
    }
   ],
   "source": [
    "Xe"
   ]
  },
  {
   "cell_type": "code",
   "execution_count": 10,
   "metadata": {},
   "outputs": [
    {
     "data": {
      "text/plain": [
       "<igraph.EdgeSeq at 0x1ffb713d168>"
      ]
     },
     "execution_count": 10,
     "metadata": {},
     "output_type": "execute_result"
    }
   ],
   "source": [
    "es"
   ]
  },
  {
   "cell_type": "code",
   "execution_count": 9,
   "metadata": {
    "scrolled": true
   },
   "outputs": [
    {
     "data": {
      "text/plain": [
       "[(0, 1),\n",
       " (0, 2),\n",
       " (1, 3),\n",
       " (1, 4),\n",
       " (2, 5),\n",
       " (2, 6),\n",
       " (3, 7),\n",
       " (3, 8),\n",
       " (4, 9),\n",
       " (4, 10),\n",
       " (5, 11),\n",
       " (5, 12),\n",
       " (6, 13),\n",
       " (6, 14),\n",
       " (7, 15),\n",
       " (7, 16),\n",
       " (8, 17),\n",
       " (8, 18),\n",
       " (9, 19),\n",
       " (9, 20),\n",
       " (10, 21),\n",
       " (10, 22),\n",
       " (11, 23),\n",
       " (11, 24)]"
      ]
     },
     "execution_count": 9,
     "metadata": {},
     "output_type": "execute_result"
    }
   ],
   "source": [
    "E"
   ]
  }
 ],
 "metadata": {
  "kernelspec": {
   "display_name": "Python 3",
   "language": "python",
   "name": "python3"
  },
  "language_info": {
   "codemirror_mode": {
    "name": "ipython",
    "version": 3
   },
   "file_extension": ".py",
   "mimetype": "text/x-python",
   "name": "python",
   "nbconvert_exporter": "python",
   "pygments_lexer": "ipython3",
   "version": "3.7.4"
  }
 },
 "nbformat": 4,
 "nbformat_minor": 2
}
